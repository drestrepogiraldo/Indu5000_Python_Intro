{
 "cells": [
  {
   "cell_type": "markdown",
   "source": "# Tutorial Python",
   "metadata": {
    "id": "iF4HF1LmKfGX",
    "cell_id": "00000-c43d2667-a584-453a-a722-283084816f13",
    "deepnote_cell_type": "markdown"
   }
  },
  {
   "cell_type": "markdown",
   "source": "Traducido y adaptado por [Pablo Andrés Uriza](https://pa-uriza.github.io/) y Daniel Restrepo de la adaptación hecha por [Volodymyr Kuleshov](http://web.stanford.edu/~kuleshov/) y [Isaac Caswell](https://symsys.stanford.edu/viewing/symsysaffiliate/21335) para el curso `CS228`, del tutorial de Python para el curso `CS231n` hecho por Justin Johnson (http://cs231n.github.io/python-numpy-tutorial/).",
   "metadata": {
    "id": "YTh5tvnnKfGY",
    "cell_id": "00001-ed719f68-1fea-4cdf-a1e4-8b5be53e5d1a",
    "deepnote_cell_type": "markdown"
   }
  },
  {
   "cell_type": "markdown",
   "source": "## Introducción",
   "metadata": {
    "id": "oU9gnr-NKfGY",
    "cell_id": "00002-211854aa-3a17-419d-ac8e-6d4768c5e62c",
    "deepnote_cell_type": "markdown"
   }
  },
  {
   "cell_type": "markdown",
   "source": "Python es un gran lenguaje de programación de propósito general por sí solo, pero con la ayuda de algunas bibliotecas populares (numpy, scipy, matplotlib) se convierte en un poderoso entorno para la computación científica.\n\nEsta sección servirá como un curso acelerado sobre el lenguaje de programación Python y sobre el uso de Python para la computación científica.",
   "metadata": {
    "id": "a8OmB0YXKfGZ",
    "cell_id": "00003-5276a432-7aa4-4946-81e8-d6cdcdf535aa",
    "deepnote_cell_type": "markdown"
   }
  },
  {
   "cell_type": "markdown",
   "source": "En este tutorial, cubriremos:\n\n* Python básico: tipos de datos básicos (contenedores, listas, diccionarios, conjuntos, tuplas), funciones, clases\n* Numpy: matrices, indexación de matrices, tipos de datos, matemáticas de matrices, *broadcasting*\n* Matplotlib: plots, subplots",
   "metadata": {
    "id": "437_rhmxKfGZ",
    "cell_id": "00004-50205b16-78d2-434c-a053-5520db4ec21c",
    "deepnote_cell_type": "markdown"
   }
  },
  {
   "cell_type": "markdown",
   "source": "## Python básico",
   "metadata": {
    "id": "gKHItiEyKfGa",
    "cell_id": "00005-a95495de-9231-42d5-a222-cf7cb4150616",
    "deepnote_cell_type": "markdown"
   }
  },
  {
   "cell_type": "markdown",
   "source": "Python es un lenguaje de programación multiparadigma de escritura dinámica de alto nivel. A menudo se dice que el código Python es casi como un pseudocódigo, ya que le permite expresar ideas muy poderosas en muy pocas líneas de código mientras es muy legible. Como ejemplo, aquí hay una implementación del algoritmo clásico de ordenación rápida en Python:",
   "metadata": {
    "id": "UbHnjbpNKfGa",
    "cell_id": "00006-9e462f21-31db-40d2-ad46-23c15cc0412f",
    "deepnote_cell_type": "markdown"
   }
  },
  {
   "cell_type": "code",
   "metadata": {
    "id": "gIheH4BLKfGb",
    "cell_id": "00007-dd188446-eaaf-40d2-9c4b-f515e89e8721",
    "deepnote_to_be_reexecuted": false,
    "source_hash": "bcac7aa8",
    "execution_millis": 6,
    "output_cleared": false,
    "execution_start": 1614291750873,
    "deepnote_cell_type": "code"
   },
   "source": "def quicksort(arr):\n    if len(arr) <= 1:\n        return arr\n    pivot = arr[len(arr) // 2]\n    left = [x for x in arr if x < pivot]\n    middle = [x for x in arr if x == pivot]\n    right = [x for x in arr if x > pivot]\n    return quicksort(left) + middle + quicksort(right)\n\nprint(quicksort([3,6,8,10,1,2,1]))",
   "execution_count": null,
   "outputs": [
    {
     "name": "stdout",
     "text": "[1, 1, 2, 3, 6, 8, 10]\n",
     "output_type": "stream"
    }
   ]
  },
  {
   "cell_type": "markdown",
   "source": "### Versiones de Python",
   "metadata": {
    "id": "FVjUt3KAKfGe",
    "cell_id": "00008-70cfeec6-9d2a-49b9-9863-e99b9cc24e1c",
    "deepnote_cell_type": "markdown"
   }
  },
  {
   "cell_type": "markdown",
   "source": "Por mucho tiempo hubo dos versiones compatibles diferentes de Python, 2.7 y 3.X. Un tanto confuso, Python 3.0 introdujo muchos cambios incompatibles con versiones anteriores en el lenguaje, por lo que el código escrito para 2.7 puede no funcionar en 3.X y viceversa. Para esta clase, todo el código usará Python 3.7.\n\nPuede verificar su versión de Python en la línea de comando ejecutando `python --version` .:",
   "metadata": {
    "id": "Noqsn_1TKfGe",
    "cell_id": "00009-571d12f1-f476-43da-a1c8-964cff33965c",
    "deepnote_cell_type": "markdown"
   }
  },
  {
   "cell_type": "markdown",
   "source": "### Tipos de datos básicos",
   "metadata": {
    "id": "Y357ypAnKfGf",
    "cell_id": "00010-84590a60-c443-494b-8325-39c0fd07bcb2",
    "deepnote_cell_type": "markdown"
   }
  },
  {
   "cell_type": "markdown",
   "source": "#### Números",
   "metadata": {
    "id": "Ou_o10-kKfGf",
    "cell_id": "00011-d463387f-c108-410a-9395-4a5d0958612d",
    "deepnote_cell_type": "markdown"
   }
  },
  {
   "cell_type": "markdown",
   "source": "Los enteros y reales funcionan como esperaríamos de otros lenguajes:",
   "metadata": {
    "id": "WrYMUufXKfGf",
    "cell_id": "00012-0fa71226-4bca-4171-b848-9a782b239851",
    "deepnote_cell_type": "markdown"
   }
  },
  {
   "cell_type": "code",
   "metadata": {
    "id": "Y2brfN_QKfGg",
    "cell_id": "00013-6aa8cb75-80c3-4fe7-be3c-d3e711a26985",
    "deepnote_to_be_reexecuted": false,
    "source_hash": null,
    "execution_millis": 14,
    "output_cleared": true,
    "execution_start": 1614292132361,
    "deepnote_cell_type": "code"
   },
   "source": "x = 3\nprint(x, type(x))",
   "execution_count": null,
   "outputs": []
  },
  {
   "cell_type": "code",
   "metadata": {
    "id": "MjexqvfXKfGi",
    "cell_id": "00014-8a3db645-db4d-4328-9f29-79ab8bc01090",
    "deepnote_to_be_reexecuted": false,
    "source_hash": null,
    "execution_millis": 9,
    "output_cleared": true,
    "execution_start": 1614292107311,
    "deepnote_cell_type": "code"
   },
   "source": "print(x + 1)   # Suma;\nprint(x - 1)   # Resta;\nprint(x * 2)   # Multiplicación;\nprint(x ** 2)  # Potenciación;",
   "execution_count": null,
   "outputs": []
  },
  {
   "cell_type": "code",
   "metadata": {
    "id": "_DTqxMGYKfGj",
    "cell_id": "00015-8ccfe785-2314-4e53-83c3-36b2017ddfff",
    "deepnote_to_be_reexecuted": false,
    "source_hash": null,
    "execution_millis": 9,
    "execution_start": 1614292135769,
    "output_cleared": true,
    "deepnote_cell_type": "code"
   },
   "source": "x += 1\nprint(x)  # Imprime \"4\"\nx *= 2\nprint(x)  # Imprime \"8\"",
   "execution_count": null,
   "outputs": []
  },
  {
   "cell_type": "code",
   "metadata": {
    "id": "c1rkFl9mKfGl",
    "cell_id": "00016-774e0910-23d1-4d7d-bb3e-f5c6a84142d3",
    "deepnote_to_be_reexecuted": false,
    "source_hash": null,
    "execution_start": 1614292253570,
    "execution_millis": 8,
    "output_cleared": true,
    "deepnote_cell_type": "code"
   },
   "source": "y = 2.5\nprint(type(y)) # Imprime \"<type 'float'>\"\nprint(y, y + 1, y * 2, y ** 2) # Imprime \"2.5 3.5 5.0 6.25\"",
   "execution_count": null,
   "outputs": []
  },
  {
   "cell_type": "markdown",
   "source": "Tenga en cuenta que, a diferencia de muchos lenguajes, Python no tiene operadores unarios de incremento (x ++) o decremento (x--).\n\nPython también tiene tipos integrados para enteros largos (*long integers*) y números complejos; puede encontrar todos los detalles en la [documentación](https://docs.python.org/3/library/stdtypes.html#numeric-types-int-float-long-complex).",
   "metadata": {
    "id": "Yp-4_4grKfGm",
    "cell_id": "00017-d9a6e3a8-8735-4dd3-8bf1-bebc580e12ff",
    "deepnote_cell_type": "markdown"
   }
  },
  {
   "cell_type": "markdown",
   "source": "#### Booleanos",
   "metadata": {
    "id": "TXi_8nR0KfGn",
    "cell_id": "00018-2c012330-34b7-41c9-848c-5db3fbcd292d",
    "deepnote_cell_type": "markdown"
   }
  },
  {
   "cell_type": "markdown",
   "source": "Python implementa todos los operadores habituales para la lógica booleana, pero usa palabras en inglés en lugar de símbolos (&&, ||, etc.)",
   "metadata": {
    "id": "RonTW2mLKfGn",
    "cell_id": "00019-6a479754-572a-46a7-acc7-4e0ab4616cad",
    "deepnote_cell_type": "markdown"
   }
  },
  {
   "cell_type": "code",
   "metadata": {
    "id": "L68zTfetKfGo",
    "cell_id": "00020-f428c888-62cf-47c0-bd54-f91ce921fcec",
    "deepnote_to_be_reexecuted": false,
    "source_hash": null,
    "execution_start": 1614292318629,
    "execution_millis": 8,
    "output_cleared": true,
    "deepnote_cell_type": "code"
   },
   "source": "t, f = True, False\nprint(type(t)) # Imprime \"<type 'bool'>\"",
   "execution_count": null,
   "outputs": []
  },
  {
   "cell_type": "markdown",
   "source": "Ahora veamos las operaciones:",
   "metadata": {
    "id": "B1nVQ0N2KfGq",
    "cell_id": "00021-45a0c66d-48b5-4286-9b53-2ddeac0146be",
    "deepnote_cell_type": "markdown"
   }
  },
  {
   "cell_type": "code",
   "metadata": {
    "id": "CBG6w8J3KfGr",
    "cell_id": "00022-d8300aad-b800-4915-b793-0c65b4e0b5e2",
    "deepnote_to_be_reexecuted": false,
    "source_hash": null,
    "execution_start": 1614292348149,
    "execution_millis": 7,
    "output_cleared": true,
    "deepnote_cell_type": "code"
   },
   "source": "print(t and f) # Logical AND;\nprint(t or f)  # Logical OR;\nprint(not t)   # Logical NOT;\nprint(t != f)  # Logical XOR;",
   "execution_count": null,
   "outputs": []
  },
  {
   "cell_type": "markdown",
   "source": "#### Strings",
   "metadata": {
    "id": "yedNmtAoKfGs",
    "cell_id": "00023-a23ef026-5706-4a16-8f50-50abcbe9e173",
    "deepnote_cell_type": "markdown"
   }
  },
  {
   "cell_type": "code",
   "metadata": {
    "id": "AHHsyTJ-KfGt",
    "cell_id": "00024-0b6fce81-8b0d-402b-94e9-ce20c7e30668",
    "deepnote_to_be_reexecuted": false,
    "source_hash": null,
    "execution_millis": 7,
    "output_cleared": true,
    "execution_start": 1614292459433,
    "deepnote_cell_type": "code"
   },
   "source": "hello = 'hello'   # Los strings pueden declararse usando comillas sencillas\nworld = \"world\"   # o comillas dobles, no importa.\nprint (hello, len(hello))",
   "execution_count": null,
   "outputs": []
  },
  {
   "cell_type": "code",
   "metadata": {
    "id": "wr9tK7AsKfGv",
    "cell_id": "00025-f690e43d-613d-45c4-82c5-c74fdf2a488f",
    "deepnote_to_be_reexecuted": false,
    "source_hash": null,
    "execution_millis": 16,
    "output_cleared": true,
    "execution_start": 1614292507939,
    "deepnote_cell_type": "code"
   },
   "source": "hw = hello + ' ' + world  # Concatenación de Strings\nprint (hw)  # Imprime \"hello world\"",
   "execution_count": null,
   "outputs": []
  },
  {
   "cell_type": "code",
   "metadata": {
    "id": "zP4Y641PKfGx",
    "cell_id": "00026-b883412c-7ecd-44fa-b7e4-066d3c31a569",
    "deepnote_to_be_reexecuted": false,
    "source_hash": null,
    "execution_millis": 7,
    "output_cleared": true,
    "execution_start": 1614292576229,
    "deepnote_cell_type": "code"
   },
   "source": "hw12 = f'{hello} {world} {2021}'  # Formateo de strings\nprint (hw12)  # Imprime \"hello world 2021\"",
   "execution_count": null,
   "outputs": []
  },
  {
   "cell_type": "markdown",
   "source": "Los objetos tipo String tienene varios métodos útiles; por ejemplo:",
   "metadata": {
    "id": "j4syJ6HnKfGy",
    "cell_id": "00027-737302c8-9c25-4470-858a-417f8824d0cd",
    "deepnote_cell_type": "markdown"
   }
  },
  {
   "cell_type": "code",
   "metadata": {
    "id": "zqwpgceVKfGy",
    "cell_id": "00028-c10f162c-c226-4d96-9f38-23a907179533",
    "deepnote_to_be_reexecuted": false,
    "source_hash": null,
    "execution_millis": 9,
    "output_cleared": true,
    "execution_start": 1614292696925,
    "deepnote_cell_type": "code"
   },
   "source": "s = \"hello\"\nprint (s.capitalize())  # Pone la primera letra en mayúscula a un string; Imprime \"Hello\"\nprint (s.upper())       # Convierte la string a mayúscula sostenida; Imprime \"HELLO\"\nprint (s.rjust(7))      # Justifica a la derecha una string añadiendo espacios a la izquierda; Imprime \"  hello\"\nprint (s.center(7))     # Centra una string añadiendo espacios a ambos lados; Imprime \" hello \"\nprint (s.replace('l', '(ell)'))  # Reemplaza todas las instancias de una substring con otra;\n                               # imprime \"he(ell)(ell)o\"\nprint ('  world '.strip())  # Remueve los espacios en blanco al inicio y al final; Imprime \"world\"",
   "execution_count": null,
   "outputs": []
  },
  {
   "cell_type": "markdown",
   "source": "Puede encontrar una lista de todos los métodos de cadena en la [documentación](https://docs.python.org/3/library/stdtypes.html#string-methods).",
   "metadata": {
    "id": "2NaAKxH1KfG0",
    "cell_id": "00029-fefc4ca9-68bd-47e0-9432-6db03a6f71da",
    "deepnote_cell_type": "markdown"
   }
  },
  {
   "cell_type": "markdown",
   "source": "### Contenedores",
   "metadata": {
    "id": "EC_PDOWwKfG0",
    "cell_id": "00030-b2c84d25-3fd8-4b4a-9688-fe40088e8972",
    "deepnote_cell_type": "markdown"
   }
  },
  {
   "cell_type": "markdown",
   "source": "Python incluye varios tipos de contenedores integrados: listas, diccionarios, conjuntos y tuplas.",
   "metadata": {
    "id": "lvPlak6bKfG1",
    "cell_id": "00031-29661b10-aca8-4fb1-a9ec-918389889036",
    "deepnote_cell_type": "markdown"
   }
  },
  {
   "cell_type": "markdown",
   "source": "#### Lists",
   "metadata": {
    "id": "vKTYwp7dKfG1",
    "cell_id": "00032-8101488c-dc35-474a-b0e7-bcb09deaf3b9",
    "deepnote_cell_type": "markdown"
   }
  },
  {
   "cell_type": "markdown",
   "source": "Una lista es el equivalente en Python de un arreglo, pero se puede cambiar de tamaño y puede contener elementos de diferentes tipos:",
   "metadata": {
    "id": "wbbMUDOGKfG1",
    "cell_id": "00033-c576258e-8c2e-4fc3-aa19-7178977197cf",
    "deepnote_cell_type": "markdown"
   }
  },
  {
   "cell_type": "code",
   "metadata": {
    "id": "OYnZkCWEKfG2",
    "cell_id": "00034-9e403346-fdc3-41f7-8260-f74cea4adbf1",
    "deepnote_to_be_reexecuted": false,
    "source_hash": null,
    "execution_millis": 7,
    "output_cleared": true,
    "execution_start": 1614292941129,
    "deepnote_cell_type": "code"
   },
   "source": "xs = [3, 1, 2]   # Crea una lista\nprint(xs, xs[2])\nprint(xs[-2])    # Lo indices negativos cuentan desde el final de la lista; Imprime \"2\n",
   "execution_count": null,
   "outputs": []
  },
  {
   "cell_type": "code",
   "metadata": {
    "id": "gWnp2HfyKfG4",
    "cell_id": "00035-93c22845-c30a-465e-aee6-7ff909310f6f",
    "deepnote_to_be_reexecuted": false,
    "source_hash": null,
    "execution_millis": 12,
    "output_cleared": true,
    "execution_start": 1614292946396,
    "deepnote_cell_type": "code"
   },
   "source": "xs[2] = 'foo'    # Las listas pueden contener elementos de diferentes tipos\nprint(xs)",
   "execution_count": null,
   "outputs": []
  },
  {
   "cell_type": "code",
   "metadata": {
    "id": "t1tElDe1KfG6",
    "cell_id": "00036-5da1e8d0-5805-4c2d-8617-01eedabbf02f",
    "deepnote_to_be_reexecuted": false,
    "source_hash": null,
    "execution_millis": 8,
    "output_cleared": true,
    "execution_start": 1614293011117,
    "deepnote_cell_type": "code"
   },
   "source": "xs.append('bar') # Agrega un nuevo elemento al final de la lista\nprint(xs)  ",
   "execution_count": null,
   "outputs": []
  },
  {
   "cell_type": "code",
   "metadata": {
    "id": "wBreqng-KfG8",
    "cell_id": "00037-510c895b-4753-4378-a400-a5b046d53856",
    "deepnote_to_be_reexecuted": false,
    "source_hash": null,
    "execution_start": 1614180513558,
    "execution_millis": 7,
    "output_cleared": true,
    "deepnote_cell_type": "code"
   },
   "source": "x = xs.pop()     # Remueve y retorna el último elemento de la lista\nprint(x, xs) ",
   "execution_count": null,
   "outputs": []
  },
  {
   "cell_type": "markdown",
   "source": "Como de costumbe, todos los detalles de las listas se encuentran en la [documentación](https://docs.python.org/3/tutorial/datastructures.html#more-on-lists).",
   "metadata": {
    "id": "7DG3NxSYKfG-",
    "cell_id": "00038-4ae6e8fd-d14a-4084-b9bb-8ae0df82009b",
    "deepnote_cell_type": "markdown"
   }
  },
  {
   "cell_type": "markdown",
   "source": "#### Slicing",
   "metadata": {
    "id": "H1s7O1weKfG_",
    "cell_id": "00039-ea5dd0bc-50a4-466d-af76-7bd7d34d530a",
    "deepnote_cell_type": "markdown"
   }
  },
  {
   "cell_type": "markdown",
   "source": "Además de acceder a los elementos de la lista de uno en uno, Python proporciona una sintaxis concisa para acceder a las sublistas; esto se conoce como *slicing* (rebanar):",
   "metadata": {
    "id": "dAZd3A2nKfG_",
    "cell_id": "00040-a10924ca-51a7-421c-bcad-be2f751c087d",
    "deepnote_cell_type": "markdown"
   }
  },
  {
   "cell_type": "code",
   "metadata": {
    "id": "10EpI6lMKfHA",
    "cell_id": "00041-8d30a14a-9a97-43a1-9f41-b42e0c78ee38",
    "deepnote_to_be_reexecuted": false,
    "source_hash": "16c37bab",
    "execution_millis": 11,
    "output_cleared": false,
    "execution_start": 1614719513103,
    "deepnote_cell_type": "code"
   },
   "source": "nums = list(range(5))    # creamos una lita de enteros a partir de la función range\nprint(nums)              # Imprime \"[0, 1, 2, 3, 4]\"\nprint(nums[2:4])         # Obtiene una slice desde el índice 2 al 4 (exclusive); imprime \"[2, 3]\"\nprint(nums[2:])          # Obtiene una slice desde el índice 2 al final; imprime \"[2, 3, 4]\"\nprint(nums[:2])          # Obtiene una slice desde el inicio al índice 2 (exclusive); imprime \"[0, 1]\"\nprint(nums[:])           # Obtiene una slice de toda la lista; imprime [\"0, 1, 2, 3, 4]\"\nprint(nums[:-1])         # Los índices de una slice pueden ser negativos; imprime [\"0, 1, 2, 3]\"",
   "execution_count": null,
   "outputs": [
    {
     "name": "stdout",
     "text": "[0, 1, 2, 3, 4]\n[2, 3]\n[2, 3, 4]\n[0, 1]\n[0, 1, 2, 3, 4]\n[0, 1, 2, 3]\n",
     "output_type": "stream"
    }
   ]
  },
  {
   "cell_type": "markdown",
   "source": "#### Bucles",
   "metadata": {
    "id": "fkGcndD1KfHB",
    "cell_id": "00042-bedb8989-f2fc-4486-a1b2-d47ee3620b83",
    "deepnote_cell_type": "markdown"
   }
  },
  {
   "cell_type": "markdown",
   "source": "Es posible hacer bucles sobre elementos de una lista así:",
   "metadata": {
    "id": "5IBHDN6NKfHC",
    "cell_id": "00043-fb3e6c3a-9964-4bd6-9d7e-68b8e8171781",
    "deepnote_cell_type": "markdown"
   }
  },
  {
   "cell_type": "code",
   "metadata": {
    "id": "UszE_9j9KfHC",
    "cell_id": "00044-84b77d1d-5fd1-4954-9306-4a38169b8c84",
    "deepnote_to_be_reexecuted": false,
    "source_hash": "8fac6a4e",
    "execution_millis": 10,
    "output_cleared": false,
    "execution_start": 1614719773651,
    "deepnote_cell_type": "code"
   },
   "source": "animales = ['cat', 'dog', 'monkey']\nfor a in animales:\n    print(a)",
   "execution_count": null,
   "outputs": [
    {
     "name": "stdout",
     "text": "cat\ndog\nmonkey\n",
     "output_type": "stream"
    }
   ]
  },
  {
   "cell_type": "markdown",
   "source": "Si desea acceder al índice de cada elemento dentro del cuerpo de un bucle, use la función incorporada `enumerate`:",
   "metadata": {
    "id": "ba7d34RzKfHE",
    "cell_id": "00045-fb293b17-f72a-4e23-808d-a2e5be090d95",
    "deepnote_cell_type": "markdown"
   }
  },
  {
   "cell_type": "code",
   "metadata": {
    "id": "qa0PKcugKfHE",
    "cell_id": "00046-d0ea7780-4c72-40c9-983e-9987eccdfdfc",
    "deepnote_to_be_reexecuted": false,
    "source_hash": "6a6f197c",
    "execution_millis": 9,
    "output_cleared": false,
    "execution_start": 1614719803171,
    "deepnote_cell_type": "code"
   },
   "source": "animals = ['cat', 'dog', 'monkey']\nfor idx, animal in enumerate(animals):\n    print (f'#{idx + 1}: {animal}')",
   "execution_count": null,
   "outputs": [
    {
     "name": "stdout",
     "text": "#1: cat\n#2: dog\n#3: monkey\n",
     "output_type": "stream"
    }
   ]
  },
  {
   "cell_type": "markdown",
   "source": "#### List comprehensions:",
   "metadata": {
    "id": "rLMRwsY3KfHG",
    "cell_id": "00047-171184f8-7785-47b2-9b95-2de18443b610",
    "deepnote_cell_type": "markdown"
   }
  },
  {
   "cell_type": "markdown",
   "source": "A la hora de programar, con frecuencia queremos transformar un tipo de datos en otro. Como ejemplo simple, considere el siguiente código que calcula números cuadrados:",
   "metadata": {
    "id": "ktAMeVZzKfHG",
    "cell_id": "00048-efd7c971-c045-498c-b388-becaba9192d6",
    "deepnote_cell_type": "markdown"
   }
  },
  {
   "cell_type": "code",
   "metadata": {
    "id": "NG8KyY08KfHH",
    "cell_id": "00049-bf148484-afb8-4ff2-8499-2d94b56ca69f",
    "deepnote_to_be_reexecuted": false,
    "source_hash": "cac533a7",
    "execution_millis": 13,
    "execution_start": 1614720005490,
    "deepnote_cell_type": "code"
   },
   "source": "nums = [0, 1, 2, 3, 4]\nsquares = []\nfor x in nums:\n    squares.append(x ** 2)\n    #print(squares)\nprint(squares)",
   "execution_count": null,
   "outputs": [
    {
     "name": "stdout",
     "text": "[0, 1, 4, 9, 16]\n",
     "output_type": "stream"
    }
   ]
  },
  {
   "cell_type": "markdown",
   "source": "Podemos simplificar este código usando una *list comprehension*:",
   "metadata": {
    "id": "gpROxr9iKfHJ",
    "cell_id": "00050-13718cd8-48e3-48fb-9197-84cf3d065d84",
    "deepnote_cell_type": "markdown"
   }
  },
  {
   "cell_type": "code",
   "metadata": {
    "id": "fmFUM4Y_KfHJ",
    "cell_id": "00051-4f257b88-d546-4a25-9999-5497b3d22f0c",
    "deepnote_to_be_reexecuted": false,
    "source_hash": "25786cc2",
    "execution_start": 1614719994121,
    "execution_millis": 9,
    "deepnote_cell_type": "code"
   },
   "source": "nums = [0, 1, 2, 3, 4]\nsquares = [x ** 2 for x in nums]\nprint(squares)",
   "execution_count": null,
   "outputs": [
    {
     "name": "stdout",
     "text": "[0, 1, 4, 9, 16]\n",
     "output_type": "stream"
    }
   ]
  },
  {
   "cell_type": "markdown",
   "source": "Las *list comprehensions* también pueden contener algunas condiciones:",
   "metadata": {
    "id": "TbsrBg4WKfHL",
    "cell_id": "00052-063cc542-7ad8-4eb6-9e74-a6efd4a457dc",
    "deepnote_cell_type": "markdown"
   }
  },
  {
   "cell_type": "code",
   "metadata": {
    "id": "qvSgq2aFKfHL",
    "cell_id": "00053-43290d74-5d05-465c-91d4-e987783e9bb0",
    "deepnote_cell_type": "code"
   },
   "source": "nums = [0, 1, 2, 3, 4]\neven_squares = [x ** 2 for x in nums if x % 2 == 0]\nprint(even_squares)",
   "execution_count": null,
   "outputs": []
  },
  {
   "cell_type": "markdown",
   "source": "#### Diccionarios",
   "metadata": {
    "id": "p7d4z45bKfHN",
    "cell_id": "00054-56686247-64b4-4827-b27b-3525b5bcab06",
    "deepnote_cell_type": "markdown"
   }
  },
  {
   "cell_type": "markdown",
   "source": "Un diccionario almacena pares (key, value). Puedes usarlo así:",
   "metadata": {
    "id": "R5mlszNRKfHN",
    "cell_id": "00055-918cc8db-7329-4911-ab81-03ae26574d45",
    "deepnote_cell_type": "markdown"
   }
  },
  {
   "cell_type": "code",
   "metadata": {
    "id": "wExMD3PFKfHO",
    "cell_id": "00056-0b04d235-8e91-4df7-8f03-820b6af14fb7",
    "deepnote_to_be_reexecuted": false,
    "source_hash": "21268eab",
    "execution_start": 1614720073715,
    "execution_millis": 10,
    "deepnote_cell_type": "code"
   },
   "source": "d = {'cat': 'cute', 'dog': 'furry'}  # Crea un nuevo diccionario con alguna data\nprint(d['cat'])       # Obtiene la una entrada del diccionario; imprime \"cute\"\nprint('cat' in d)     # Revisa si un diccionario tiene una *key* dada; imprime \"True\"",
   "execution_count": null,
   "outputs": [
    {
     "name": "stdout",
     "text": "cute\nTrue\n",
     "output_type": "stream"
    }
   ]
  },
  {
   "cell_type": "code",
   "metadata": {
    "id": "73CuRTdDKfHP",
    "cell_id": "00057-43f8f9d6-ec9a-4b44-9c35-af0254165726",
    "deepnote_to_be_reexecuted": false,
    "source_hash": "445434ba",
    "execution_start": 1614720151271,
    "execution_millis": 9,
    "deepnote_cell_type": "code"
   },
   "source": "d['fish'] = 'wet'    # define una entrada para el diccionario\nprint (d['fish'])    # Imprime \"wet\"\nprint(d)",
   "execution_count": null,
   "outputs": [
    {
     "name": "stdout",
     "text": "wet\n{'cat': 'cute', 'dog': 'furry', 'fish': 'wet'}\n",
     "output_type": "stream"
    }
   ]
  },
  {
   "cell_type": "code",
   "metadata": {
    "id": "8unmT-D9KfHR",
    "cell_id": "00058-5246cf27-6e58-41ea-b9a5-bca7470a906f",
    "deepnote_to_be_reexecuted": false,
    "source_hash": "d8a43c8e",
    "execution_start": 1614720181183,
    "execution_millis": 229,
    "deepnote_cell_type": "code"
   },
   "source": "print (d['monkey'])  # KeyError: 'monkey' not a key of d -> La llave 'momnkey' no existe en el diccionario d",
   "execution_count": null,
   "outputs": [
    {
     "output_type": "error",
     "ename": "KeyError",
     "evalue": "'monkey'",
     "traceback": [
      "\u001b[0;31m---------------------------------------------------------------------------\u001b[0m",
      "\u001b[0;31mKeyError\u001b[0m                                  Traceback (most recent call last)",
      "\u001b[0;32m<ipython-input-10-6e6146b804f7>\u001b[0m in \u001b[0;36m<module>\u001b[0;34m\u001b[0m\n\u001b[0;32m----> 1\u001b[0;31m \u001b[0mprint\u001b[0m \u001b[0;34m(\u001b[0m\u001b[0md\u001b[0m\u001b[0;34m[\u001b[0m\u001b[0;34m'monkey'\u001b[0m\u001b[0;34m]\u001b[0m\u001b[0;34m)\u001b[0m  \u001b[0;31m# KeyError: 'monkey' not a key of d -> La llave 'momnkey' no existe en el diccionario d\u001b[0m\u001b[0;34m\u001b[0m\u001b[0;34m\u001b[0m\u001b[0m\n\u001b[0m",
      "\u001b[0;31mKeyError\u001b[0m: 'monkey'"
     ]
    }
   ]
  },
  {
   "cell_type": "code",
   "metadata": {
    "id": "EB6pkZKaKfHS",
    "cell_id": "00059-117346b8-d3cc-4e81-ac71-f942157e661a",
    "deepnote_cell_type": "code"
   },
   "source": "print (d.get('monkey', 'N/A'))  # Obtiene un elemento considerando un valor por defecto; imprime \"N/A\"\nprint (d.get('fish', 'N/A'))    # Obtiene un elemento considerando un valor por defecto; imprime \"wet\"",
   "execution_count": null,
   "outputs": []
  },
  {
   "cell_type": "code",
   "metadata": {
    "id": "l0wgyzNyKfHT",
    "cell_id": "00060-4a291ee8-9594-486c-b0a2-ef30dd95d001",
    "deepnote_cell_type": "code"
   },
   "source": "del d['fish']        # Remueve un elemento de un diccionario\nprint (d.get('fish', 'N/A')) # \"fish\" ya no es una llave; imprime \"N/A\"",
   "execution_count": null,
   "outputs": []
  },
  {
   "cell_type": "markdown",
   "source": "Todo lo que se necesita saber sobre los diccionarios está en la [documentación](https://docs.python.org/3/library/stdtypes.html#dict).",
   "metadata": {
    "id": "I7idk4CeKfHV",
    "cell_id": "00061-30ae7300-6574-47ac-8447-7b7d1ba096dc",
    "deepnote_cell_type": "markdown"
   }
  },
  {
   "cell_type": "markdown",
   "source": "Es fácil iterar sobre las *keys* de un diccionario:",
   "metadata": {
    "id": "AUsubuViKfHV",
    "cell_id": "00062-ef091a74-026c-4273-a46f-8a695d90de49",
    "deepnote_cell_type": "markdown"
   }
  },
  {
   "cell_type": "code",
   "metadata": {
    "id": "rvYm_ZExKfHW",
    "cell_id": "00063-3f48ab61-2411-4206-8407-0135a1e17402",
    "deepnote_to_be_reexecuted": false,
    "source_hash": "33a70a86",
    "execution_start": 1614720253559,
    "execution_millis": 9,
    "deepnote_cell_type": "code"
   },
   "source": "d = {'person': 2, 'cat': 4, 'spider': 8}\nfor animal in d:\n    legs = d[animal]\n    print(f'A {animal} has {legs} legs')",
   "execution_count": null,
   "outputs": [
    {
     "name": "stdout",
     "text": "A person has 2 legs\nA cat has 4 legs\nA spider has 8 legs\n",
     "output_type": "stream"
    }
   ]
  },
  {
   "cell_type": "markdown",
   "source": "Si quieres acceder a las *keys* y su respectivos *values*, usa el método iteritems:",
   "metadata": {
    "id": "MpPsznfuKfHX",
    "cell_id": "00064-9ccb66db-bfc9-45d4-b1ba-98de086234f4",
    "deepnote_cell_type": "markdown"
   }
  },
  {
   "cell_type": "code",
   "metadata": {
    "id": "Tbm2t48iKfHY",
    "cell_id": "00065-a353e57a-6716-48ce-a4a2-2402597b18a0",
    "deepnote_cell_type": "code"
   },
   "source": "d = {'person': 2, 'cat': 4, 'spider': 8}\nfor animal, legs in d.items():\n    print (f'A {animal} has {legs} legs')",
   "execution_count": null,
   "outputs": []
  },
  {
   "cell_type": "markdown",
   "source": "Dictionary comprehensions: Estos son similares a las *list comprehensions*, pero permiten construir diccionarios fácilmente. Por ejemplo:",
   "metadata": {
    "id": "MTLrACT7KfHZ",
    "cell_id": "00066-5d5dea96-ac85-4f11-8dfe-ea7797620d77",
    "deepnote_cell_type": "markdown"
   }
  },
  {
   "cell_type": "code",
   "metadata": {
    "id": "1UL8LDocKfHZ",
    "cell_id": "00067-25541888-4dd7-4c90-aeb6-a3a116ec1ba9",
    "deepnote_cell_type": "code"
   },
   "source": "nums = [0, 1, 2, 3, 4]\neven_num_to_square = {x: x ** 2 for x in nums if x % 2 == 0}\nprint(even_num_to_square)",
   "execution_count": null,
   "outputs": []
  },
  {
   "cell_type": "markdown",
   "source": "#### Conjuntos",
   "metadata": {
    "id": "_1B4KkCSKfHb",
    "cell_id": "00068-c350dd99-a32c-4d1f-b8f6-4fcfba80cbf7",
    "deepnote_cell_type": "markdown"
   }
  },
  {
   "cell_type": "markdown",
   "source": "Un conjunto es una colección sin orden de elementos distintos. Como ejemplo simple, considera lo siguiente:",
   "metadata": {
    "id": "ZmeRxhk3KfHb",
    "cell_id": "00069-b1585f04-6987-4136-b398-ace4a30913e8",
    "deepnote_cell_type": "markdown"
   }
  },
  {
   "cell_type": "code",
   "metadata": {
    "id": "cklsBT3sKfHc",
    "cell_id": "00070-61220321-c39d-40be-ae51-8f033852e581",
    "deepnote_cell_type": "code"
   },
   "source": "animals = {'cat', 'dog'}\nprint('cat' in animals)   # Revisa si un elemento está en un conjunto; imprime \"True\"\nprint('fish' in animals)  # imprime \"False\"\n",
   "execution_count": null,
   "outputs": []
  },
  {
   "cell_type": "code",
   "metadata": {
    "id": "FoepHPl7KfHe",
    "cell_id": "00071-f8a899fe-e131-451f-b148-cad8c1178733",
    "deepnote_cell_type": "code"
   },
   "source": "animals.add('fish')      # Agrega un elemento al conjunto\nprint('fish' in animals)\nprint(len(animals))     # Número de elementos en un conjunto;",
   "execution_count": null,
   "outputs": []
  },
  {
   "cell_type": "code",
   "metadata": {
    "id": "9RCOK5NuKfHh",
    "cell_id": "00072-7ac2e17a-43af-498f-a221-3c61e6fe8fcd",
    "deepnote_cell_type": "code"
   },
   "source": "animals.add('cat')       # Agregar un elemento que ya está en el conjunto no hace nada\nprint(animals)\nprint(len(animals))       \nanimals.remove('cat')    # Remueve un elemento de un conjunto\nprint(animals)\nprint(len(animals))       ",
   "execution_count": null,
   "outputs": []
  },
  {
   "cell_type": "markdown",
   "source": "_Bucles_: La iteración sobre un conjunto tiene la misma sintaxis que la iteración sobre una lista; sin embargo, dado que los conjuntos no están ordenados, no puede hacer suposiciones sobre el orden en el que visita los elementos del conjunto:",
   "metadata": {
    "id": "21tS97yyKfHi",
    "cell_id": "00073-8d02053b-c6b1-43f0-8a2f-fd3a60bbc09c",
    "deepnote_cell_type": "markdown"
   }
  },
  {
   "cell_type": "code",
   "metadata": {
    "id": "Z-VHwFIZKfHj",
    "cell_id": "00074-16ce8ca5-058a-4185-9a08-a6e2416bd5e7",
    "deepnote_cell_type": "code"
   },
   "source": "animals = {'cat', 'dog', 'fish'}\nfor idx, animal in enumerate(animals):\n    print('{}: {}'.format(idx + 1, animal))\n# Imprime \"#1: fish\", \"#2: dog\", \"#3: cat\"",
   "execution_count": null,
   "outputs": []
  },
  {
   "cell_type": "markdown",
   "source": "Set comprehensions: Como con las listas y los diccionarios, podemos construir conjuntos fácilmente usando *set comprehension*s:",
   "metadata": {
    "id": "4m9UaPS8KfHk",
    "cell_id": "00075-eb6ef3b8-953c-4401-86cb-db476ef9a5d1",
    "deepnote_cell_type": "markdown"
   }
  },
  {
   "cell_type": "code",
   "metadata": {
    "id": "kt6OqS5QKfHk",
    "cell_id": "00076-6edb6ba3-a66c-4284-9e32-64b55b967389",
    "deepnote_cell_type": "code"
   },
   "source": "from math import sqrt\nprint({int(sqrt(x)) for x in range(30)})",
   "execution_count": null,
   "outputs": []
  },
  {
   "cell_type": "markdown",
   "source": "#### Tuplas",
   "metadata": {
    "id": "nWViSKeZKfHm",
    "cell_id": "00077-3b0346e5-3331-4423-b506-a0d1e11c9caa",
    "deepnote_cell_type": "markdown"
   }
  },
  {
   "cell_type": "markdown",
   "source": "Una tupla es una lista ordenada (inmutable) de valores. Una tupla es en muchos aspectos similar a una lista; una de las diferencias más importantes es que las tuplas se pueden utilizar como claves en diccionarios y como elementos de conjuntos, mientras que las listas no. Aquí hay un ejemplo trivial:",
   "metadata": {
    "id": "NK6yh491KfHm",
    "cell_id": "00078-5862a586-491d-40fd-9605-737557148ff3",
    "deepnote_cell_type": "markdown"
   }
  },
  {
   "cell_type": "code",
   "metadata": {
    "id": "dJuXFYe8KfHn",
    "cell_id": "00079-f436f848-deab-4206-923c-e4120414c848",
    "deepnote_to_be_reexecuted": false,
    "source_hash": "605a3f61",
    "execution_start": 1614720478505,
    "execution_millis": 16,
    "deepnote_cell_type": "code"
   },
   "source": "d = {(x, x + 1): x for x in range(10)}  # Crea un diccionario con tuplas como keys\nt = (5, 6)       # Crea una tuple\nprint(type(t))\nprint(d[t])       \nprint(d[(1, 2)])",
   "execution_count": null,
   "outputs": [
    {
     "name": "stdout",
     "text": "<class 'tuple'>\n5\n1\n",
     "output_type": "stream"
    }
   ]
  },
  {
   "cell_type": "code",
   "metadata": {
    "id": "kc110KCRKfHq",
    "cell_id": "00080-d9e68ee1-166e-48f2-85bd-d606ffcd7378",
    "deepnote_cell_type": "code"
   },
   "source": "t[0] = 1  #La tupla es inmutable. No permite asignación.",
   "execution_count": null,
   "outputs": []
  },
  {
   "cell_type": "markdown",
   "source": "### Funciones",
   "metadata": {
    "id": "LXExnRyfKfHr",
    "cell_id": "00081-e832eaf5-bac8-4db7-b83e-330f6cde2865",
    "deepnote_cell_type": "markdown"
   }
  },
  {
   "cell_type": "markdown",
   "source": "Las funciones de Python se definen usando la palabra clave `def`. Por ejemplo:",
   "metadata": {
    "id": "JybeN-KxKfHr",
    "cell_id": "00082-e486f821-f099-43ed-afad-0ffead615cab",
    "deepnote_cell_type": "markdown"
   }
  },
  {
   "cell_type": "code",
   "metadata": {
    "id": "I1cySYQ6KfHs",
    "cell_id": "00083-fcf7d2fb-900f-439b-a696-aadf342dd040",
    "deepnote_to_be_reexecuted": false,
    "source_hash": "18b4c223",
    "execution_millis": 12,
    "output_cleared": false,
    "execution_start": 1614720807995,
    "deepnote_cell_type": "code"
   },
   "source": "def sign(x):\n  if x > 0:\n      return 'positive'\n  elif x < 0:\n      return 'negative'\n  else:\n      return 'zero'\n\nfor x in [-1, 0, 1]:\n    print(sign(x))\n\nprint(sign(0))",
   "execution_count": null,
   "outputs": [
    {
     "name": "stdout",
     "text": "zero\n",
     "output_type": "stream"
    }
   ]
  },
  {
   "cell_type": "markdown",
   "source": "A menudo definiremos funciones para tomar argumentos de palabras clave opcionales, como loud en este ejemplo:",
   "metadata": {
    "id": "WH0bvaQ9KfHt",
    "cell_id": "00084-35fcbdbf-c4e9-4e53-8bc9-f957701419ab",
    "deepnote_cell_type": "markdown"
   }
  },
  {
   "cell_type": "code",
   "metadata": {
    "id": "dEvO5ZOZKfHt",
    "cell_id": "00085-fd625cb0-217f-498c-9bbd-7558074d558d",
    "deepnote_to_be_reexecuted": false,
    "source_hash": null,
    "execution_millis": 11,
    "output_cleared": true,
    "execution_start": 1614720865879,
    "deepnote_cell_type": "code"
   },
   "source": "def hello(name, loud=False):\n    if loud:\n        print(f'HELLO, {name.upper()}')\n    else:\n        print(f'Hello, {name}!')\n\nhello('Bob')\nhello('Fred', loud=True)",
   "execution_count": null,
   "outputs": []
  },
  {
   "cell_type": "markdown",
   "source": "### Clases",
   "metadata": {
    "id": "ZzyN4uQiKfHu",
    "cell_id": "00086-1e35c21f-6d38-41c0-a78e-9caf40aecde5",
    "deepnote_cell_type": "markdown"
   }
  },
  {
   "cell_type": "markdown",
   "source": "La sintaxis para definir clases en Python es sencilla:",
   "metadata": {
    "id": "BxixLp1_KfHv",
    "cell_id": "00087-50fcdfb7-83cb-45e6-a645-65a809c50747",
    "deepnote_cell_type": "markdown"
   }
  },
  {
   "cell_type": "code",
   "metadata": {
    "id": "fXqoDNRBKfHv",
    "cell_id": "00088-20fa3777-74ea-4358-90e2-58da91dc745e",
    "deepnote_to_be_reexecuted": false,
    "source_hash": "6db0940d",
    "execution_start": 1614181010130,
    "execution_millis": 8,
    "deepnote_cell_type": "code"
   },
   "source": "class Greeter:    # Saludador\n\n    # Constructor\n    def __init__(self, name):\n        self.name = name  # Crea un atributo (variable) de la instancia\n\n    # Método de la instancia\n    def greet(self, loud=False):\n        if loud:\n            print(f'HELLO, {self.name.upper()}!') #Para acceder a un atributo dentro de la misma clase, se usa la palabra self y luego el nombre del atributo\n        else:\n            print(f'Hello, {self.name}'.format())\n\ng = Greeter('Fred')  # Cosntruye una instancia de la clase Greeter\ng.greet()            # Llama el método de la instancia g; imprime \"Hello, Fred\"\ng.greet(loud=True)   # Llama el método de la instancia g; imprime \"HELLO, FRED!\"",
   "execution_count": null,
   "outputs": [
    {
     "name": "stdout",
     "text": "Hello, Fred\nHELLO, FRED!\n",
     "output_type": "stream"
    }
   ]
  },
  {
   "cell_type": "markdown",
   "source": "Las clases proporcionan un medio para agrupar datos y funciones. La creación de una nueva clase crea un nuevo tipo de objeto, lo que permite crear nuevas instancias de ese tipo.",
   "metadata": {
    "tags": [],
    "cell_id": "00089-00be50b8-0833-47a5-8d16-aa6fd1c25dfa",
    "deepnote_cell_type": "markdown"
   }
  },
  {
   "cell_type": "code",
   "metadata": {
    "tags": [],
    "cell_id": "00090-e83cc931-4d48-43b4-ab14-849c173cb850",
    "deepnote_to_be_reexecuted": false,
    "source_hash": "5768cfb0",
    "execution_millis": 5,
    "execution_start": 1614721390674,
    "deepnote_cell_type": "code"
   },
   "source": "class MyClass:\n    \"\"\"Un ejemplo simple de una clase\"\"\"\n    i = 12345\n    k = 8\n",
   "execution_count": null,
   "outputs": []
  },
  {
   "cell_type": "code",
   "metadata": {
    "tags": [],
    "cell_id": "00091-868b8dfc-c179-4ced-9039-58dbc053abbd",
    "deepnote_to_be_reexecuted": false,
    "source_hash": "e8c4778e",
    "execution_millis": 0,
    "execution_start": 1614721394195,
    "deepnote_cell_type": "code"
   },
   "source": "x = MyClass()\ny = MyClass()",
   "execution_count": null,
   "outputs": []
  },
  {
   "cell_type": "markdown",
   "source": "Cada instancia de clase puede tener atributos adjuntos para mantener su estado. Las instancias de clase también pueden tener métodos (definidos por su clase) para modificar su estado.",
   "metadata": {
    "tags": [],
    "cell_id": "00091-537d7762-bd2c-4395-8e75-5e5552cd001f",
    "deepnote_cell_type": "markdown"
   }
  },
  {
   "cell_type": "code",
   "metadata": {
    "tags": [],
    "cell_id": "00092-cac55891-630b-4868-865c-e276d064c694",
    "deepnote_to_be_reexecuted": false,
    "source_hash": "a2a1d1aa",
    "execution_millis": 21,
    "execution_start": 1614721397323,
    "deepnote_cell_type": "code"
   },
   "source": "print(MyClass.i)\nprint(y.i)\nprint(x.i+y.k)",
   "execution_count": null,
   "outputs": [
    {
     "name": "stdout",
     "text": "12345\n12345\n12353\n",
     "output_type": "stream"
    }
   ]
  },
  {
   "cell_type": "markdown",
   "source": "Las instancias de clase también pueden tener métodos (definidos por su clase) para modificar su estado.",
   "metadata": {
    "tags": [],
    "cell_id": "00093-f5139ce7-f8ee-4573-9a1a-2fe82cea27ab",
    "deepnote_cell_type": "markdown"
   }
  },
  {
   "cell_type": "code",
   "metadata": {
    "tags": [],
    "cell_id": "00095-91fb636a-2f88-41e7-8278-8330bfb206cb",
    "deepnote_cell_type": "code"
   },
   "source": "class MyClass:\n    \"\"\"Un ejemplo simple de una clase\"\"\"\n    i = 12345\n\n    def f(self):\n        return 'hello world'",
   "execution_count": null,
   "outputs": []
  },
  {
   "cell_type": "markdown",
   "source": "Por ejemplo:",
   "metadata": {
    "tags": [],
    "cell_id": "00095-95bbd412-7435-4b9f-a756-c395c5a71682",
    "deepnote_cell_type": "markdown"
   }
  },
  {
   "cell_type": "code",
   "metadata": {
    "tags": [],
    "cell_id": "00096-ea287b6c-c94a-42d8-864f-718442184c3c",
    "deepnote_to_be_reexecuted": false,
    "source_hash": "d083ddce",
    "execution_millis": 19,
    "execution_start": 1614721666636,
    "deepnote_cell_type": "code"
   },
   "source": ">>> class Complex:\n...     def __init__(self, realpart, imagpart):\n...         self.r = realpart\n...         self.i = imagpart\n\n\nx = Complex(3.0, -4.5)\ny = Complex(7.5, 8)\n\nprint(y.r) # Imprime la parte real\nprint(y.i) # Imprime la parte imaginaria",
   "execution_count": null,
   "outputs": [
    {
     "name": "stdout",
     "text": "7.5\n8\n",
     "output_type": "stream"
    }
   ]
  },
  {
   "cell_type": "markdown",
   "source": "## Numpy",
   "metadata": {
    "id": "4crp8xKBKfHx",
    "cell_id": "00090-466fc5e9-168c-4047-aeba-cafc468e5525",
    "deepnote_cell_type": "markdown"
   }
  },
  {
   "cell_type": "markdown",
   "source": "Numpy es la biblioteca central para la computación científica en Python. Proporciona arreglos multidimensionales de alto rendimiento y herramientas para trabajar con estos arreglos.",
   "metadata": {
    "id": "Oc9h0W3lKfHx",
    "cell_id": "00091-e9ad47c3-08ce-4971-9a9c-19cad7231599",
    "deepnote_cell_type": "markdown"
   }
  },
  {
   "cell_type": "markdown",
   "source": "Para usar Numpy, primero necesitamos importar el paquete `numpy`. Lo podemos importar con el alias `np`:",
   "metadata": {
    "id": "HeAk8P37KfHz",
    "cell_id": "00092-d8872f0d-7480-4c83-9644-07684632c4de",
    "deepnote_cell_type": "markdown"
   }
  },
  {
   "cell_type": "code",
   "metadata": {
    "id": "sU_uPi5BKfH0",
    "cell_id": "00093-6eaae53c-acff-4765-9b42-b69b0e040659",
    "deepnote_to_be_reexecuted": false,
    "source_hash": "c2602aa8",
    "execution_millis": 0,
    "execution_start": 1614724085550,
    "deepnote_cell_type": "code"
   },
   "source": "import numpy as np",
   "execution_count": null,
   "outputs": []
  },
  {
   "cell_type": "markdown",
   "source": "### Arreglos",
   "metadata": {
    "id": "tdp1Ax4oKfH1",
    "cell_id": "00094-62abbb6f-3bfb-4c3c-882d-5f2e44d888e8",
    "deepnote_cell_type": "markdown"
   }
  },
  {
   "cell_type": "markdown",
   "source": "Un arreglo numérica es una cuadrícula de valores, todos del mismo tipo, y está indexado por una tupla de enteros no negativos. El número de dimensiones es el rango del arreglo; la forma (*shape*) de una matriz es una tupla de números enteros que dan el tamaño de la matriz a lo largo de cada dimensión.",
   "metadata": {
    "id": "H-eaa3whKfH1",
    "cell_id": "00095-20fd0969-8e9c-4b9e-b775-7a3f94eacf80",
    "deepnote_cell_type": "markdown"
   }
  },
  {
   "cell_type": "markdown",
   "source": "Podemos inicializar matrices numpy de listas de Python anidadas y acceder a elementos usando corchetes:",
   "metadata": {
    "id": "vcTK1JGzKfH1",
    "cell_id": "00096-dfe67833-b2b1-407a-b009-49df80a787ec",
    "deepnote_cell_type": "markdown"
   }
  },
  {
   "cell_type": "code",
   "metadata": {
    "id": "lcyliXigKfH2",
    "cell_id": "00097-7514bb53-577a-4d99-85ec-9a4934a0a7a4",
    "deepnote_to_be_reexecuted": false,
    "source_hash": "75f63403",
    "execution_millis": 14,
    "output_cleared": false,
    "execution_start": 1614724193039,
    "deepnote_cell_type": "code"
   },
   "source": "a = np.array([1, 2, 3])  # Crea un arreglo de rango 1\nprint(f' a es de tipo: {type(a)}, es de forma {a.shape}, a[0] = {a[0]}, a[1] = {a[1]}, a[2] = {a[2]}')\na[0] = 5                 # Cambia un elemento del arreglo\nprint(a)                  ",
   "execution_count": null,
   "outputs": [
    {
     "name": "stdout",
     "text": " a es de tipo: <class 'numpy.ndarray'>, es de forma (3,), a[0] = 1, a[1] = 2, a[2] = 3\n[5 2 3]\n",
     "output_type": "stream"
    }
   ]
  },
  {
   "cell_type": "code",
   "metadata": {
    "id": "je7GKHnSKfH4",
    "cell_id": "00098-51048c75-46ac-417c-9016-9b3281e877d9",
    "deepnote_to_be_reexecuted": false,
    "source_hash": "9effa237",
    "execution_millis": 11,
    "output_cleared": false,
    "execution_start": 1614724347343,
    "deepnote_cell_type": "code"
   },
   "source": "b = np.array([[1,2,3],[4,5,6]])   # Crea un arreglo de rango 2\nprint(b)",
   "execution_count": null,
   "outputs": [
    {
     "name": "stdout",
     "text": "[[1 2 3]\n [4 5 6]]\n",
     "output_type": "stream"
    }
   ]
  },
  {
   "cell_type": "code",
   "metadata": {
    "id": "kRE70d-lKfH5",
    "cell_id": "00099-6f3e8646-1822-4244-bcd9-4c77e1d1d2d7",
    "deepnote_to_be_reexecuted": false,
    "source_hash": "4b62518f",
    "execution_millis": 12,
    "output_cleared": false,
    "execution_start": 1614724457202,
    "deepnote_cell_type": "code"
   },
   "source": "print(b.shape)                   \nprint(b[0, 0], b[0, 1], b[1, 0])",
   "execution_count": null,
   "outputs": [
    {
     "name": "stdout",
     "text": "(2, 3)\n1 2 4\n",
     "output_type": "stream"
    }
   ]
  },
  {
   "cell_type": "markdown",
   "source": "Numpy también proporciona muchas funciones para crear matrices:",
   "metadata": {
    "id": "A529RGqjKfH7",
    "cell_id": "00100-d985441e-4fbb-4852-a6c8-5c0a6529ae63",
    "deepnote_cell_type": "markdown"
   }
  },
  {
   "cell_type": "code",
   "metadata": {
    "id": "pu_qfrRfKfH8",
    "cell_id": "00101-8dc455de-6c8b-4a97-b7a1-fbddb16ab906",
    "deepnote_to_be_reexecuted": false,
    "source_hash": "40025ad0",
    "execution_millis": 9,
    "output_cleared": false,
    "execution_start": 1614724632947,
    "deepnote_cell_type": "code"
   },
   "source": "a = np.zeros((2,2))  # Crea un arreglo con ceros en todas las posiciones\nprint(a, type(a))",
   "execution_count": null,
   "outputs": [
    {
     "name": "stdout",
     "text": "[[0. 0.]\n [0. 0.]] <class 'numpy.ndarray'>\n",
     "output_type": "stream"
    }
   ]
  },
  {
   "cell_type": "code",
   "metadata": {
    "id": "jJHb1R1OKfH9",
    "cell_id": "00102-b5aa1e84-2612-41f0-b9cd-971b82391e99",
    "deepnote_to_be_reexecuted": false,
    "source_hash": "a37f4ab",
    "execution_start": 1614724699119,
    "execution_millis": 11,
    "deepnote_cell_type": "code"
   },
   "source": "b = np.ones((1,2))   # Crea un arreglo con unos en todas las posiciones\nprint(b)\nprint(b.shape)",
   "execution_count": null,
   "outputs": [
    {
     "name": "stdout",
     "text": "[[1. 1.]]\n(1, 2)\n",
     "output_type": "stream"
    }
   ]
  },
  {
   "cell_type": "code",
   "metadata": {
    "id": "1ovZqlOgKfH-",
    "cell_id": "00103-eab24e63-d579-4170-b268-b44ed8971236",
    "deepnote_to_be_reexecuted": false,
    "source_hash": "cb875d3d",
    "execution_millis": 12,
    "output_cleared": false,
    "execution_start": 1614724740767,
    "deepnote_cell_type": "code"
   },
   "source": "c = np.full((2,2), 7) # Crea un arreglo constante\nprint(c) ",
   "execution_count": null,
   "outputs": [
    {
     "name": "stdout",
     "text": "[[7 7]\n [7 7]]\n",
     "output_type": "stream"
    }
   ]
  },
  {
   "cell_type": "code",
   "metadata": {
    "id": "GRxNDfqxKfH_",
    "cell_id": "00104-5d9b6081-9f36-4053-a675-0271fc415bcb",
    "deepnote_to_be_reexecuted": false,
    "source_hash": "8f92c406",
    "execution_millis": 23,
    "output_cleared": false,
    "execution_start": 1614724784898,
    "deepnote_cell_type": "code"
   },
   "source": "d = np.eye(2)        # Crea una matriz identidad 2x2\nprint(d)",
   "execution_count": null,
   "outputs": [
    {
     "name": "stdout",
     "text": "[[1. 0.]\n [0. 1.]]\n",
     "output_type": "stream"
    }
   ]
  },
  {
   "cell_type": "code",
   "metadata": {
    "id": "2aZVdrMaKfIB",
    "cell_id": "00105-cb342d81-350c-4e26-8ab1-6a15911ace6f",
    "deepnote_to_be_reexecuted": false,
    "source_hash": "a4914a2b",
    "execution_millis": 10,
    "output_cleared": false,
    "execution_start": 1614724789403,
    "deepnote_cell_type": "code"
   },
   "source": "e = np.random.random((2,2)) # Crea un arreglo con valores aleatorios entre 0 y 1\nprint(e)",
   "execution_count": null,
   "outputs": [
    {
     "name": "stdout",
     "text": "[[0.61450039 0.41578148]\n [0.59580962 0.85369741]]\n",
     "output_type": "stream"
    }
   ]
  },
  {
   "cell_type": "markdown",
   "source": "### Array indexing",
   "metadata": {
    "id": "norJPSn-KfIC",
    "cell_id": "00106-50f1dd2b-bfb5-413f-af52-8756177f48f7",
    "deepnote_cell_type": "markdown"
   }
  },
  {
   "cell_type": "markdown",
   "source": "Numpy ofrece varias formas de indexar en arreglos.\n\nSlicing: similar a las listas de Python, los arreglos numpy se les pueden hacer slices. Dado que los arreglos pueden ser multidimensionales, se debe especificar un slice para cada dimensión del arreglo:",
   "metadata": {
    "id": "nOJQoUSuKfIC",
    "cell_id": "00107-6b25a0a7-5a12-4994-9b76-889a38a0a891",
    "deepnote_cell_type": "markdown"
   }
  },
  {
   "cell_type": "code",
   "metadata": {
    "id": "CcNCmTVpKfIE",
    "cell_id": "00108-daf07c8e-c49f-4daf-93a6-a43cb25e3a0d",
    "deepnote_cell_type": "code"
   },
   "source": "import numpy as np\n\n# Crea el siguiente arreglo de rango 2 con forma (3, 4)\n# [[ 1  2  3  4]\n#  [ 5  6  7  8]\n#  [ 9 10 11 12]]\na = np.array([[1,2,3,4], [5,6,7,8], [9,10,11,12]])\n\n# Usamos slicing para recuperar un subarreglo que consiste de las 2 primeras\n# filas y las columnas 1 y 2; b es el siguiente arreglo de forma (2, 2):\n# [[2 3]\n#  [6 7]]\nb = a[:2, 1:3]\nprint(b)\n",
   "execution_count": null,
   "outputs": []
  },
  {
   "cell_type": "markdown",
   "source": "Un slice de un arreglo es una vista de los mismos datos, por lo que modificarla modificará la matriz original.",
   "metadata": {
    "id": "wSkJUSXoKfIG",
    "cell_id": "00109-0d47bd5b-c8fd-46c4-a191-b71f93cdfbb5",
    "deepnote_cell_type": "markdown"
   }
  },
  {
   "cell_type": "code",
   "metadata": {
    "id": "zD8J-hy9KfIG",
    "cell_id": "00110-7c695a53-e92b-4fbf-bdc6-0d9b65487d76",
    "deepnote_cell_type": "code"
   },
   "source": "print(a[0, 1]) \nb[0, 0] = 77    # b[0, 0] es la misma pieza de datos que a[0, 1]\nprint(a[0, 1]) ",
   "execution_count": null,
   "outputs": []
  },
  {
   "cell_type": "markdown",
   "source": "También puede mezclar la indexación con enteros con la indexación con slices. Sin embargo, hacerlo producirá una matriz de rango más bajo que la matriz original.",
   "metadata": {
    "id": "9O6lK1JwKfIH",
    "cell_id": "00111-cef2e13f-24d8-41ee-90e0-300823681dca",
    "deepnote_cell_type": "markdown"
   }
  },
  {
   "cell_type": "code",
   "metadata": {
    "id": "Ms-9zQfSKfII",
    "cell_id": "00112-6e06b88e-8a04-4fc8-b06a-bd509bbc3f67",
    "deepnote_to_be_reexecuted": false,
    "source_hash": null,
    "execution_start": 1614181101562,
    "execution_millis": 14,
    "output_cleared": true,
    "deepnote_cell_type": "code"
   },
   "source": "# Crea el siguiente arreglo de rango 2 con forma (3, 4)\na = np.array([[1,2,3,4], [5,6,7,8], [9,10,11,12]])\nprint(a)",
   "execution_count": null,
   "outputs": []
  },
  {
   "cell_type": "markdown",
   "source": "Dos formas de acceder a los datos de la fila central de la matriz.\nMezclar la indexación de enteros con *slices* produce una matriz de rango inferior, mientras que usar solo *slices* produce una matriz del mismo rango que la matriz original:",
   "metadata": {
    "id": "Ax8iNfkNKfIJ",
    "cell_id": "00113-8c4baa02-8791-4f50-8cc4-318611cad7c2",
    "deepnote_cell_type": "markdown"
   }
  },
  {
   "cell_type": "code",
   "metadata": {
    "id": "ko0UALxfKfIK",
    "cell_id": "00114-30a6ba5b-345c-4383-9417-a7530c8d99ac",
    "deepnote_to_be_reexecuted": false,
    "source_hash": "ee931c89",
    "execution_millis": 10,
    "output_cleared": false,
    "execution_start": 1614455504967,
    "deepnote_cell_type": "code"
   },
   "source": "row_r1 = a[1, :]    # Vista de rango 1 de la segunda fila de a\nrow_r2 = a[1:2, :]  # Vista de rango 2 de la segunda fila de a\nrow_r3 = a[[1], :]  # Vista de rango 2 de la segunda fila de a\nprint(row_r1, row_r1.shape) \nprint(row_r2, row_r2.shape)\nprint(row_r3, row_r3.shape)",
   "execution_count": null,
   "outputs": [
    {
     "name": "stdout",
     "text": "[0. 0.] (2,)\n[[0. 0.]] (1, 2)\n[[0. 0.]] (1, 2)\n",
     "output_type": "stream"
    }
   ]
  },
  {
   "cell_type": "code",
   "metadata": {
    "id": "vKgimm5UKfIL",
    "cell_id": "00115-cffde60c-8640-4718-a2d2-96e71d275baa",
    "deepnote_to_be_reexecuted": false,
    "source_hash": null,
    "execution_start": 1614181274192,
    "execution_millis": 14,
    "output_cleared": true,
    "deepnote_cell_type": "code"
   },
   "source": "# Podemos hacer la misma distinción al acceder a las columnas de un arreglo:\ncol_r1 = a[:, 1]\ncol_r2 = a[:, 1:2]\nprint (col_r1, col_r1.shape)\nprint ()\nprint (col_r2, col_r2.shape)",
   "execution_count": null,
   "outputs": []
  },
  {
   "cell_type": "markdown",
   "source": "Indexación entera de arreglos: cuando se indexa arreglos de números utilizando *slicing*, la vista de arreglo resultante siempre será una submatriz de la matriz original. Por el contrario, la indexación de matrices enteras le permite construir matrices arbitrarias utilizando los datos de otra matriz. Aquí hay un ejemplo:",
   "metadata": {
    "id": "PFKMC2QCKfIM",
    "cell_id": "00116-dac20729-5867-4828-a23c-3b3ff4e3cb3b",
    "deepnote_cell_type": "markdown"
   }
  },
  {
   "cell_type": "code",
   "metadata": {
    "id": "8uu66S-6KfIM",
    "cell_id": "00117-da69afa6-25d6-434f-9bcb-162edbde4c14",
    "deepnote_to_be_reexecuted": false,
    "source_hash": "d9912bab",
    "execution_millis": 10,
    "output_cleared": false,
    "execution_start": 1614455529930,
    "deepnote_cell_type": "code"
   },
   "source": "a = np.array([[1,2], [3, 4], [5, 6]])\n\nprint(a,'\\n')\n# Un ejemplo de indexación entera de arreglos.\n# El arreglo resultante tendrá forma (3,) y es el siguiente: \nprint (a[[0, 1, 2], [0, 1, 0]])\n\nprint('\\n')\n\n# El ejemplo anterior de indexación entera de arreglo es equivalente a esto:\nprint (np.array([a[0, 0], a[1, 1], a[2, 0]]))",
   "execution_count": null,
   "outputs": [
    {
     "name": "stdout",
     "text": "[[1 2]\n [3 4]\n [5 6]] \n\n[1 4 5]\n\n\n[1 4 5]\n",
     "output_type": "stream"
    }
   ]
  },
  {
   "cell_type": "code",
   "metadata": {
    "id": "L-2SNhWoKfIN",
    "cell_id": "00118-bb0cc739-7075-4946-92d1-42095f339972",
    "deepnote_to_be_reexecuted": false,
    "source_hash": null,
    "execution_start": 1614183419046,
    "execution_millis": 11,
    "output_cleared": true,
    "deepnote_cell_type": "code"
   },
   "source": "# Al usar indexación entera de arreglos, se puede reutilizar el mismo elemento\n# del arreglo original:\nprint (a[[0, 0], [1, 1]])\n\n# Equivalente al ejemplo previo de indexación entera de arreglos\nprint (np.array([a[0, 1], a[0, 1]]))",
   "execution_count": null,
   "outputs": []
  },
  {
   "cell_type": "markdown",
   "source": "Un truco útil con la indexación de matrices de enteros es seleccionar o mutar un elemento de cada fila de una matriz:",
   "metadata": {
    "id": "3SY37v6nKfIO",
    "cell_id": "00119-3811e3a6-b629-44ee-8807-a8262841e852",
    "deepnote_cell_type": "markdown"
   }
  },
  {
   "cell_type": "code",
   "metadata": {
    "id": "XqA6zA1CKfIO",
    "cell_id": "00120-5320a88a-bb4b-41bf-9730-f5e940042fe0",
    "deepnote_to_be_reexecuted": false,
    "source_hash": "5629f516",
    "execution_millis": 8,
    "output_cleared": false,
    "execution_start": 1614455990254,
    "deepnote_cell_type": "code"
   },
   "source": "# Creamos un arreglo nuevo del que seleccionaremos elementos\na = np.array([[1,2,3], [4,5,6], [7,8,9], [10, 11, 12]])\nprint (a)",
   "execution_count": null,
   "outputs": [
    {
     "name": "stdout",
     "text": "[[ 1  2  3]\n [ 4  5  6]\n [ 7  8  9]\n [10 11 12]]\n",
     "output_type": "stream"
    }
   ]
  },
  {
   "cell_type": "code",
   "metadata": {
    "id": "JAjZgwk2KfIP",
    "cell_id": "00121-7e1ec144-b0a8-453f-adef-312d88b91beb",
    "deepnote_to_be_reexecuted": false,
    "source_hash": "7dc5a7b",
    "execution_millis": 10,
    "output_cleared": false,
    "execution_start": 1614455993107,
    "deepnote_cell_type": "code"
   },
   "source": "# Creamos un arreglo de índices\nb = np.array([0, 2, 0, 1])\n\n# Seleccionamos un elemento de cada fila usando los índices en b\nprint(a[np.arange(4), b])  # Imprime \"[ 1  6  7 11]\"\n",
   "execution_count": null,
   "outputs": [
    {
     "name": "stdout",
     "text": "[ 1  6  7 11]\n",
     "output_type": "stream"
    }
   ]
  },
  {
   "cell_type": "code",
   "metadata": {
    "id": "eiWll0YGKfIQ",
    "cell_id": "00122-c1d4d63f-b778-45d7-a89d-07288657f35c",
    "deepnote_to_be_reexecuted": false,
    "source_hash": null,
    "execution_start": 1614183567327,
    "execution_millis": 13,
    "output_cleared": true,
    "deepnote_cell_type": "code"
   },
   "source": "# Mutamos un elemento de cada fila usando los índices en b\na[np.arange(4), b] += 10\nprint(a)",
   "execution_count": null,
   "outputs": []
  },
  {
   "cell_type": "markdown",
   "source": "Indexación booleana de arreglos: la indexación booleana de arreglos permite seleccionar elementos arbitrarios de una matriz. Con frecuencia, este tipo de indexación se utiliza para seleccionar los elementos de una matriz que satisfacen alguna condición. Aquí hay un ejemplo:",
   "metadata": {
    "id": "BZDY9ur9KfIR",
    "cell_id": "00123-483a03ce-fc62-444c-8940-e34cb3d9931b",
    "deepnote_cell_type": "markdown"
   }
  },
  {
   "cell_type": "code",
   "metadata": {
    "id": "HhUuILi0KfIS",
    "cell_id": "00124-be5bb72e-49c5-4e24-aadb-ff3bbd9f2ceb",
    "deepnote_to_be_reexecuted": false,
    "source_hash": null,
    "execution_start": 1614183652034,
    "execution_millis": 10,
    "output_cleared": true,
    "deepnote_cell_type": "code"
   },
   "source": "import numpy as np\n\na = np.array([[1,2], [3, 4], [5, 6]])\n\nbool_idx = (a > 2)  # Encuentra los elementos que son mayores que 2;\n                    # esto devuelve un arreglo numpy de booleanos de la misma\n                    # forma de a, donde cada componente de bool_idx informa\n                    # si el elemento de a es > 2.\n\nprint(bool_idx)",
   "execution_count": null,
   "outputs": []
  },
  {
   "cell_type": "code",
   "metadata": {
    "id": "eFc19fAaKfIT",
    "cell_id": "00125-b8c7089e-0888-44f3-adf9-b29498a82416",
    "deepnote_to_be_reexecuted": false,
    "source_hash": null,
    "execution_start": 1614183681574,
    "execution_millis": 12,
    "output_cleared": true,
    "deepnote_cell_type": "code"
   },
   "source": "# Usamos indexación booleana de arreglos para construir un arreglo de rango 1\n# que consiste de los elementos que corresponden alos valores con True del\n# arreglo bool_idx\nprint(a[bool_idx])\n\n# Podemos hacer todo lo arrba con esta instrucción concisa:\nprint(a[a > 2])\n",
   "execution_count": null,
   "outputs": []
  },
  {
   "cell_type": "markdown",
   "source": "Por brevedad, hemos omitido muchos detalles sobre la indexación de arreglos numpy; si quieres saber más debes leer la documentación.",
   "metadata": {
    "id": "hG2hc9TeKfIW",
    "cell_id": "00126-34dbcdf1-cf78-48bd-a287-3442d41ad833",
    "deepnote_cell_type": "markdown"
   }
  },
  {
   "cell_type": "markdown",
   "source": "### Tipos de datos",
   "metadata": {
    "id": "yyGwfLC7KfIW",
    "cell_id": "00127-d4c39075-4b73-4585-bba8-b86fb7d75573",
    "deepnote_cell_type": "markdown"
   }
  },
  {
   "cell_type": "markdown",
   "source": "Cada arreglo numpy es una cuadrícula de elementos del mismo tipo. Numpy proporciona un gran conjunto de tipos de datos numéricos que puede utilizar para construir matrices. Numpy intenta adivinar un tipo de datos cuando crea una matriz, pero las funciones que construyen matrices generalmente también incluyen un argumento opcional para especificar explícitamente el tipo de datos. Aquí hay un ejemplo:",
   "metadata": {
    "id": "xzNgiJplKfIX",
    "cell_id": "00128-eb45fa60-7c3f-46fd-afff-64c899a41ddc",
    "deepnote_cell_type": "markdown"
   }
  },
  {
   "cell_type": "code",
   "metadata": {
    "id": "WUIOXObYKfIX",
    "cell_id": "00129-556cade4-4057-4128-86ba-8e702b456746",
    "deepnote_cell_type": "code"
   },
   "source": "x = np.array([1, 2])  # Permite a numpy elegir el tipo de datos\ny = np.array([1.0, 2.0])  # Permite a numpy elegir el tipo de datos\nz = np.array([1, 2], dtype=np.int64)  # Fuerza a un tipo particular de datos\n\nprint (x.dtype, y.dtype, z.dtype)",
   "execution_count": null,
   "outputs": []
  },
  {
   "cell_type": "markdown",
   "source": "Puedes leer todo sobre tipos de datos numpy en la [documentación](http://docs.scipy.org/doc/numpy/reference/arrays.dtypes.html).",
   "metadata": {
    "id": "As4J0tOWKfIY",
    "cell_id": "00130-a88ccbae-eda9-4e72-9ad9-c5e23a0e306f",
    "deepnote_cell_type": "markdown"
   }
  },
  {
   "cell_type": "markdown",
   "source": "### Matemática de arreglos",
   "metadata": {
    "id": "kwHVAQ5gKfIY",
    "cell_id": "00131-d1b4d7ff-f265-4b5b-8567-945bb515c976",
    "deepnote_cell_type": "markdown"
   }
  },
  {
   "cell_type": "markdown",
   "source": "Las funciones matemáticas básicas operan componente a componente y están disponibles usando operadores y como funciones en el módulo numpy:",
   "metadata": {
    "id": "xcoFZ-4OKfIY",
    "cell_id": "00132-367246fe-495d-4f19-abe6-d85b31000761",
    "deepnote_cell_type": "markdown"
   }
  },
  {
   "cell_type": "code",
   "metadata": {
    "id": "vtwT9xcyKfIZ",
    "cell_id": "00133-c346662f-20f6-48d5-95aa-c080897589f4",
    "deepnote_cell_type": "code"
   },
   "source": "x = np.array([[1,2],[3,4]], dtype=np.float64)\ny = np.array([[5,6],[7,8]], dtype=np.float64)\n\n# Suma componente a componente. Ambas producen el mismo arreglo.\nprint(x + y)\nprint(np.add(x, y))",
   "execution_count": null,
   "outputs": []
  },
  {
   "cell_type": "code",
   "metadata": {
    "id": "Mx0TL7MGKfIa",
    "cell_id": "00134-f3c95167-cda4-4ea3-ba1c-9b19f0cd486d",
    "deepnote_cell_type": "code"
   },
   "source": "# Resta componente a componente. Ambas producen el mismo arreglo.\nprint(x - y)\nprint(np.subtract(x, y))",
   "execution_count": null,
   "outputs": []
  },
  {
   "cell_type": "code",
   "metadata": {
    "id": "DN-L41CfKfIb",
    "cell_id": "00135-38440f4c-78e5-48e8-b8a8-feb16645590b",
    "deepnote_cell_type": "code"
   },
   "source": "# Multiplicación componente a componente. Ambas producen el mismo arreglo.\nprint(x * y)\nprint(np.multiply(x, y))",
   "execution_count": null,
   "outputs": []
  },
  {
   "cell_type": "code",
   "metadata": {
    "id": "p5L7YLS7KfIc",
    "cell_id": "00136-57210b02-7f35-437f-89fa-053d458c9a3d",
    "deepnote_cell_type": "code"
   },
   "source": "# División componente a componente. Ambas producen el mismo arreglo.\n# [[ 0.2         0.33333333]\n#  [ 0.42857143  0.5       ]]\nprint(x / y)\nprint(np.divide(x, y))",
   "execution_count": null,
   "outputs": []
  },
  {
   "cell_type": "code",
   "metadata": {
    "id": "wChMasjjKfId",
    "cell_id": "00137-ab32abaa-46f3-4d59-a245-a5fcb92ed1f7",
    "deepnote_cell_type": "code"
   },
   "source": "# Raíz cuadrada componente a componente. Ambas producen el mismo arreglo.\n# [[ 1.          1.41421356]\n#  [ 1.73205081  2.        ]]\nprint(np.sqrt(x))",
   "execution_count": null,
   "outputs": []
  },
  {
   "cell_type": "markdown",
   "source": "A diferencia de de otros lenguajes, `*` es una multiplicación componente a componente, no una multiplicación de matrices. En su lugar, usamos la función `dot` para calcular los productos internos de los vectores, para multiplicar un vector por una matriz y para multiplicar matrices. `dot` está disponible como función en el módulo numpy y como método de instancia de objetos de matriz:",
   "metadata": {
    "id": "hd0eqO36KfIe",
    "cell_id": "00138-2c4b87cf-901f-4241-b968-f378842dcfe3",
    "deepnote_cell_type": "markdown"
   }
  },
  {
   "cell_type": "code",
   "metadata": {
    "id": "U7X84tjGKfIf",
    "cell_id": "00139-9058b3f7-8545-4b1a-9382-6d192197e438",
    "deepnote_to_be_reexecuted": false,
    "source_hash": null,
    "execution_start": 1614183851050,
    "execution_millis": 14,
    "output_cleared": true,
    "deepnote_cell_type": "code"
   },
   "source": "x = np.array([[1,2],[3,4]])\ny = np.array([[5,6],[7,8]])\n\nv = np.array([9,10])\nw = np.array([11, 12])\n\n# Producto interno de vectores. Ambos producen 219\nprint(v.dot(w))\nprint(np.dot(v, w))\nprint(v @ w)",
   "execution_count": null,
   "outputs": []
  },
  {
   "cell_type": "code",
   "metadata": {
    "id": "KR8w3HeoKfIg",
    "cell_id": "00140-4f487ea3-2ebd-4ff7-9bf3-25657e8612da",
    "deepnote_cell_type": "code"
   },
   "source": "# Producto matriz / vector product; ambos producen el arreglo de rango 1 [29 67]\nprint(x.dot(v))\nprint(np.dot(x, v))",
   "execution_count": null,
   "outputs": []
  },
  {
   "cell_type": "code",
   "metadata": {
    "id": "cbPzcSQAKfIi",
    "cell_id": "00141-595752f5-f504-4cae-97d0-8692ae2614d1",
    "deepnote_cell_type": "code"
   },
   "source": "# Producto matriz / matriz product; ambos producen el arreglo de rango 2\n# [[19 22]\n#  [43 50]]\nprint(x.dot(y))\nprint(np.dot(x, y))\nprint(x @ y)",
   "execution_count": null,
   "outputs": []
  },
  {
   "cell_type": "markdown",
   "source": "Para realizar otras operaciones de matrices típicas del álgebra lineal como el calculo de la inversa, podemos utilizar el submódulo `linalg` de `numpy`:",
   "metadata": {
    "id": "oNeve2F0WzBm",
    "cell_id": "00142-311d75a9-bb02-4c2b-aaaa-4ef48155d369",
    "deepnote_cell_type": "markdown"
   }
  },
  {
   "cell_type": "code",
   "metadata": {
    "id": "65AnRtaVjILT",
    "cell_id": "00143-5230185f-149d-417c-b96a-892c8cb5b8e3",
    "deepnote_cell_type": "code"
   },
   "source": "from numpy.linalg import inv\n\nx = np.array([[1,2],[3,4]])\nprint(inv(x))",
   "execution_count": null,
   "outputs": []
  },
  {
   "cell_type": "markdown",
   "source": "Numpy proporciona muchas funciones útiles para realizar cálculos en matrices:",
   "metadata": {
    "id": "7jyZkCDlKfIj",
    "cell_id": "00144-de31380b-6ade-463c-899b-862ff00c2cd7",
    "deepnote_cell_type": "markdown"
   }
  },
  {
   "cell_type": "code",
   "metadata": {
    "id": "-pzu6vJJKfIk",
    "cell_id": "00145-98d1e53f-3948-4e3a-8bb5-259d05dc10ec",
    "deepnote_to_be_reexecuted": false,
    "source_hash": null,
    "execution_millis": 16,
    "execution_start": 1614457449524,
    "output_cleared": true,
    "deepnote_cell_type": "code"
   },
   "source": "x = np.array([[-1,2],[-3,4]])\n\nprint(np.sum(x))  # Computa la suma de todos los elementos; imprime \"10\"\nprint(np.sum(x, axis=0))  # Computa la suma de cada columna; imprime \"[4 6]\"\nprint(np.sum(x, axis=1))  # Computa la suma de cada fila; imprime \"[3 7]\"\nprint(np.abs(x))",
   "execution_count": null,
   "outputs": []
  },
  {
   "cell_type": "code",
   "metadata": {
    "tags": [],
    "cell_id": "00145-22e85351-19e1-47ae-b725-f34e3c29829a",
    "deepnote_to_be_reexecuted": false,
    "source_hash": null,
    "execution_millis": 14,
    "execution_start": 1614457545019,
    "output_cleared": true,
    "deepnote_cell_type": "code"
   },
   "source": "x = np.array([[1,2],[3,4]])\nprint(np.sin(x))\nprint(np.exp(x))\nprint(np.power(3, x))\nprint(np.log(x))\nprint(np.log10(x))",
   "execution_count": null,
   "outputs": []
  },
  {
   "cell_type": "markdown",
   "source": "Para cálculos grandes, a veces es útil poder especificar la matriz donde se almacenará el resultado del cálculo. En lugar de crear una matriz temporal, esto se puede usar para escribir los resultados del cálculo directamente en la ubicación de la memoria donde le gustaría que estuvieran. Para todos los ufuncs, esto se puede hacer usando el argumento out de la función:",
   "metadata": {
    "tags": [],
    "cell_id": "00146-a6019a46-ab37-4595-b2ff-83fe11acc737",
    "deepnote_cell_type": "markdown"
   }
  },
  {
   "cell_type": "code",
   "metadata": {
    "tags": [],
    "cell_id": "00147-4c0a9e83-62d8-4e4a-b049-3efd40c1ce61",
    "deepnote_to_be_reexecuted": false,
    "source_hash": null,
    "execution_start": 1614457686238,
    "execution_millis": 9,
    "output_cleared": true,
    "deepnote_cell_type": "code"
   },
   "source": "x = np.arange(5)\ny = np.empty(5)\nnp.multiply(x, 10, out=y)\nprint(y)",
   "execution_count": null,
   "outputs": []
  },
  {
   "cell_type": "code",
   "metadata": {
    "tags": [],
    "cell_id": "00148-051623f5-631f-4bd8-856d-3f30f8bdbd75",
    "deepnote_to_be_reexecuted": false,
    "source_hash": null,
    "execution_start": 1614457698179,
    "execution_millis": 12,
    "output_cleared": true,
    "deepnote_cell_type": "code"
   },
   "source": "y = np.zeros(10)\nnp.power(2, x, out=y[::2])\nprint(y)",
   "execution_count": null,
   "outputs": []
  },
  {
   "cell_type": "markdown",
   "source": "\nAdemás de calcular funciones matemáticas utilizando arreglos, con frecuencia necesitamos cambiar la forma o manipular datos en arreglos. El ejemplo más simple de este tipo de operación es la transposición de una matriz; para transponer una matriz, simplemente use el atributo T de un objeto de matriz:",
   "metadata": {
    "tags": [],
    "cell_id": "00151-d742f224-26ee-4ced-836f-4951ef681ae9",
    "deepnote_cell_type": "markdown"
   }
  },
  {
   "cell_type": "code",
   "metadata": {
    "id": "KctyxTmEKfIn",
    "cell_id": "00147-d6f5562c-3060-4109-a7c2-436678d707b6",
    "deepnote_cell_type": "code"
   },
   "source": "print(x)\nprint(x.T)",
   "execution_count": null,
   "outputs": []
  },
  {
   "cell_type": "code",
   "metadata": {
    "id": "YfpvratDKfIp",
    "cell_id": "00148-894102f4-e0aa-4a32-a8db-e6e98b19c759",
    "deepnote_cell_type": "code"
   },
   "source": "v = np.array([[1,2,3]])\nprint(v)\nprint(v.T)",
   "execution_count": null,
   "outputs": []
  },
  {
   "cell_type": "markdown",
   "source": "Hay algunos agregados interesantes que se pueden calcular directamente desde el objeto. Por ejemplo, si queremos reducir una matriz con una operación en particular, podemos usar el método reduce de cualquier ufunc. Reducir aplica repetidamente una operación determinada a los elementos de una matriz hasta que solo queda un resultado",
   "metadata": {
    "tags": [],
    "cell_id": "00152-fc1a60db-2ea7-4234-b095-619092f8b699",
    "deepnote_cell_type": "markdown"
   }
  },
  {
   "cell_type": "code",
   "metadata": {
    "tags": [],
    "cell_id": "00153-619a54fa-e491-4ae1-bf60-7985c1ec89e0",
    "deepnote_to_be_reexecuted": false,
    "source_hash": null,
    "execution_start": 1614457948869,
    "execution_millis": 15,
    "output_cleared": true,
    "deepnote_cell_type": "code"
   },
   "source": "x = np.arange(1, 6)\nnp.add.reduce(x)",
   "execution_count": null,
   "outputs": []
  },
  {
   "cell_type": "code",
   "metadata": {
    "tags": [],
    "cell_id": "00154-538509d6-7cd0-4c96-99ce-8d5a3286ff51",
    "deepnote_to_be_reexecuted": false,
    "source_hash": "5d9ecbb3",
    "execution_start": 1614457975383,
    "execution_millis": 9,
    "deepnote_cell_type": "code"
   },
   "source": "np.multiply.reduce(x)",
   "execution_count": null,
   "outputs": [
    {
     "output_type": "execute_result",
     "execution_count": 35,
     "data": {
      "text/plain": "120"
     },
     "metadata": {}
    }
   ]
  },
  {
   "cell_type": "markdown",
   "source": "Si quisiéramos almacenar todos los resultados intermedios del cálculo, podemos usar acumular en su lugar:",
   "metadata": {
    "tags": [],
    "cell_id": "00156-cec62f47-0dae-4a7d-9d60-7ca7ac5b581a",
    "deepnote_cell_type": "markdown"
   }
  },
  {
   "cell_type": "code",
   "metadata": {
    "tags": [],
    "cell_id": "00155-0c78b40e-bf61-4f84-a288-bc3e239c6c9f",
    "deepnote_to_be_reexecuted": false,
    "source_hash": "b459a8b3",
    "execution_start": 1614458026178,
    "execution_millis": 8,
    "deepnote_cell_type": "code"
   },
   "source": "np.add.accumulate(x)",
   "execution_count": null,
   "outputs": [
    {
     "output_type": "execute_result",
     "execution_count": 36,
     "data": {
      "text/plain": "array([ 1,  3,  6, 10, 15])"
     },
     "metadata": {}
    }
   ]
  },
  {
   "cell_type": "code",
   "metadata": {
    "tags": [],
    "cell_id": "00157-2faf2ba1-209a-433b-8d3c-765b2bce14bc",
    "deepnote_cell_type": "code"
   },
   "source": "np.multiply.accumulate(x)",
   "execution_count": null,
   "outputs": []
  },
  {
   "cell_type": "markdown",
   "source": "A menudo, cuando se enfrenta a una gran cantidad de datos, un primer paso es calcular estadísticas resumidas para los datos en cuestión. Quizás las estadísticas de resumen más comunes son la media y la desviación estándar, que le permiten resumir los valores \"típicos\" en un conjunto de datos, pero otros agregados también son útiles (la suma, el producto, la mediana, el mínimo y el máximo, los cuantiles, etc. ).",
   "metadata": {
    "tags": [],
    "cell_id": "00158-27c9f59f-fd21-4b24-bcdc-7c74234f1c6e",
    "deepnote_cell_type": "markdown"
   }
  },
  {
   "cell_type": "markdown",
   "source": "Para min, max, sum y varios otros agregados NumPy, una sintaxis más corta es usar métodos del objeto de matriz en sí",
   "metadata": {
    "tags": [],
    "cell_id": "00159-9f195969-e9d4-4986-ac45-232566946f04",
    "deepnote_cell_type": "markdown"
   }
  },
  {
   "cell_type": "code",
   "metadata": {
    "tags": [],
    "cell_id": "00158-65421c7f-bc15-4f1d-a27b-7d2f32861426",
    "deepnote_to_be_reexecuted": false,
    "source_hash": "164006ab",
    "execution_millis": 179,
    "output_cleared": false,
    "execution_start": 1615138334802,
    "deepnote_cell_type": "code"
   },
   "source": "big_array = np.random.rand(1000000)\nprint(np.min(big_array), np.max(big_array))\nprint(big_array.min(), big_array.max())\n",
   "execution_count": null,
   "outputs": [
    {
     "output_type": "error",
     "ename": "NameError",
     "evalue": "name 'np' is not defined",
     "traceback": [
      "\u001b[0;31m---------------------------------------------------------------------------\u001b[0m",
      "\u001b[0;31mNameError\u001b[0m                                 Traceback (most recent call last)",
      "\u001b[0;32m<ipython-input-1-9a1501c65c3e>\u001b[0m in \u001b[0;36m<module>\u001b[0;34m\u001b[0m\n\u001b[0;32m----> 1\u001b[0;31m \u001b[0mbig_array\u001b[0m \u001b[0;34m=\u001b[0m \u001b[0mnp\u001b[0m\u001b[0;34m.\u001b[0m\u001b[0mrandom\u001b[0m\u001b[0;34m.\u001b[0m\u001b[0mrand\u001b[0m\u001b[0;34m(\u001b[0m\u001b[0;36m1000000\u001b[0m\u001b[0;34m)\u001b[0m\u001b[0;34m\u001b[0m\u001b[0;34m\u001b[0m\u001b[0m\n\u001b[0m\u001b[1;32m      2\u001b[0m \u001b[0mprint\u001b[0m\u001b[0;34m(\u001b[0m\u001b[0mnp\u001b[0m\u001b[0;34m.\u001b[0m\u001b[0mmin\u001b[0m\u001b[0;34m(\u001b[0m\u001b[0mbig_array\u001b[0m\u001b[0;34m)\u001b[0m\u001b[0;34m,\u001b[0m \u001b[0mnp\u001b[0m\u001b[0;34m.\u001b[0m\u001b[0mmax\u001b[0m\u001b[0;34m(\u001b[0m\u001b[0mbig_array\u001b[0m\u001b[0;34m)\u001b[0m\u001b[0;34m)\u001b[0m\u001b[0;34m\u001b[0m\u001b[0;34m\u001b[0m\u001b[0m\n\u001b[1;32m      3\u001b[0m \u001b[0mprint\u001b[0m\u001b[0;34m(\u001b[0m\u001b[0mbig_array\u001b[0m\u001b[0;34m.\u001b[0m\u001b[0mmin\u001b[0m\u001b[0;34m(\u001b[0m\u001b[0;34m)\u001b[0m\u001b[0;34m,\u001b[0m \u001b[0mbig_array\u001b[0m\u001b[0;34m.\u001b[0m\u001b[0mmax\u001b[0m\u001b[0;34m(\u001b[0m\u001b[0;34m)\u001b[0m\u001b[0;34m)\u001b[0m\u001b[0;34m\u001b[0m\u001b[0;34m\u001b[0m\u001b[0m\n",
      "\u001b[0;31mNameError\u001b[0m: name 'np' is not defined"
     ]
    }
   ]
  },
  {
   "cell_type": "code",
   "metadata": {
    "tags": [],
    "cell_id": "00161-7a1c7cb9-23a4-4496-9615-948fd8845af2",
    "deepnote_to_be_reexecuted": false,
    "source_hash": "fdd3210a",
    "execution_millis": 33,
    "output_cleared": false,
    "execution_start": 1615138345558,
    "deepnote_cell_type": "code"
   },
   "source": "print(\"Promedio:       \", big_array.mean())\nprint(\"Desviación Estándar:\", big_array.std())\nprint(\"Percentil 75: \", np.percentile(big_array, 75))\nprint(\"Mediana: \", np.median(big_array))",
   "execution_count": null,
   "outputs": [
    {
     "output_type": "error",
     "ename": "NameError",
     "evalue": "name 'big_array' is not defined",
     "traceback": [
      "\u001b[0;31m---------------------------------------------------------------------------\u001b[0m",
      "\u001b[0;31mNameError\u001b[0m                                 Traceback (most recent call last)",
      "\u001b[0;32m<ipython-input-2-467039de63e6>\u001b[0m in \u001b[0;36m<module>\u001b[0;34m\u001b[0m\n\u001b[0;32m----> 1\u001b[0;31m \u001b[0mprint\u001b[0m\u001b[0;34m(\u001b[0m\u001b[0;34m\"Promedio:       \"\u001b[0m\u001b[0;34m,\u001b[0m \u001b[0mbig_array\u001b[0m\u001b[0;34m.\u001b[0m\u001b[0mmean\u001b[0m\u001b[0;34m(\u001b[0m\u001b[0;34m)\u001b[0m\u001b[0;34m)\u001b[0m\u001b[0;34m\u001b[0m\u001b[0;34m\u001b[0m\u001b[0m\n\u001b[0m\u001b[1;32m      2\u001b[0m \u001b[0mprint\u001b[0m\u001b[0;34m(\u001b[0m\u001b[0;34m\"Desviación Estándar:\"\u001b[0m\u001b[0;34m,\u001b[0m \u001b[0mbig_array\u001b[0m\u001b[0;34m.\u001b[0m\u001b[0mstd\u001b[0m\u001b[0;34m(\u001b[0m\u001b[0;34m)\u001b[0m\u001b[0;34m)\u001b[0m\u001b[0;34m\u001b[0m\u001b[0;34m\u001b[0m\u001b[0m\n\u001b[1;32m      3\u001b[0m \u001b[0mprint\u001b[0m\u001b[0;34m(\u001b[0m\u001b[0;34m\"Percentil 75: \"\u001b[0m\u001b[0;34m,\u001b[0m \u001b[0mnp\u001b[0m\u001b[0;34m.\u001b[0m\u001b[0mpercentile\u001b[0m\u001b[0;34m(\u001b[0m\u001b[0mbig_array\u001b[0m\u001b[0;34m,\u001b[0m \u001b[0;36m75\u001b[0m\u001b[0;34m)\u001b[0m\u001b[0;34m)\u001b[0m\u001b[0;34m\u001b[0m\u001b[0;34m\u001b[0m\u001b[0m\n\u001b[1;32m      4\u001b[0m \u001b[0mprint\u001b[0m\u001b[0;34m(\u001b[0m\u001b[0;34m\"Mediana: \"\u001b[0m\u001b[0;34m,\u001b[0m \u001b[0mnp\u001b[0m\u001b[0;34m.\u001b[0m\u001b[0mmedian\u001b[0m\u001b[0;34m(\u001b[0m\u001b[0mbig_array\u001b[0m\u001b[0;34m)\u001b[0m\u001b[0;34m)\u001b[0m\u001b[0;34m\u001b[0m\u001b[0;34m\u001b[0m\u001b[0m\n",
      "\u001b[0;31mNameError\u001b[0m: name 'big_array' is not defined"
     ]
    }
   ]
  },
  {
   "cell_type": "markdown",
   "source": "Puedes encontrar la lista completa de funciones matemáticas proporcionadas por numpy en la [documentación](http://docs.scipy.org/doc/numpy/reference/routines.math.html).",
   "metadata": {
    "id": "EUiTpBVdKfIn",
    "cell_id": "00146-a97ff8b3-6417-43f2-95b3-94fd5ff2c9af",
    "deepnote_cell_type": "markdown"
   }
  },
  {
   "cell_type": "markdown",
   "source": "### Broadcasting",
   "metadata": {
    "id": "z0OMgZPqKfIp",
    "cell_id": "00149-cd5f44b7-3cd4-4778-a173-ec3dee044449",
    "deepnote_cell_type": "markdown"
   }
  },
  {
   "cell_type": "markdown",
   "source": "Broadcasting es un mecanismo poderoso que permite a numpy trabajar con matrices de diferentes formas al realizar operaciones aritméticas. Con frecuencia tenemos una matriz más pequeña y una matriz más grande, y queremos usar la matriz más pequeña varias veces para realizar alguna operación en la matriz más grande.\n\nPor ejemplo, suponga que queremos agregar un vector constante a cada fila de una matriz. Podríamos hacerlo así:",
   "metadata": {
    "id": "mR1EPvLeKfIq",
    "cell_id": "00150-3a87485c-978d-4435-b99b-b6120c411263",
    "deepnote_cell_type": "markdown"
   }
  },
  {
   "cell_type": "code",
   "metadata": {
    "id": "DvHCiDxKKfIq",
    "cell_id": "00151-0f26d1a9-40e3-4bbc-839d-91247e6d81e8",
    "deepnote_cell_type": "code"
   },
   "source": "# Sumaremos el vectov a cada fila de la matriz x,\n# guardando el resultado en la matriz y\nx = np.array([[1,2,3], [4,5,6], [7,8,9], [10, 11, 12]])\nv = np.array([1, 0, 1])\ny = np.empty_like(x)   # Creamos una matriz vacía con la misma forma de x\n\n# Suma el vector v a cada fila de la matriz x usando un bucle explícito\nfor i in range(4):\n    y[i, :] = x[i, :] + v\n\nprint (y)",
   "execution_count": null,
   "outputs": []
  },
  {
   "cell_type": "markdown",
   "source": "Esto funciona; sin embargo, cuando la matriz `x` es muy grande, calcular un buble explícito en Python podría ser lento. Tenga en cuenta que agregar el vector `v` a cada fila de la matriz `x` es equivalente a formar una matriz `vv` apilando múltiples copias de `v` verticalmente y luego realizar la suma de elementos de` x` y `vv`. Podríamos implementar este enfoque de esta manera:",
   "metadata": {
    "id": "exGkfJ1oKfIr",
    "cell_id": "00152-c4b7aeaa-e6ed-4d63-bab3-fccc6f85a2d3",
    "deepnote_cell_type": "markdown"
   }
  },
  {
   "cell_type": "code",
   "metadata": {
    "id": "1KiY6FTNKfIs",
    "cell_id": "00153-c3f8a67b-3ce5-4bd9-b0b4-94db152f747a",
    "deepnote_cell_type": "code"
   },
   "source": "vv = np.tile(v, (4, 1))  # Apila 4 copias de v encima una de otra\nprint (vv)               # imprime \"[[1 0 1]\n                         #          [1 0 1]\n                         #          [1 0 1]\n                         #          [1 0 1]]\"",
   "execution_count": null,
   "outputs": []
  },
  {
   "cell_type": "code",
   "metadata": {
    "id": "O0zpCx8dKfIs",
    "cell_id": "00154-9d3b92ca-6864-4a62-81f3-47c2317ed059",
    "deepnote_cell_type": "code"
   },
   "source": "y = x + vv  # Suma x & vv componente a componente\nprint (y)",
   "execution_count": null,
   "outputs": []
  },
  {
   "cell_type": "markdown",
   "source": "El broadcasting de `numpy` nos permite realizar esta operación sin la necesidad de crear realmente multiples copias de `v`. Considere esta versión usando broadcasting:",
   "metadata": {
    "id": "rPE_dkIbKfIt",
    "cell_id": "00155-d2ba4327-d417-4289-be51-4ed4b0d3de29",
    "deepnote_cell_type": "markdown"
   }
  },
  {
   "cell_type": "code",
   "metadata": {
    "id": "pMCcy0iIKfIt",
    "cell_id": "00156-b9244a91-725f-44ed-9e74-7d0bed269b25",
    "deepnote_to_be_reexecuted": false,
    "source_hash": null,
    "execution_start": 1614184235608,
    "execution_millis": 29,
    "output_cleared": true,
    "deepnote_cell_type": "code"
   },
   "source": "import numpy as np\n\n# Sumaremos el vector v a cada fila de la matriz x,\n# guardando el resultado en la matriz y\nx = np.array([[1,2,3], [4,5,6], [7,8,9], [10, 11, 12]])\nv = np.array([1, 0, 1])\ny = x + v  # Sumamos v a cada fila de x usando broadcasting\nprint (y)",
   "execution_count": null,
   "outputs": []
  },
  {
   "cell_type": "markdown",
   "source": "La línea `y = x + v` funciona aunque` x` tiene forma `(4, 3)` y `v` tiene forma` (3,) `debido al *broadcasting*; esta línea funciona como si `v` realmente tuviera la forma `(4, 3)`, donde cada fila sería una copia de `v`, y la suma se realizara por elementos.\n\nEl *broadcasting* de dos matrices juntas sigue estas reglas:\n\n1. Si las matrices no tienen el mismo rango, antepon 1 a la forma de la matriz de rango inferior hasta que ambas formas tengan la misma longitud.\n2. Se dice que las dos matrices son compatibles en una dimensión si tienen el mismo tamaño en la dimensión, o si una de las matrices tiene el tamaño 1 en esa dimensión.\n3. Los arreglos pueden operarse usando *broadcasting* si son compatibles en todas las dimensiones.\n4. Después del *broadcasting*, cada matriz se comporta como si tuviese una forma igual al máximo de formas de los dos elementos de entrada.\n5. En cualquier dimensión donde una matriz tiene un tamaño 1 y la otra matriz tiene un tamaño mayor que 1, la primera matriz se comporta como si se hubiera copiado a lo largo de esa dimensión.\n\nSi esta explicación no tiene sentido, intenta leer la explicación de la [documentación](http://docs.scipy.org/doc/numpy/user/basics.broadcasting.html) o esta [explicación](http://wiki.scipy.org/EricsBroadcastingDoc).\n\nLas funciones que admiten *broadcasting* se conocen como funciones universales. Puede encontrar la lista de todas las funciones universales en la [documentación](http://docs.scipy.org/doc/numpy/reference/ufuncs.html#available-ufuncs).\n\nEstas son algunas aplicaciones de la *broadcasting*:",
   "metadata": {
    "id": "dq72lp8YKfIu",
    "cell_id": "00157-b22853e3-d774-4ec0-9208-24804d588106",
    "deepnote_cell_type": "markdown"
   }
  },
  {
   "cell_type": "code",
   "metadata": {
    "id": "WdO5Q2ApKfIu",
    "cell_id": "00158-957f15bf-b0dc-4673-b98b-422923007092",
    "deepnote_to_be_reexecuted": false,
    "source_hash": null,
    "execution_millis": 96,
    "execution_start": 1614184566840,
    "output_cleared": true,
    "deepnote_cell_type": "code"
   },
   "source": "# Computar productos externos de vectores\nv = np.array([1,2,3])  # v tiene forma (3,)\nw = np.array([4,5])    # w tiene forma (2,)\n# Para computar el producto externo, primero cambimos la forma de v para que sea\n# un vector columna con forma; ahora podemos hacer broadcast contra w para \n# encontrar una salida de forma (3, 2), que es el producto externo de v & w:\n\nprint(v,'\\n')\nprint(w,'\\n')\nprint(np.reshape(v,(3,1)),'\\n')\nprint(np.reshape(v, (3, 1)) * w)\n",
   "execution_count": null,
   "outputs": []
  },
  {
   "cell_type": "code",
   "metadata": {
    "id": "NkKdM1m6KfIv",
    "cell_id": "00159-3080e999-1ee3-4a6d-af9b-81d471ea4e8a",
    "deepnote_to_be_reexecuted": false,
    "source_hash": null,
    "execution_millis": 9,
    "execution_start": 1614184629822,
    "output_cleared": true,
    "deepnote_cell_type": "code"
   },
   "source": "# Sumar un vector a cada fila de una matriz\nx = np.array([[1,2,3], [4,5,6]])\n# x tiene forma (2, 3) & v tiene forma (3,) haciendo broadcast a (2, 3),\n# resultando en la siguiente matriz:\n\nprint(x,'\\n')\nprint(v,'\\n')\nprint(x + v)",
   "execution_count": null,
   "outputs": []
  },
  {
   "cell_type": "code",
   "metadata": {
    "id": "ZH_FzyNtKfIw",
    "cell_id": "00160-1857a09a-920d-4d33-994a-5b33d775a439",
    "deepnote_to_be_reexecuted": false,
    "source_hash": null,
    "execution_millis": 15,
    "execution_start": 1614184832455,
    "output_cleared": true,
    "deepnote_cell_type": "code"
   },
   "source": "# Sumar un vector a cada columna de una matriz\n# x tiene forma (2, 3) & w tiene forma (2,).\n# Si tranponemos x entonces tendrá forma (3, 2) y se puede hacer broadcast\n# contra w para lleegar a un resultado de forma (3, 2); transponiedo el \n# resultado se llega al resultado final de forma (2, 3) que es la matriz x con\n# el vector w sumado a cada columna. Obteniendo la siguiente matriz:\n\nprint(x,'\\n')\nprint(x.T,'\\n')\nprint(w,'\\n')\n\nprint((x.T + w),'\\n')\nprint((x.T + w).T)",
   "execution_count": null,
   "outputs": []
  },
  {
   "cell_type": "code",
   "metadata": {
    "id": "84uglG8rKfIx",
    "cell_id": "00161-d42286b9-a451-4e13-b8e5-65fab6fde65b",
    "deepnote_cell_type": "code"
   },
   "source": "# Otra solución es cambiar la forma de w a un vector fila de forma (2, 1);\n# luego podemos hacer broadcast contra x para producir el mismo resultado. \nprint(x + np.reshape(w, (2, 1)))",
   "execution_count": null,
   "outputs": []
  },
  {
   "cell_type": "code",
   "metadata": {
    "id": "OL5EzXUoKfIy",
    "cell_id": "00162-1e0bd073-7f1e-452f-9871-93bcd76aea7f",
    "deepnote_cell_type": "code"
   },
   "source": "# Multiplicar una matriz por una constante:\n# x tiene forma (2, 3). Numpy trata los escalares como arreglos de forma ();\n# estos pueden operarse con broadcast a la forma (2, 3), produciendo el\n# siguiente arreglo:\nprint(x * 2)",
   "execution_count": null,
   "outputs": []
  },
  {
   "cell_type": "markdown",
   "source": "\nHacer broadcasting, típicamente hace que el código sea más conciso y rápido, así que se debería utilizar cuando sea posible\n",
   "metadata": {
    "id": "lvl2xPbKKfIy",
    "cell_id": "00163-1a786e93-ac97-4361-8ad8-ed06511aa3fe",
    "deepnote_cell_type": "markdown"
   }
  },
  {
   "cell_type": "markdown",
   "source": "Esta breve descripción general ha abordado muchas de las cosas importantes que necesita saber sobre numpy, pero está lejos de ser completa. Consulte la [referencia de numpy](http://docs.scipy.org/doc/numpy/reference/) para obtener más información sobre numpy.",
   "metadata": {
    "id": "OtP8X3ljKfIz",
    "cell_id": "00164-85f2504b-849b-475d-8f73-07afb023f440",
    "deepnote_cell_type": "markdown"
   }
  },
  {
   "cell_type": "markdown",
   "source": "## Pandas",
   "metadata": {
    "tags": [],
    "cell_id": "00188-f5f0ddc6-fe52-4e43-986b-697079814f59",
    "deepnote_cell_type": "markdown"
   }
  },
  {
   "cell_type": "markdown",
   "source": "Pandas es un paquete construido sobre NumPy y proporciona una implementación eficiente de un DataFrame. Los DataFrames son esencialmente matrices multidimensionales con etiquetas de fila y columna adjuntas y, a menudo, con tipos heterogéneos y / o datos faltantes. Además de ofrecer una interfaz de almacenamiento conveniente para datos etiquetados, Pandas implementa una serie de poderosas operaciones de datos familiares para los usuarios de marcos de base de datos y programas de hojas de cálculo.",
   "metadata": {
    "tags": [],
    "cell_id": "00189-0991dfdb-6279-441e-9382-6374e1d4c925",
    "deepnote_cell_type": "markdown"
   }
  },
  {
   "cell_type": "code",
   "metadata": {
    "tags": [],
    "cell_id": "00190-1efabe2b-8abe-48c5-b093-a6519175800b",
    "deepnote_to_be_reexecuted": false,
    "source_hash": "91448937",
    "execution_millis": 10,
    "output_cleared": false,
    "execution_start": 1614892788899,
    "deepnote_cell_type": "code"
   },
   "source": "import pandas as pd\npd.__version__",
   "execution_count": null,
   "outputs": [
    {
     "output_type": "execute_result",
     "execution_count": 1,
     "data": {
      "text/plain": "'1.2.2'"
     },
     "metadata": {}
    }
   ]
  },
  {
   "cell_type": "markdown",
   "source": "Los objetos Pandas se pueden considerar como versiones mejoradas de matrices estructuradas NumPy en las que las filas y columnas se identifican con etiquetas en lugar de simples índices enteros. Pandas proporciona una gran cantidad de herramientas, métodos y funcionalidades útiles además de las estructuras de datos básicas. Para esto tenemos tres estructuras de datos fundamentales de Pandas: Series, el DataFrame e Index.",
   "metadata": {
    "tags": [],
    "cell_id": "00191-4cb2470e-a7d1-44d8-a3fd-d4977066926a",
    "deepnote_cell_type": "markdown"
   }
  },
  {
   "cell_type": "markdown",
   "source": "### Series en Pandas",
   "metadata": {
    "tags": [],
    "cell_id": "00192-130bb008-6e99-4d80-b5bd-cb4fb6798727",
    "deepnote_cell_type": "markdown"
   }
  },
  {
   "cell_type": "markdown",
   "source": "Una serie Pandas es una matriz unidimensional de datos indexados. Se puede crear a partir de una lista o matriz de la siguiente manera:",
   "metadata": {
    "tags": [],
    "cell_id": "00193-4147241c-7c52-4634-a673-a1a1b203c2b6",
    "deepnote_cell_type": "markdown"
   }
  },
  {
   "cell_type": "code",
   "metadata": {
    "tags": [],
    "cell_id": "00194-d59238cc-3c73-4659-8ff3-59a47c060d93",
    "deepnote_to_be_reexecuted": false,
    "source_hash": "fc9beee7",
    "execution_millis": 14,
    "output_cleared": false,
    "execution_start": 1614892868683,
    "deepnote_cell_type": "code"
   },
   "source": "data = pd.Series([0.25, 0.5, 0.75, 1.0])\nprint(data)\nprint(data.values)\nprint(type(data.values))\nprint(data.index)\nprint(type(data.index))",
   "execution_count": null,
   "outputs": [
    {
     "name": "stdout",
     "text": "0    0.25\n1    0.50\n2    0.75\n3    1.00\ndtype: float64\n[0.25 0.5  0.75 1.  ]\n<class 'numpy.ndarray'>\nRangeIndex(start=0, stop=4, step=1)\n<class 'pandas.core.indexes.range.RangeIndex'>\n",
     "output_type": "stream"
    }
   ]
  },
  {
   "cell_type": "markdown",
   "source": "Al igual que con un Array NumPy, se puede acceder a los datos mediante el índice asociado a través de la conocida notación de corchetes de Python:",
   "metadata": {
    "tags": [],
    "cell_id": "00195-35e8dc6d-79fb-402e-b4d2-750eeee24c0f",
    "deepnote_cell_type": "markdown"
   }
  },
  {
   "cell_type": "code",
   "metadata": {
    "tags": [],
    "cell_id": "00196-a9e264bb-3e5c-4eb2-80ad-8f0e60c0935f",
    "deepnote_to_be_reexecuted": false,
    "source_hash": "87124344",
    "execution_millis": 10,
    "output_cleared": false,
    "execution_start": 1614893036471,
    "deepnote_cell_type": "code"
   },
   "source": "print(data[1])\nprint(data[1:3])",
   "execution_count": null,
   "outputs": [
    {
     "name": "stdout",
     "text": "0.5\n1    0.50\n2    0.75\ndtype: float64\n",
     "output_type": "stream"
    }
   ]
  },
  {
   "cell_type": "markdown",
   "source": "La diferencia esencial es la presencia del índice: mientras que Numpy Array tiene un índice entero definido implícitamente que se utiliza para acceder a los valores, la serie Pandas tiene un índice definido explícitamente asociado con los valores. El índice no necesita ser un número entero, pero puede constar de valores de cualquier tipo deseado. Por ejemplo, si lo deseamos, podemos usar cadenas como índice:",
   "metadata": {
    "tags": [],
    "cell_id": "00197-1c9046a7-f7fe-4ff5-ae97-8cae5d0a3041",
    "deepnote_cell_type": "markdown"
   }
  },
  {
   "cell_type": "code",
   "metadata": {
    "tags": [],
    "cell_id": "00198-a05ec9ef-2cd9-48c8-a9fe-cef9c4d4c695",
    "deepnote_to_be_reexecuted": false,
    "source_hash": "598de231",
    "execution_millis": 10,
    "output_cleared": false,
    "execution_start": 1614893089219,
    "deepnote_cell_type": "code"
   },
   "source": "data = pd.Series([0.25, 0.5, 0.75, 1.0],\n                 index=['a', 'b', 'c', 'd'])\n\nprint(data)\nprint(data['b'])",
   "execution_count": null,
   "outputs": [
    {
     "name": "stdout",
     "text": "a    0.25\nb    0.50\nc    0.75\nd    1.00\ndtype: float64\n0.5\n",
     "output_type": "stream"
    }
   ]
  },
  {
   "cell_type": "markdown",
   "source": "O si los índices son numéricos, no necesariamente tienen que estar en orden",
   "metadata": {
    "tags": [],
    "cell_id": "00199-0bd001c2-468a-434b-ac5f-7f9d0d005a85",
    "deepnote_cell_type": "markdown"
   }
  },
  {
   "cell_type": "code",
   "metadata": {
    "tags": [],
    "cell_id": "00199-906feea2-b5c4-4e1d-ac5c-325244c22e8f",
    "deepnote_to_be_reexecuted": false,
    "source_hash": "dfcdf244",
    "execution_millis": 11,
    "output_cleared": false,
    "execution_start": 1614893135809,
    "deepnote_cell_type": "code"
   },
   "source": "data = pd.Series([0.25, 0.5, 0.75, 1.0],\n                 index=[2, 5, 3, 7])\nprint(data)\nprint(data[5])",
   "execution_count": null,
   "outputs": [
    {
     "name": "stdout",
     "text": "2    0.25\n5    0.50\n3    0.75\n7    1.00\ndtype: float64\n0.5\n",
     "output_type": "stream"
    }
   ]
  },
  {
   "cell_type": "markdown",
   "source": "También se puede pensar en una serie Pandas como una especialización de un diccionario de Python, pero con la ventaja de permitir realizar slicing",
   "metadata": {
    "tags": [],
    "cell_id": "00201-98472a31-9a84-4768-94c6-4c94ea16b81c",
    "deepnote_cell_type": "markdown"
   }
  },
  {
   "cell_type": "code",
   "metadata": {
    "tags": [],
    "cell_id": "00200-5510f48c-dcfa-4f60-8e40-9af91002f3f3",
    "deepnote_to_be_reexecuted": false,
    "source_hash": "dd9b9ced",
    "execution_millis": 9,
    "output_cleared": false,
    "execution_start": 1616025323293,
    "deepnote_cell_type": "code"
   },
   "source": "import pandas as pd\npopulation_dict = {'California': 38332521,\n                   'Texas': 26448193,\n                   'New York': 19651127,\n                   'Florida': 19552860,\n                   'Illinois': 12882135}\npopulation = pd.Series(population_dict)\nprint(population,'\\n')\nprint(population['California'],'\\n')\nprint(population['California':'Florida'])",
   "execution_count": null,
   "outputs": [
    {
     "name": "stdout",
     "text": "California    38332521\nTexas         26448193\nNew York      19651127\nFlorida       19552860\nIllinois      12882135\ndtype: int64 \n\n38332521 \n\nCalifornia    38332521\nTexas         26448193\nNew York      19651127\nFlorida       19552860\ndtype: int64\n",
     "output_type": "stream"
    }
   ]
  },
  {
   "cell_type": "markdown",
   "source": "### DataFrame",
   "metadata": {
    "tags": [],
    "cell_id": "00203-1e369ce1-797c-4e34-a76b-93d79435b0e7",
    "deepnote_cell_type": "markdown"
   }
  },
  {
   "cell_type": "markdown",
   "source": "Un DataFrame puede ser visto, tanto como una generalización de un Array Numpy de dos dimensiones con índices de filas y columnas flexibles o como un diccionario en el cual los valores de las llaves refieran a columnas completas. O incluso como una sucesión de Series que compartan el mismo índice",
   "metadata": {
    "tags": [],
    "cell_id": "00204-5380de5f-79ec-4897-a247-3782c1fbc4fc",
    "deepnote_cell_type": "markdown"
   }
  },
  {
   "cell_type": "markdown",
   "source": "Para eso traemos un nuevo diccionario de las áreas por cada estado",
   "metadata": {
    "tags": [],
    "cell_id": "00205-cb34ba27-7a9a-4e0c-a377-c495be24c2f2",
    "deepnote_cell_type": "markdown"
   }
  },
  {
   "cell_type": "code",
   "metadata": {
    "tags": [],
    "cell_id": "00205-60ae647c-340b-4bc6-af75-2b42e53a3477",
    "deepnote_to_be_reexecuted": false,
    "source_hash": "ade46401",
    "execution_millis": 11,
    "output_cleared": false,
    "execution_start": 1614893417803,
    "deepnote_cell_type": "code"
   },
   "source": "area_dict = {'California': 423967, 'Texas': 695662, 'New York': 141297,\n             'Florida': 170312, 'Illinois': 149995}\narea = pd.Series(area_dict)\nprint(area)",
   "execution_count": null,
   "outputs": [
    {
     "name": "stdout",
     "text": "California    423967\nTexas         695662\nNew York      141297\nFlorida       170312\nIllinois      149995\ndtype: int64\n",
     "output_type": "stream"
    }
   ]
  },
  {
   "cell_type": "markdown",
   "source": "Y construimos un objeto único (DataFrame) de dos dimensiones",
   "metadata": {
    "tags": [],
    "cell_id": "00207-2e7a6674-7941-4bdf-9dec-38fc484a3de5",
    "deepnote_cell_type": "markdown"
   }
  },
  {
   "cell_type": "code",
   "metadata": {
    "tags": [],
    "cell_id": "00206-941a1967-3100-48a6-bc75-8ad83926cc39",
    "deepnote_to_be_reexecuted": false,
    "source_hash": "ab87606b",
    "execution_millis": 9,
    "output_cleared": false,
    "execution_start": 1614893441619,
    "deepnote_cell_type": "code"
   },
   "source": "states = pd.DataFrame({'population': population,\n                       'area': area})\nprint(states)",
   "execution_count": null,
   "outputs": [
    {
     "name": "stdout",
     "text": "            population    area\nCalifornia    38332521  423967\nTexas         26448193  695662\nNew York      19651127  141297\nFlorida       19552860  170312\nIllinois      12882135  149995\n",
     "output_type": "stream"
    }
   ]
  },
  {
   "cell_type": "markdown",
   "source": "Y podemos acceder a la información contenida en el DataFrame",
   "metadata": {
    "tags": [],
    "cell_id": "00209-886a69b2-4f61-4231-b6e2-36a84e47711a",
    "deepnote_cell_type": "markdown"
   }
  },
  {
   "cell_type": "code",
   "metadata": {
    "tags": [],
    "cell_id": "00209-3c19a17c-a087-4d4b-aba9-8c267a1970e3",
    "deepnote_to_be_reexecuted": false,
    "source_hash": "8766f4e4",
    "execution_millis": 9,
    "execution_start": 1614893574675,
    "deepnote_cell_type": "code"
   },
   "source": "print(states.index,'\\n')\nprint(states.columns,'\\n')\nprint(states['area'])",
   "execution_count": null,
   "outputs": [
    {
     "name": "stdout",
     "text": "Index(['California', 'Texas', 'New York', 'Florida', 'Illinois'], dtype='object') \n\nIndex(['population', 'area'], dtype='object') \n\nCalifornia    423967\nTexas         695662\nNew York      141297\nFlorida       170312\nIllinois      149995\nName: area, dtype: int64\n",
     "output_type": "stream"
    }
   ]
  },
  {
   "cell_type": "markdown",
   "source": "### Index",
   "metadata": {
    "tags": [],
    "cell_id": "00211-45027348-ac7f-4386-aaed-566be96ad6b4",
    "deepnote_cell_type": "markdown"
   }
  },
  {
   "cell_type": "markdown",
   "source": "Hemos visto aquí que tanto los objetos Series como DataFrame contienen un índice explícito que le permite hacer referencia y modificar datos. Este objeto de índice es una estructura interesante en sí mismo, y se puede considerar como una matriz inmutable o como un conjunto ordenado",
   "metadata": {
    "tags": [],
    "cell_id": "00212-a94ae281-3ac5-460f-b724-6c84b123f7c0",
    "deepnote_cell_type": "markdown"
   }
  },
  {
   "cell_type": "code",
   "metadata": {
    "tags": [],
    "cell_id": "00213-c213740e-72b2-4db3-b7fa-94a931449242",
    "deepnote_to_be_reexecuted": false,
    "source_hash": "6ea97574",
    "execution_millis": 11,
    "output_cleared": false,
    "execution_start": 1614893633707,
    "deepnote_cell_type": "code"
   },
   "source": "ind = pd.Index([2, 3, 5, 7, 11])\nprint(ind)\n",
   "execution_count": null,
   "outputs": [
    {
     "name": "stdout",
     "text": "Int64Index([2, 3, 5, 7, 11], dtype='int64')\n",
     "output_type": "stream"
    }
   ]
  },
  {
   "cell_type": "markdown",
   "source": "Los Index también tienen muchos de los atributos de los Arrays de Numpy",
   "metadata": {
    "tags": [],
    "cell_id": "00214-53a40764-856b-4f53-909b-617d6c4475f1",
    "deepnote_cell_type": "markdown"
   }
  },
  {
   "cell_type": "code",
   "metadata": {
    "tags": [],
    "cell_id": "00215-0ccc393e-1ff5-46ec-b71f-8ecf7e83d2db",
    "deepnote_to_be_reexecuted": false,
    "source_hash": "4cb1559a",
    "execution_millis": 10,
    "execution_start": 1614893658703,
    "deepnote_cell_type": "code"
   },
   "source": "print(ind[1],'\\n')\nprint(ind[::2], '\\n')\nprint(ind.size, ind.shape, ind.ndim, ind.dtype)",
   "execution_count": null,
   "outputs": [
    {
     "name": "stdout",
     "text": "3 \n\nInt64Index([2, 5, 11], dtype='int64') \n\n5 (5,) 1 int64\n",
     "output_type": "stream"
    }
   ]
  },
  {
   "cell_type": "markdown",
   "source": "Con la única diferencia que un index es inmutable",
   "metadata": {
    "tags": [],
    "cell_id": "00216-61185dbc-d6f4-49c8-b771-b545952df367",
    "deepnote_cell_type": "markdown"
   }
  },
  {
   "cell_type": "code",
   "metadata": {
    "tags": [],
    "cell_id": "00217-a96287a1-2892-4eb4-812a-8a4b5698f643",
    "deepnote_to_be_reexecuted": false,
    "source_hash": "72a3cc08",
    "execution_millis": 187,
    "output_cleared": false,
    "execution_start": 1614893798439,
    "deepnote_cell_type": "code"
   },
   "source": "ind[1] = 0",
   "execution_count": null,
   "outputs": [
    {
     "output_type": "error",
     "ename": "TypeError",
     "evalue": "Index does not support mutable operations",
     "traceback": [
      "\u001b[0;31m---------------------------------------------------------------------------\u001b[0m",
      "\u001b[0;31mTypeError\u001b[0m                                 Traceback (most recent call last)",
      "\u001b[0;32m<ipython-input-16-906a9fa1424c>\u001b[0m in \u001b[0;36m<module>\u001b[0;34m\u001b[0m\n\u001b[0;32m----> 1\u001b[0;31m \u001b[0mind\u001b[0m\u001b[0;34m[\u001b[0m\u001b[0;36m1\u001b[0m\u001b[0;34m]\u001b[0m \u001b[0;34m=\u001b[0m \u001b[0;36m0\u001b[0m\u001b[0;34m\u001b[0m\u001b[0;34m\u001b[0m\u001b[0m\n\u001b[0m",
      "\u001b[0;32m/shared-libs/python3.7/py/lib/python3.7/site-packages/pandas/core/indexes/base.py\u001b[0m in \u001b[0;36m__setitem__\u001b[0;34m(self, key, value)\u001b[0m\n\u001b[1;32m   4275\u001b[0m     \u001b[0;34m@\u001b[0m\u001b[0mfinal\u001b[0m\u001b[0;34m\u001b[0m\u001b[0;34m\u001b[0m\u001b[0m\n\u001b[1;32m   4276\u001b[0m     \u001b[0;32mdef\u001b[0m \u001b[0m__setitem__\u001b[0m\u001b[0;34m(\u001b[0m\u001b[0mself\u001b[0m\u001b[0;34m,\u001b[0m \u001b[0mkey\u001b[0m\u001b[0;34m,\u001b[0m \u001b[0mvalue\u001b[0m\u001b[0;34m)\u001b[0m\u001b[0;34m:\u001b[0m\u001b[0;34m\u001b[0m\u001b[0;34m\u001b[0m\u001b[0m\n\u001b[0;32m-> 4277\u001b[0;31m         \u001b[0;32mraise\u001b[0m \u001b[0mTypeError\u001b[0m\u001b[0;34m(\u001b[0m\u001b[0;34m\"Index does not support mutable operations\"\u001b[0m\u001b[0;34m)\u001b[0m\u001b[0;34m\u001b[0m\u001b[0;34m\u001b[0m\u001b[0m\n\u001b[0m\u001b[1;32m   4278\u001b[0m \u001b[0;34m\u001b[0m\u001b[0m\n\u001b[1;32m   4279\u001b[0m     \u001b[0;32mdef\u001b[0m \u001b[0m__getitem__\u001b[0m\u001b[0;34m(\u001b[0m\u001b[0mself\u001b[0m\u001b[0;34m,\u001b[0m \u001b[0mkey\u001b[0m\u001b[0;34m)\u001b[0m\u001b[0;34m:\u001b[0m\u001b[0;34m\u001b[0m\u001b[0;34m\u001b[0m\u001b[0m\n",
      "\u001b[0;31mTypeError\u001b[0m: Index does not support mutable operations"
     ]
    }
   ]
  },
  {
   "cell_type": "markdown",
   "source": "### Combinar Datos: Merge y Join ",
   "metadata": {
    "tags": [],
    "cell_id": "00218-0650a632-ed1b-437c-a492-ea59262eef78",
    "deepnote_cell_type": "markdown"
   }
  },
  {
   "cell_type": "markdown",
   "source": "Estas modificaciones (joins) a datos son realizadas mediante la función pd.merge(). Y existen tres tipos: Uno-a-Uno, Muchos-a-Uno y Muchos-a-Muchos ",
   "metadata": {
    "tags": [],
    "cell_id": "00219-89b195d9-d553-4c0a-a022-06f58d083f22",
    "deepnote_cell_type": "markdown"
   }
  },
  {
   "cell_type": "markdown",
   "source": "#### Join Uno-a-Uno",
   "metadata": {
    "tags": [],
    "cell_id": "00220-b6d04337-ac5a-40ec-9e72-66d9247c14e5",
    "deepnote_cell_type": "markdown"
   }
  },
  {
   "cell_type": "markdown",
   "source": "Es el Join más simple. Similar a la concatenación por columnas:",
   "metadata": {
    "tags": [],
    "cell_id": "00221-87d3c445-3d5d-41e2-9bcb-267c2233ab39",
    "deepnote_cell_type": "markdown"
   }
  },
  {
   "cell_type": "code",
   "metadata": {
    "tags": [],
    "cell_id": "00222-9fc4cfd8-e095-4f58-abc4-20e908c11061",
    "deepnote_to_be_reexecuted": false,
    "source_hash": "6ca2ff86",
    "execution_millis": 11,
    "output_cleared": false,
    "execution_start": 1614894010487,
    "deepnote_cell_type": "code"
   },
   "source": "df1 = pd.DataFrame({'empleado': ['Bob', 'Jake', 'Lisa', 'Sue'],\n                    'grupo': ['Accounting', 'Engineering', 'Engineering', 'HR']})\ndf2 = pd.DataFrame({'empleado': ['Lisa', 'Bob', 'Jake', 'Sue'],\n                    'Fecha_Contratación': [2004, 2008, 2012, 2014]})\n\nprint('df1=','\\n',df1,'\\n')\nprint('df2=','\\n',df2)\n",
   "execution_count": null,
   "outputs": [
    {
     "name": "stdout",
     "text": "df1= \n   empleado        grupo\n0      Bob   Accounting\n1     Jake  Engineering\n2     Lisa  Engineering\n3      Sue           HR \n\ndf2= \n   empleado  Fecha_Contratación\n0     Lisa                2004\n1      Bob                2008\n2     Jake                2012\n3      Sue                2014\n",
     "output_type": "stream"
    }
   ]
  },
  {
   "cell_type": "markdown",
   "source": "Para combinar esta información en un solo DataFrame, podemos usar la función pd.merge ():",
   "metadata": {
    "tags": [],
    "cell_id": "00223-d2d85a4f-3fcb-4b77-955c-1124dbaeb01d",
    "deepnote_cell_type": "markdown"
   }
  },
  {
   "cell_type": "code",
   "metadata": {
    "tags": [],
    "cell_id": "00224-f7aed5ac-fc0d-4c57-b538-d612d787772d",
    "deepnote_to_be_reexecuted": false,
    "source_hash": "20737a08",
    "execution_millis": 16,
    "execution_start": 1614785133668,
    "deepnote_cell_type": "code"
   },
   "source": "df3 = pd.merge(df1, df2)\nprint('df3=','\\n',df3)",
   "execution_count": null,
   "outputs": [
    {
     "name": "stdout",
     "text": "df3= \n   empleado        grupo  Fecha_Contratación\n0      Bob   Accounting                2008\n1     Jake  Engineering                2012\n2     Lisa  Engineering                2004\n3      Sue           HR                2014\n",
     "output_type": "stream"
    }
   ]
  },
  {
   "cell_type": "markdown",
   "source": "La función pd.merge () reconoce que cada DataFrame tiene una columna \"empleado\" y se une automáticamente usando esta columna como clave. El resultado de la fusión es un nuevo DataFrame que combina la información de las dos entradas",
   "metadata": {
    "tags": [],
    "cell_id": "00225-0b35cc04-1602-4190-8b85-a07362ded4a6",
    "deepnote_cell_type": "markdown"
   }
  },
  {
   "cell_type": "markdown",
   "source": "#### Join Muchos-a-Uno",
   "metadata": {
    "tags": [],
    "cell_id": "00226-0d85c5d6-7392-4e8a-ab2b-7d2927f89f2a",
    "deepnote_cell_type": "markdown"
   }
  },
  {
   "cell_type": "markdown",
   "source": "Los Join de varios a uno son Join en las que una de las dos columnas clave contiene entradas duplicadas. Para el caso de muchos a uno, el DataFrame resultante conservará esas entradas duplicadas según corresponda",
   "metadata": {
    "tags": [],
    "cell_id": "00227-24c615e0-bb9c-4b5b-b2eb-dd381bf890c2",
    "deepnote_cell_type": "markdown"
   }
  },
  {
   "cell_type": "code",
   "metadata": {
    "tags": [],
    "cell_id": "00228-431ebca2-7a44-4945-9352-b495dbbd1ccd",
    "deepnote_to_be_reexecuted": false,
    "source_hash": null,
    "execution_millis": 9,
    "execution_start": 1614785137299,
    "output_cleared": true,
    "deepnote_cell_type": "code"
   },
   "source": "df4 = pd.DataFrame({'grupo': ['Accounting', 'Engineering', 'HR'],\n                    'supervisor': ['Carly', 'Guido', 'Steve']})\n\nprint('df4=','\\n', df4, '\\n')\nprint('df3=','\\n',df3, '\\n')\n\ndfp = pd.merge(df3, df4)\nprint('dfp=','\\n',dfp)",
   "execution_count": null,
   "outputs": []
  },
  {
   "cell_type": "markdown",
   "source": "El DataFrame resultante tiene una columna adicional con la información del \"supervisor\", donde la información se repite en una o más ubicaciones según lo requieran las entradas.",
   "metadata": {
    "tags": [],
    "cell_id": "00229-16565558-aca5-468f-855d-2fd7f25be2c1",
    "deepnote_cell_type": "markdown"
   }
  },
  {
   "cell_type": "markdown",
   "source": "#### Join Muchos-a-Muchos",
   "metadata": {
    "tags": [],
    "cell_id": "00230-ab03a368-44a7-47d8-9260-c268e6630886",
    "deepnote_cell_type": "markdown"
   }
  },
  {
   "cell_type": "markdown",
   "source": "Las uniones de varios a varios son un poco confusas desde el punto de vista conceptual, pero están bien definidas. Si la columna de clave en la matriz izquierda y derecha contiene duplicados, el resultado es una combinación de muchos a muchos.",
   "metadata": {
    "tags": [],
    "cell_id": "00231-68abd0d3-da22-4f9c-87aa-d99ab10c78f7",
    "deepnote_cell_type": "markdown"
   }
  },
  {
   "cell_type": "code",
   "metadata": {
    "tags": [],
    "cell_id": "00232-5cf7871d-5b78-484a-b7e8-f79a2e65c8de",
    "deepnote_to_be_reexecuted": false,
    "source_hash": "8652ba2a",
    "execution_millis": 47,
    "output_cleared": false,
    "execution_start": 1614894212985,
    "deepnote_cell_type": "code"
   },
   "source": "df5 = pd.DataFrame({'grupo': ['Accounting', 'Accounting',\n                              'Engineering', 'Engineering', 'HR', 'HR'],\n                    'habilidades': ['math', 'spreadsheets', 'coding', 'linux',\n                               'spreadsheets', 'organization']})\nprint('df5=','\\n',df5)\nprint('df1=','\\n',df1)\ndfm = pd.merge(df1, df5)\nprint('dfm=','\\n',dfm)",
   "execution_count": null,
   "outputs": [
    {
     "name": "stdout",
     "text": "df5= \n          grupo   habilidades\n0   Accounting          math\n1   Accounting  spreadsheets\n2  Engineering        coding\n3  Engineering         linux\n4           HR  spreadsheets\n5           HR  organization\ndf1= \n   empleado        grupo\n0      Bob   Accounting\n1     Jake  Engineering\n2     Lisa  Engineering\n3      Sue           HR\ndfm= \n   empleado        grupo   habilidades\n0      Bob   Accounting          math\n1      Bob   Accounting  spreadsheets\n2     Jake  Engineering        coding\n3     Jake  Engineering         linux\n4     Lisa  Engineering        coding\n5     Lisa  Engineering         linux\n6      Sue           HR  spreadsheets\n7      Sue           HR  organization\n",
     "output_type": "stream"
    }
   ]
  },
  {
   "cell_type": "markdown",
   "source": "Ya hemos visto el comportamiento predeterminado de pd.merge (): busca uno o más nombres de columna coincidentes entre las dos entradas y lo usa como clave. Sin embargo, a menudo los nombres de las columnas no coincidirán tan bien, y pd.merge () proporciona una variedad de opciones para manejar esto.",
   "metadata": {
    "tags": [],
    "cell_id": "00233-d9b96847-9e4c-496b-a679-32c79fc437b5",
    "deepnote_cell_type": "markdown"
   }
  },
  {
   "cell_type": "code",
   "metadata": {
    "tags": [],
    "cell_id": "00234-2cc6d045-0291-48c5-91f9-c304db911212",
    "deepnote_to_be_reexecuted": false,
    "source_hash": "c2b07cf5",
    "execution_millis": 14,
    "output_cleared": false,
    "execution_start": 1614894395903,
    "deepnote_cell_type": "code"
   },
   "source": "print('df1=','\\n',df1,'\\n')\nprint('df2=','\\n',df2,'\\n')\ndfa = pd.merge(df1, df2)\nprint('dfa (Join por defecto)=','\\n',dfa,'\\n')\ndfb = pd.merge(df1, df2, on ='empleado')\nprint('dfb (Join con on)=','\\n',dfb)\n",
   "execution_count": null,
   "outputs": [
    {
     "name": "stdout",
     "text": "df1= \n   empleado        grupo\n0      Bob   Accounting\n1     Jake  Engineering\n2     Lisa  Engineering\n3      Sue           HR \n\ndf2= \n   empleado  Fecha_Contratación\n0     Lisa                2004\n1      Bob                2008\n2     Jake                2012\n3      Sue                2014 \n\ndfa (Join por defecto)= \n   empleado        grupo  Fecha_Contratación\n0      Bob   Accounting                2008\n1     Jake  Engineering                2012\n2     Lisa  Engineering                2004\n3      Sue           HR                2014 \n\ndfb (Join con on)= \n   empleado        grupo  Fecha_Contratación\n0      Bob   Accounting                2008\n1     Jake  Engineering                2012\n2     Lisa  Engineering                2004\n3      Sue           HR                2014\n",
     "output_type": "stream"
    }
   ]
  },
  {
   "cell_type": "code",
   "metadata": {
    "tags": [],
    "cell_id": "00235-4e3b5f73-4995-4554-9e99-e645da466e16",
    "deepnote_to_be_reexecuted": false,
    "source_hash": "1b54df1f",
    "execution_millis": 10,
    "output_cleared": false,
    "execution_start": 1614894589463,
    "deepnote_cell_type": "code"
   },
   "source": "df3 = pd.DataFrame({'nombre': ['Bob', 'Jake', 'Lisa', 'Sue'],\n                    'salario': [70000, 80000, 120000, 90000]})\nprint('df3=','\\n',df3,'\\n')\nprint('df1=','\\n',df1,'\\n')\n\ndfc = pd.merge(df1, df3, left_on=\"empleado\", right_on=\"nombre\")\nprint('dfc=','\\n',dfc)",
   "execution_count": null,
   "outputs": [
    {
     "name": "stdout",
     "text": "df3= \n   nombre  salario\n0    Bob    70000\n1   Jake    80000\n2   Lisa   120000\n3    Sue    90000 \n\ndf1= \n   empleado        grupo\n0      Bob   Accounting\n1     Jake  Engineering\n2     Lisa  Engineering\n3      Sue           HR \n\ndfc= \n   empleado        grupo nombre  salario\n0      Bob   Accounting    Bob    70000\n1     Jake  Engineering   Jake    80000\n2     Lisa  Engineering   Lisa   120000\n3      Sue           HR    Sue    90000\n",
     "output_type": "stream"
    }
   ]
  },
  {
   "cell_type": "code",
   "metadata": {
    "tags": [],
    "cell_id": "00236-ad5c064d-6f0e-4d0a-a228-84165899d08a",
    "deepnote_to_be_reexecuted": false,
    "source_hash": "8b27ef5",
    "execution_millis": 12,
    "output_cleared": false,
    "execution_start": 1614894662677,
    "deepnote_cell_type": "code"
   },
   "source": "df6 = pd.DataFrame({'name': ['Peter', 'Paul', 'Mary'],\n                    'food': ['fish', 'beans', 'bread']},\n                   columns=['name', 'food'])\ndf7 = pd.DataFrame({'name': ['Mary', 'Joseph'],\n                    'drink': ['wine', 'beer']},\n                   columns=['name', 'drink'])\nprint('df6=','\\n',df6,'\\n')\nprint('df7=','\\n',df7,'\\n')\ndfd1 = pd.merge(df6, df7)\nprint('dfd1 (Por defecto) =','\\n',dfd1,'\\n')\ndfd2 = pd.merge(df6, df7, how='inner')\nprint('dfd2 (Inner)= ','\\n',dfd2,'\\n')\ndfd3 = pd.merge(df6, df7, how='outer')\nprint('dfd3 (Outer)= ','\\n',dfd3,'\\n')\ndfd4 = pd.merge(df6, df7, how='left')\nprint('dfd4 (Left)= ','\\n',dfd4,'\\n')",
   "execution_count": null,
   "outputs": [
    {
     "name": "stdout",
     "text": "df6= \n     name   food\n0  Peter   fish\n1   Paul  beans\n2   Mary  bread \n\ndf7= \n      name drink\n0    Mary  wine\n1  Joseph  beer \n\ndfd1 (Por defecto) = \n    name   food drink\n0  Mary  bread  wine \n\ndfd2 (Inner)=  \n    name   food drink\n0  Mary  bread  wine \n\ndfd3 (Outer)=  \n      name   food drink\n0   Peter   fish   NaN\n1    Paul  beans   NaN\n2    Mary  bread  wine\n3  Joseph    NaN  beer \n\ndfd4 (Left)=  \n     name   food drink\n0  Peter   fish   NaN\n1   Paul  beans   NaN\n2   Mary  bread  wine \n\n",
     "output_type": "stream"
    }
   ]
  },
  {
   "cell_type": "markdown",
   "source": "También puede ser ejecutada la función join(), que realiza una fusión que por defecto se une a  través de índices:",
   "metadata": {
    "tags": [],
    "cell_id": "00236-316af48a-b212-412e-b549-bc06799d656e",
    "deepnote_cell_type": "markdown"
   }
  },
  {
   "cell_type": "code",
   "metadata": {
    "tags": [],
    "cell_id": "00236-3011ee73-294f-4dfb-9793-4b6eaebd4daa",
    "deepnote_to_be_reexecuted": false,
    "source_hash": null,
    "execution_millis": 13,
    "execution_start": 1614786236703,
    "output_cleared": true,
    "deepnote_cell_type": "code"
   },
   "source": "df1a = df1.set_index('empleado')\ndf2a = df2.set_index('empleado')\nprint('df1a=','\\n',df1a,'\\n')\nprint('df2a=','\\n',df2a,'\\n')\ndfo = df1a.join(df2a)\nprint('dfo=','\\n',dfo,'\\n')",
   "execution_count": null,
   "outputs": []
  },
  {
   "cell_type": "markdown",
   "source": "## Matplotlib",
   "metadata": {
    "id": "0E9iOkzdKfIz",
    "cell_id": "00165-901613df-007f-4513-9d5b-eb73be2485d4",
    "deepnote_cell_type": "markdown"
   }
  },
  {
   "cell_type": "markdown",
   "source": "Matplotlib es una biblioteca de graficado. En esta sección, haremos una breve introducción al módulo `matplotlib.pyplot`.",
   "metadata": {
    "id": "JfyMygvWKfIz",
    "cell_id": "00166-acb079f3-11bf-445e-98ea-6d0c3fddd8cf",
    "deepnote_cell_type": "markdown"
   }
  },
  {
   "cell_type": "code",
   "metadata": {
    "id": "jS31_lsSKfI0",
    "cell_id": "00167-7e198274-3f80-46a2-97c1-733082240940",
    "deepnote_to_be_reexecuted": false,
    "source_hash": "6a77453d",
    "execution_start": 1614184954261,
    "execution_millis": 669,
    "deepnote_cell_type": "code"
   },
   "source": "import matplotlib.pyplot as plt",
   "execution_count": null,
   "outputs": []
  },
  {
   "cell_type": "markdown",
   "source": "### Plotting",
   "metadata": {
    "id": "JhpD7Dk0KfI2",
    "cell_id": "00170-ddec7bbe-e15e-4f4c-9c72-3f6626c93522",
    "deepnote_cell_type": "markdown"
   }
  },
  {
   "cell_type": "markdown",
   "source": "La función más importante en `matplotlib` es plot, que le permite graficar datos 2D. Aquí hay un ejemplo simple:",
   "metadata": {
    "id": "EOhcM1yRKfI2",
    "cell_id": "00171-c7a0176a-ada1-4bbd-bf09-6f1d012b60f5",
    "deepnote_cell_type": "markdown"
   }
  },
  {
   "cell_type": "code",
   "metadata": {
    "id": "XNiSzZ1GKfI2",
    "cell_id": "00172-55e28bec-95e1-4104-9c42-c2cb945d3286",
    "deepnote_to_be_reexecuted": false,
    "source_hash": null,
    "execution_start": 1614185579442,
    "execution_millis": 168,
    "output_cleared": true,
    "deepnote_cell_type": "code"
   },
   "source": "# Computa las cordenadas x & y para puntos en las curvas seno\nx = np.arange(0, 3 * np.pi, 0.1)\ny = np.sin(x)\n\n# Hace un plot de los puntos usando matplotlib\nplt.plot(x, y)\n\n# Muestra la figura.\nplt.show()",
   "execution_count": null,
   "outputs": []
  },
  {
   "cell_type": "markdown",
   "source": "Con solo un poco de trabajo adicional, podemos hacer plot fácilmente de varias líneas a la vez, agregar un título, una leyenda y etiquetas de eje:",
   "metadata": {
    "id": "5y_Cj8eIKfI3",
    "cell_id": "00173-11b61969-3d37-4767-964d-03fc464cdad6",
    "deepnote_cell_type": "markdown"
   }
  },
  {
   "cell_type": "code",
   "metadata": {
    "id": "LMkeggyZKfI3",
    "cell_id": "00174-52aeab0f-9b0c-41b8-8d8a-b121501eb8a3",
    "deepnote_to_be_reexecuted": false,
    "source_hash": null,
    "execution_start": 1614185587974,
    "execution_millis": 140,
    "output_cleared": true,
    "deepnote_cell_type": "code"
   },
   "source": "y_sin = np.sin(x)\ny_cos = np.cos(x)\n\n# Hace un plot de los puntos usando matplotlib\nplt.plot(x, y_sin)\nplt.plot(x, y_cos)\nplt.xlabel('x axis label')\nplt.ylabel('y axis label')\nplt.title('Sine and Cosine')\nplt.legend(['Sine', 'Cosine'])\n\n# Muestra la figura.\nplt.show()",
   "execution_count": null,
   "outputs": []
  },
  {
   "cell_type": "markdown",
   "source": "### Subplots ",
   "metadata": {
    "id": "5GsKDkrlKfI4",
    "cell_id": "00175-d9c34cbf-2693-4bfe-b319-a4e2aff6e49c",
    "deepnote_cell_type": "markdown"
   }
  },
  {
   "cell_type": "markdown",
   "source": "Puedes hacer plots de diferentes cosas en la misma figura usando la función de `subplot`. Aquí hay un ejemplo:",
   "metadata": {
    "id": "DGjGTtSnKfI4",
    "cell_id": "00176-5e41654c-79ff-4108-bf04-b4d77509076e",
    "deepnote_cell_type": "markdown"
   }
  },
  {
   "cell_type": "code",
   "metadata": {
    "id": "RHKTwmSWKfI4",
    "cell_id": "00177-44f91324-d6fe-4322-af30-4cec4e60c829",
    "deepnote_to_be_reexecuted": false,
    "source_hash": "2c01e2f7",
    "execution_millis": 177,
    "execution_start": 1614185828147,
    "deepnote_cell_type": "code"
   },
   "source": "# Computa las cordenadas x & y para puntos en las curvas seno y coseno\nx = np.arange(0, 3 * np.pi, 0.1)\ny_sin = np.sin(x)\ny_cos = np.cos(x)\n\n# DEfine una cuadrícula subplot que tiene alto 2 y ancho 1,\n# y activa el primer subplot.\nplt.subplot(2, 1, 1)\n\n\n# Hace el primer plot\nplt.plot(x, y_sin)\nplt.title('Sine')\n\n\n# Activa el segundo subplot y realiza el segundo plot.\nplt.subplot(2, 1, 2)\nplt.plot(x, y_cos)\nplt.title('Cosine')\n\n# Muestra la figura.\nplt.show()",
   "execution_count": null,
   "outputs": [
    {
     "data": {
      "text/plain": "<Figure size 432x288 with 2 Axes>",
      "image/png": "[encoded data removed]"
     },
     "metadata": {
      "needs_background": "light",
      "image/png": {
       "width": 370,
       "height": 264
      }
     },
     "output_type": "display_data"
    }
   ]
  },
  {
   "cell_type": "markdown",
   "source": "Puede leer mucho más sobre la función `subplot` en la [documentación](http://matplotlib.org/api/pyplot_api.html#matplotlib.pyplot.subplot).",
   "metadata": {
    "id": "bRN81umZKfI5",
    "cell_id": "00178-7320de56-dbd2-43ff-a682-14f2e9cbc2fc",
    "deepnote_cell_type": "markdown"
   }
  },
  {
   "cell_type": "code",
   "metadata": {
    "id": "hPCqvPflKfI6",
    "cell_id": "00179-66023b1d-fea8-4b5b-82b3-88d04b01d595",
    "deepnote_cell_type": "code"
   },
   "source": "",
   "execution_count": null,
   "outputs": []
  },
  {
   "cell_type": "markdown",
   "source": "<a style='text-decoration:none;line-height:16px;display:flex;color:#5B5B62;padding:10px;justify-content:end;' href='https://deepnote.com?utm_source=created-in-deepnote-cell&projectId=1f07750d-c0d2-4b29-a1e1-9ff9ed91fa38' target=\"_blank\">\n<img alt='Created in deepnote.com' style='display:inline;max-height:16px;margin:0px;margin-right:7.5px;' src='data:image/svg+xml;base64,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' > </img>\nCreated in <span style='font-weight:600;margin-left:4px;'>Deepnote</span></a>",
   "metadata": {
    "tags": [],
    "created_in_deepnote_cell": true,
    "deepnote_cell_type": "markdown"
   }
  }
 ],
 "nbformat": 4,
 "nbformat_minor": 0,
 "metadata": {
  "colab": {
   "name": "Tutorial Python español",
   "provenance": [],
   "collapsed_sections": [
    "norJPSn-KfIC",
    "kwHVAQ5gKfIY"
   ]
  },
  "kernelspec": {
   "name": "python3",
   "display_name": "Python 3"
  },
  "deepnote_notebook_id": "951e6fd4-2735-47e7-9bb7-b6fa79962ab5",
  "deepnote": {},
  "deepnote_execution_queue": []
 }
}