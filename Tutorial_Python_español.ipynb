{
  "nbformat": 4,
  "nbformat_minor": 0,
  "metadata": {
    "colab": {
      "name": "Tutorial Python español",
      "provenance": [],
      "collapsed_sections": [
        "norJPSn-KfIC",
        "kwHVAQ5gKfIY"
      ]
    },
    "kernelspec": {
      "name": "python3",
      "display_name": "Python 3"
    }
  },
  "cells": [
    {
      "cell_type": "markdown",
      "metadata": {
        "id": "iF4HF1LmKfGX"
      },
      "source": [
        "#Tutorial Python"
      ]
    },
    {
      "cell_type": "markdown",
      "metadata": {
        "id": "YTh5tvnnKfGY"
      },
      "source": [
        "Traducido y adaptado por [Pablo Andrés Uriza](https://pa-uriza.github.io/) de la adaptación hecha por [Volodymyr Kuleshov](http://web.stanford.edu/~kuleshov/) y [Isaac Caswell](https://symsys.stanford.edu/viewing/symsysaffiliate/21335) para el curso `CS228`, del tutorial de Python para el curso `CS231n` hecho por Justin Johnson (http://cs231n.github.io/python-numpy-tutorial/)."
      ]
    },
    {
      "cell_type": "markdown",
      "metadata": {
        "id": "oU9gnr-NKfGY"
      },
      "source": [
        "##Introducción"
      ]
    },
    {
      "cell_type": "markdown",
      "metadata": {
        "id": "a8OmB0YXKfGZ"
      },
      "source": [
        "Python es un gran lenguaje de programación de propósito general por sí solo, pero con la ayuda de algunas bibliotecas populares (numpy, scipy, matplotlib) se convierte en un poderoso entorno para la computación científica.\n",
        "\n",
        "Esta sección servirá como un curso acelerado sobre el lenguaje de programación Python y sobre el uso de Python para la computación científica."
      ]
    },
    {
      "cell_type": "markdown",
      "metadata": {
        "id": "437_rhmxKfGZ"
      },
      "source": [
        "En este tutorial, cubriremos:\n",
        "\n",
        "* Python básico: tipos de datos básicos (contenedores, listas, diccionarios, conjuntos, tuplas), funciones, clases\n",
        "* Numpy: matrices, indexación de matrices, tipos de datos, matemáticas de matrices, *broadcasting*\n",
        "* Matplotlib: plots, subplots"
      ]
    },
    {
      "cell_type": "markdown",
      "metadata": {
        "id": "gKHItiEyKfGa"
      },
      "source": [
        "##Python básico"
      ]
    },
    {
      "cell_type": "markdown",
      "metadata": {
        "id": "UbHnjbpNKfGa"
      },
      "source": [
        "Python es un lenguaje de programación multiparadigma de escritura dinámica de alto nivel. A menudo se dice que el código Python es casi como un pseudocódigo, ya que le permite expresar ideas muy poderosas en muy pocas líneas de código mientras es muy legible. Como ejemplo, aquí hay una implementación del algoritmo clásico de ordenación rápida en Python:"
      ]
    },
    {
      "cell_type": "code",
      "metadata": {
        "id": "gIheH4BLKfGb",
        "colab": {
          "base_uri": "https://localhost:8080/"
        },
        "outputId": "7e6854ad-60fc-42fd-aa85-9e11b1b4ffd3"
      },
      "source": [
        "def quicksort(arr):\n",
        "    if len(arr) <= 1:\n",
        "        return arr\n",
        "    pivot = arr[len(arr) // 2]\n",
        "    left = [x for x in arr if x < pivot]\n",
        "    middle = [x for x in arr if x == pivot]\n",
        "    right = [x for x in arr if x > pivot]\n",
        "    return quicksort(left) + middle + quicksort(right)\n",
        "\n",
        "print(quicksort([3,6,8,10,1,2,1]))"
      ],
      "execution_count": null,
      "outputs": [
        {
          "output_type": "stream",
          "text": [
            "[1, 1, 2, 3, 6, 8, 10]\n"
          ],
          "name": "stdout"
        }
      ]
    },
    {
      "cell_type": "markdown",
      "metadata": {
        "id": "FVjUt3KAKfGe"
      },
      "source": [
        "###Versiones de Python"
      ]
    },
    {
      "cell_type": "markdown",
      "metadata": {
        "id": "Noqsn_1TKfGe"
      },
      "source": [
        "Por mucho tiempo hubo dos versiones compatibles diferentes de Python, 2.7 y 3.X. Un tanto confuso, Python 3.0 introdujo muchos cambios incompatibles con versiones anteriores en el lenguaje, por lo que el código escrito para 2.7 puede no funcionar en 3.X y viceversa. Para esta clase, todo el código usará Python 3.7.\n",
        "\n",
        "Puede verificar su versión de Python en la línea de comando ejecutando `python --version` .:"
      ]
    },
    {
      "cell_type": "markdown",
      "metadata": {
        "id": "Y357ypAnKfGf"
      },
      "source": [
        "###Tipos de datos básicos"
      ]
    },
    {
      "cell_type": "markdown",
      "metadata": {
        "id": "Ou_o10-kKfGf"
      },
      "source": [
        "####Números"
      ]
    },
    {
      "cell_type": "markdown",
      "metadata": {
        "id": "WrYMUufXKfGf"
      },
      "source": [
        "Los enteros y reales funcionan como esperaríamos de otros lenguajes:"
      ]
    },
    {
      "cell_type": "code",
      "metadata": {
        "id": "Y2brfN_QKfGg",
        "colab": {
          "base_uri": "https://localhost:8080/"
        },
        "outputId": "c0c64517-c77e-47ba-fbd5-588202551d3f"
      },
      "source": [
        "x = 3\n",
        "print(x, type(x))"
      ],
      "execution_count": null,
      "outputs": [
        {
          "output_type": "stream",
          "text": [
            "3 <class 'int'>\n"
          ],
          "name": "stdout"
        }
      ]
    },
    {
      "cell_type": "code",
      "metadata": {
        "id": "MjexqvfXKfGi",
        "colab": {
          "base_uri": "https://localhost:8080/"
        },
        "outputId": "fcdcda18-8537-455a-ce3b-e7d0b6f92e8c"
      },
      "source": [
        "print(x + 1)   # Suma;\n",
        "print(x - 1)   # Resta;\n",
        "print(x * 2)   # Multiplicación;\n",
        "print(x ** 2)  # Potenciación;"
      ],
      "execution_count": null,
      "outputs": [
        {
          "output_type": "stream",
          "text": [
            "4\n",
            "2\n",
            "6\n",
            "9\n"
          ],
          "name": "stdout"
        }
      ]
    },
    {
      "cell_type": "code",
      "metadata": {
        "id": "_DTqxMGYKfGj",
        "colab": {
          "base_uri": "https://localhost:8080/"
        },
        "outputId": "c704150e-3b30-423d-9cf3-6cdb6ed68f57"
      },
      "source": [
        "x += 1\n",
        "print(x)  # Imprime \"4\"\n",
        "x *= 2\n",
        "print(x)  # Imprime \"8\""
      ],
      "execution_count": null,
      "outputs": [
        {
          "output_type": "stream",
          "text": [
            "4\n",
            "8\n"
          ],
          "name": "stdout"
        }
      ]
    },
    {
      "cell_type": "code",
      "metadata": {
        "id": "c1rkFl9mKfGl",
        "colab": {
          "base_uri": "https://localhost:8080/"
        },
        "outputId": "92b950dc-a481-491e-8dc3-be72f38c74cf"
      },
      "source": [
        "y = 2.5\n",
        "print(type(y)) # Imprime \"<type 'float'>\"\n",
        "print(y, y + 1, y * 2, y ** 2) # Imprime \"2.5 3.5 5.0 6.25\""
      ],
      "execution_count": null,
      "outputs": [
        {
          "output_type": "stream",
          "text": [
            "<class 'float'>\n",
            "2.5 3.5 5.0 6.25\n"
          ],
          "name": "stdout"
        }
      ]
    },
    {
      "cell_type": "markdown",
      "metadata": {
        "id": "Yp-4_4grKfGm"
      },
      "source": [
        "Tenga en cuenta que, a diferencia de muchos lenguajes, Python no tiene operadores unarios de incremento (x ++) o decremento (x--).\n",
        "\n",
        "Python también tiene tipos integrados para enteros largos (*long integers*) y números complejos; puede encontrar todos los detalles en la [documentación](https://docs.python.org/3/library/stdtypes.html#numeric-types-int-float-long-complex)."
      ]
    },
    {
      "cell_type": "markdown",
      "metadata": {
        "id": "TXi_8nR0KfGn"
      },
      "source": [
        "####Booleanos"
      ]
    },
    {
      "cell_type": "markdown",
      "metadata": {
        "id": "RonTW2mLKfGn"
      },
      "source": [
        "Python implementa todos los operadores habituales para la lógica booleana, pero usa palabras en inglés en lugar de símbolos (&&, ||, etc.)"
      ]
    },
    {
      "cell_type": "code",
      "metadata": {
        "id": "L68zTfetKfGo"
      },
      "source": [
        "t, f = True, False\n",
        "print(type(t)) # Imprime \"<type 'bool'>\""
      ],
      "execution_count": null,
      "outputs": []
    },
    {
      "cell_type": "markdown",
      "metadata": {
        "id": "B1nVQ0N2KfGq"
      },
      "source": [
        "Ahora veamos las operaciones:"
      ]
    },
    {
      "cell_type": "code",
      "metadata": {
        "id": "CBG6w8J3KfGr"
      },
      "source": [
        "print(t and f) # Logical AND;\n",
        "print(t or f)  # Logical OR;\n",
        "print(not t)   # Logical NOT;\n",
        "print(t != f)  # Logical XOR;"
      ],
      "execution_count": null,
      "outputs": []
    },
    {
      "cell_type": "markdown",
      "metadata": {
        "id": "yedNmtAoKfGs"
      },
      "source": [
        "####Strings"
      ]
    },
    {
      "cell_type": "code",
      "metadata": {
        "id": "AHHsyTJ-KfGt",
        "colab": {
          "base_uri": "https://localhost:8080/"
        },
        "outputId": "40c5a9bb-19cf-4019-9af8-75bb3116c6d6"
      },
      "source": [
        "hello = 'hello'   # Los strings pueden declararse usando comillas sencillas\n",
        "world = \"world\"   # o comillas dobles, no importa.\n",
        "print (hello, len(hello))"
      ],
      "execution_count": null,
      "outputs": [
        {
          "output_type": "stream",
          "text": [
            "hello 5\n"
          ],
          "name": "stdout"
        }
      ]
    },
    {
      "cell_type": "code",
      "metadata": {
        "id": "wr9tK7AsKfGv"
      },
      "source": [
        "hw = hello + ' ' + world  # Concatenación de Strings\n",
        "print (hw)  # Imprime \"hello world\""
      ],
      "execution_count": null,
      "outputs": []
    },
    {
      "cell_type": "code",
      "metadata": {
        "id": "zP4Y641PKfGx"
      },
      "source": [
        "hw = f'{hello} {world} {2021}'  # Formateo de strings\n",
        "print (hw12)  # Imprime \"hello world 2021\""
      ],
      "execution_count": null,
      "outputs": []
    },
    {
      "cell_type": "markdown",
      "metadata": {
        "id": "j4syJ6HnKfGy"
      },
      "source": [
        "String objects have a bunch of useful methods; for example:"
      ]
    },
    {
      "cell_type": "code",
      "metadata": {
        "id": "zqwpgceVKfGy",
        "colab": {
          "base_uri": "https://localhost:8080/"
        },
        "outputId": "92d52fce-d963-42b5-fe72-eb9661f8dd73"
      },
      "source": [
        "s = \"hello\"\n",
        "print (s.capitalize())  # Pone la primera letra en mayúscula a un string; Imprime \"Hello\"\n",
        "print (s.upper())       # Convierte la string a mayúscula sostenida; Imprime \"HELLO\"\n",
        "print (s.rjust(7))      # Justifica a la derecha una string añadiendo espacios a la izquierda; Imprime \"  hello\"\n",
        "print (s.center(7))     # Centra una string añadiendo espacios a ambos lados; Imprime \" hello \"\n",
        "print (s.replace('l', '(ell)'))  # Reemplaza todas las instancias de una substring con otra;\n",
        "                               # imprime \"he(ell)(ell)o\"\n",
        "print ('  world '.strip())  # Remueve los espacios en blanco al inicio y al final; Imprime \"world\""
      ],
      "execution_count": null,
      "outputs": [
        {
          "output_type": "stream",
          "text": [
            "Hello\n",
            "HELLO\n",
            "  hello\n",
            " hello \n",
            "he(ell)(ell)o\n",
            "world\n"
          ],
          "name": "stdout"
        }
      ]
    },
    {
      "cell_type": "markdown",
      "metadata": {
        "id": "2NaAKxH1KfG0"
      },
      "source": [
        "Puede encontrar una lista de todos los métodos de cadena en la [documentación](https://docs.python.org/3/library/stdtypes.html#string-methods)."
      ]
    },
    {
      "cell_type": "markdown",
      "metadata": {
        "id": "EC_PDOWwKfG0"
      },
      "source": [
        "###Contenedores"
      ]
    },
    {
      "cell_type": "markdown",
      "metadata": {
        "id": "lvPlak6bKfG1"
      },
      "source": [
        "Python incluye varios tipos de contenedores integrados: listas, diccionarios, conjuntos y tuplas."
      ]
    },
    {
      "cell_type": "markdown",
      "metadata": {
        "id": "vKTYwp7dKfG1"
      },
      "source": [
        "####Lists"
      ]
    },
    {
      "cell_type": "markdown",
      "metadata": {
        "id": "wbbMUDOGKfG1"
      },
      "source": [
        "Una lista es el equivalente en Python de un arreglo, pero se puede cambiar de tamaño y puede contener elementos de diferentes tipos:"
      ]
    },
    {
      "cell_type": "code",
      "metadata": {
        "id": "OYnZkCWEKfG2",
        "colab": {
          "base_uri": "https://localhost:8080/"
        },
        "outputId": "6381ff66-8ad1-49e4-a5fb-c4ead522e4c9"
      },
      "source": [
        "xs = [3, 1, 2]   # Crea una lista\n",
        "print(xs, xs[2])\n",
        "print(xs[-1])    # Lo indices negativos cuentan desde el final de la lista; Imprime \"2"
      ],
      "execution_count": null,
      "outputs": [
        {
          "output_type": "stream",
          "text": [
            "[3, 1, 2] 2\n",
            "2\n"
          ],
          "name": "stdout"
        }
      ]
    },
    {
      "cell_type": "code",
      "metadata": {
        "id": "gWnp2HfyKfG4",
        "colab": {
          "base_uri": "https://localhost:8080/"
        },
        "outputId": "cfd6f6a6-dc7f-49d3-d71e-7b11a38807a5"
      },
      "source": [
        "xs[2] = 'foo'    # Las listas pueden contener elementos de diferentes tipos\n",
        "print(xs)"
      ],
      "execution_count": null,
      "outputs": [
        {
          "output_type": "stream",
          "text": [
            "[3, 1, 'foo']\n"
          ],
          "name": "stdout"
        }
      ]
    },
    {
      "cell_type": "code",
      "metadata": {
        "id": "t1tElDe1KfG6",
        "colab": {
          "base_uri": "https://localhost:8080/"
        },
        "outputId": "469de715-79dc-4048-f3fb-86bb4fb39815"
      },
      "source": [
        "xs.append('bar') # Agrega un nuevo elemento al final de la lista\n",
        "print(xs)  "
      ],
      "execution_count": null,
      "outputs": [
        {
          "output_type": "stream",
          "text": [
            "[3, 1, 'foo', 'bar']\n"
          ],
          "name": "stdout"
        }
      ]
    },
    {
      "cell_type": "code",
      "metadata": {
        "id": "wBreqng-KfG8"
      },
      "source": [
        "x = xs.pop()     # Remueve y retorna el último elemento de la lista\n",
        "print(x, xs) "
      ],
      "execution_count": null,
      "outputs": []
    },
    {
      "cell_type": "markdown",
      "metadata": {
        "id": "7DG3NxSYKfG-"
      },
      "source": [
        "Como de costumbe, todos los detalles de las listas se encuentran en la [documentación](https://docs.python.org/3/tutorial/datastructures.html#more-on-lists)."
      ]
    },
    {
      "cell_type": "markdown",
      "metadata": {
        "id": "H1s7O1weKfG_"
      },
      "source": [
        "####Slicing"
      ]
    },
    {
      "cell_type": "markdown",
      "metadata": {
        "id": "dAZd3A2nKfG_"
      },
      "source": [
        "Además de acceder a los elementos de la lista de uno en uno, Python proporciona una sintaxis concisa para acceder a las sublistas; esto se conoce como *slicing* (rebanar):"
      ]
    },
    {
      "cell_type": "code",
      "metadata": {
        "id": "10EpI6lMKfHA",
        "colab": {
          "base_uri": "https://localhost:8080/"
        },
        "outputId": "874563f8-ea35-419b-a3bd-bf8a2913e41a"
      },
      "source": [
        "nums = list(range(5))    # creamos una lita de enteros a partir de la función range\n",
        "print(nums)              # Imprime \"[0, 1, 2, 3, 4]\"\n",
        "print(nums[2:4])         # Obtiene una slice desde el índice 2 al 4 (exclusive); imprime \"[2, 3]\"\n",
        "print(nums[2:])          # Obtiene una slice desde el índice 2 al final; imprime \"[2, 3, 4]\"\n",
        "print(nums[:2])          # Obtiene una slice desde el inicio al índice 2 (exclusive); imprime \"[0, 1]\"\n",
        "print(nums[:])           # Obtiene una slice de toda la lista; imprime [\"0, 1, 2, 3, 4]\"\n",
        "print(nums[:-1])         # Los índices de una slice pueden ser negativos; imprime [\"0, 1, 2, 3]\""
      ],
      "execution_count": null,
      "outputs": [
        {
          "output_type": "stream",
          "text": [
            "[0, 1, 2, 3, 4]\n",
            "[2, 3]\n",
            "[2, 3, 4]\n",
            "[0, 1]\n",
            "[0, 1, 2, 3, 4]\n",
            "[0, 1, 2, 3]\n"
          ],
          "name": "stdout"
        }
      ]
    },
    {
      "cell_type": "markdown",
      "metadata": {
        "id": "fkGcndD1KfHB"
      },
      "source": [
        "####Bucles"
      ]
    },
    {
      "cell_type": "markdown",
      "metadata": {
        "id": "5IBHDN6NKfHC"
      },
      "source": [
        "Es posible hacer bucles sobre elementos de una lista así:"
      ]
    },
    {
      "cell_type": "code",
      "metadata": {
        "id": "UszE_9j9KfHC",
        "colab": {
          "base_uri": "https://localhost:8080/"
        },
        "outputId": "70541358-bae2-42ac-c1aa-903e318810f3"
      },
      "source": [
        "animals = ['cat', 'dog', 'monkey']\n",
        "for animal in animals:\n",
        "    print(animal)"
      ],
      "execution_count": null,
      "outputs": [
        {
          "output_type": "stream",
          "text": [
            "cat\n",
            "dog\n",
            "monkey\n"
          ],
          "name": "stdout"
        }
      ]
    },
    {
      "cell_type": "markdown",
      "metadata": {
        "id": "ba7d34RzKfHE"
      },
      "source": [
        "Si desea acceder al índice de cada elemento dentro del cuerpo de un bucle, use la función incorporada `enumerate`:"
      ]
    },
    {
      "cell_type": "code",
      "metadata": {
        "id": "qa0PKcugKfHE"
      },
      "source": [
        "animals = ['cat', 'dog', 'monkey']\n",
        "for idx, animal in enumerate(animals):\n",
        "    print (f'#{idx + 1}: {animal}')"
      ],
      "execution_count": null,
      "outputs": []
    },
    {
      "cell_type": "markdown",
      "metadata": {
        "id": "rLMRwsY3KfHG"
      },
      "source": [
        "####List comprehensions:"
      ]
    },
    {
      "cell_type": "markdown",
      "metadata": {
        "id": "ktAMeVZzKfHG"
      },
      "source": [
        "A la hora de programar, con frecuencia queremos transformar un tipo de datos en otro. Como ejemplo simple, considere el siguiente código que calcula números cuadrados:"
      ]
    },
    {
      "cell_type": "code",
      "metadata": {
        "id": "NG8KyY08KfHH",
        "colab": {
          "base_uri": "https://localhost:8080/"
        },
        "outputId": "83a6e99b-c39e-437d-839e-5aa1560d29b6"
      },
      "source": [
        "nums = [0, 1, 2, 3, 4]\n",
        "squares = []\n",
        "for x in nums:\n",
        "    squares.append(x ** 2)\n",
        "print(squares)"
      ],
      "execution_count": null,
      "outputs": [
        {
          "output_type": "stream",
          "text": [
            "[0, 1, 4, 9, 16]\n"
          ],
          "name": "stdout"
        }
      ]
    },
    {
      "cell_type": "markdown",
      "metadata": {
        "id": "gpROxr9iKfHJ"
      },
      "source": [
        "Podemos simplificar este código usando una *list comprehension*:"
      ]
    },
    {
      "cell_type": "code",
      "metadata": {
        "id": "fmFUM4Y_KfHJ"
      },
      "source": [
        "nums = [0, 1, 2, 3, 4]\n",
        "squares = [x ** 2 for x in nums]\n",
        "print(squares)"
      ],
      "execution_count": null,
      "outputs": []
    },
    {
      "cell_type": "markdown",
      "metadata": {
        "id": "TbsrBg4WKfHL"
      },
      "source": [
        "Las *list comprehensions* también pueden contener algunas condiciones:"
      ]
    },
    {
      "cell_type": "code",
      "metadata": {
        "id": "qvSgq2aFKfHL"
      },
      "source": [
        "nums = [0, 1, 2, 3, 4]\n",
        "even_squares = [x ** 2 for x in nums if x % 2 == 0]\n",
        "print(even_squares)"
      ],
      "execution_count": null,
      "outputs": []
    },
    {
      "cell_type": "markdown",
      "metadata": {
        "id": "p7d4z45bKfHN"
      },
      "source": [
        "####Diccionarios"
      ]
    },
    {
      "cell_type": "markdown",
      "metadata": {
        "id": "R5mlszNRKfHN"
      },
      "source": [
        "Un diccionario almacena pares (key, value). Puedes usarlo así:"
      ]
    },
    {
      "cell_type": "code",
      "metadata": {
        "id": "wExMD3PFKfHO",
        "colab": {
          "base_uri": "https://localhost:8080/"
        },
        "outputId": "4f8ccb2a-e2ad-40d0-92a5-2d985b58c97e"
      },
      "source": [
        "d = {'cat': 'cute', 'dog': 'furry'}  # Crea un nuevo diccionario con alguna data\n",
        "print(d['cat'])       # Obtiene la una entrada del diccionario; imprime \"cute\"\n",
        "print('cat' in d)     # Revisa si un diccionario tiene una *key* dada; imprime \"True\""
      ],
      "execution_count": null,
      "outputs": [
        {
          "output_type": "stream",
          "text": [
            "cute\n",
            "True\n"
          ],
          "name": "stdout"
        }
      ]
    },
    {
      "cell_type": "code",
      "metadata": {
        "id": "73CuRTdDKfHP",
        "colab": {
          "base_uri": "https://localhost:8080/"
        },
        "outputId": "f36b9e6a-3d1c-48eb-8334-f31c8411059f"
      },
      "source": [
        "d['fish'] = 'wet'    # define una entrada para el diccionario\n",
        "print (d['fish'])    # Imprime \"wet\"\n",
        "print(d)"
      ],
      "execution_count": null,
      "outputs": [
        {
          "output_type": "stream",
          "text": [
            "wet\n",
            "{'cat': 'cute', 'dog': 'furry', 'fish': 'wet'}\n"
          ],
          "name": "stdout"
        }
      ]
    },
    {
      "cell_type": "code",
      "metadata": {
        "id": "8unmT-D9KfHR"
      },
      "source": [
        "print (d['monkey'])  # KeyError: 'monkey' not a key of d -> La llave 'momnkey' no existe en el diccionario d"
      ],
      "execution_count": null,
      "outputs": []
    },
    {
      "cell_type": "code",
      "metadata": {
        "id": "EB6pkZKaKfHS"
      },
      "source": [
        "print (d.get('monkey', 'N/A'))  # Obtiene un elemento considerando un valor por defecto; imprime \"N/A\"\n",
        "print (d.get('fish', 'N/A'))    # Obtiene un elemento considerando un valor por defecto; imprime \"wet\""
      ],
      "execution_count": null,
      "outputs": []
    },
    {
      "cell_type": "code",
      "metadata": {
        "id": "l0wgyzNyKfHT"
      },
      "source": [
        "del d['fish']        # Remueve un elemento de un diccionario\n",
        "print (d.get('fish', 'N/A')) # \"fish\" ya no es una llave; imprime \"N/A\""
      ],
      "execution_count": null,
      "outputs": []
    },
    {
      "cell_type": "markdown",
      "metadata": {
        "id": "I7idk4CeKfHV"
      },
      "source": [
        "Todo lo que se necesita saber sobre los diccionarios está en la [documentación](https://docs.python.org/3/library/stdtypes.html#dict)."
      ]
    },
    {
      "cell_type": "markdown",
      "metadata": {
        "id": "AUsubuViKfHV"
      },
      "source": [
        "Es fácil iterar sobre las *keys* de un diccionario:"
      ]
    },
    {
      "cell_type": "code",
      "metadata": {
        "id": "rvYm_ZExKfHW",
        "colab": {
          "base_uri": "https://localhost:8080/"
        },
        "outputId": "f3698da6-cea0-4290-978a-9b31a7c57b0c"
      },
      "source": [
        "d = {'person': 2, 'cat': 4, 'spider': 8}\n",
        "for animal in d:\n",
        "    legs = d[animal]\n",
        "    print(f'A {animal} has {legs} legs')"
      ],
      "execution_count": null,
      "outputs": [
        {
          "output_type": "stream",
          "text": [
            "A person has 2 legs\n",
            "A cat has 4 legs\n",
            "A spider has 8 legs\n"
          ],
          "name": "stdout"
        }
      ]
    },
    {
      "cell_type": "markdown",
      "metadata": {
        "id": "MpPsznfuKfHX"
      },
      "source": [
        "Si quieres acceder a las *keys* y su respectivos *values*, usa el método iteritems:"
      ]
    },
    {
      "cell_type": "code",
      "metadata": {
        "id": "Tbm2t48iKfHY"
      },
      "source": [
        "d = {'person': 2, 'cat': 4, 'spider': 8}\n",
        "for animal, legs in d.items():\n",
        "    print (f'A {animal} has {legs} legs')"
      ],
      "execution_count": null,
      "outputs": []
    },
    {
      "cell_type": "markdown",
      "metadata": {
        "id": "MTLrACT7KfHZ"
      },
      "source": [
        "Dictionary comprehensions: Estos son similares a las *list comprehensions*, pero permiten construir diccionarios fácilmente. Por ejemplo:"
      ]
    },
    {
      "cell_type": "code",
      "metadata": {
        "id": "1UL8LDocKfHZ"
      },
      "source": [
        "nums = [0, 1, 2, 3, 4]\n",
        "even_num_to_square = {x: x ** 2 for x in nums if x % 2 == 0}\n",
        "print(even_num_to_square)"
      ],
      "execution_count": null,
      "outputs": []
    },
    {
      "cell_type": "markdown",
      "metadata": {
        "id": "_1B4KkCSKfHb"
      },
      "source": [
        "####Conjuntos"
      ]
    },
    {
      "cell_type": "markdown",
      "metadata": {
        "id": "ZmeRxhk3KfHb"
      },
      "source": [
        "Un conjunto es una colección sin orden de elementos distintos. Como ejemplo simple, considera lo siguiente:"
      ]
    },
    {
      "cell_type": "code",
      "metadata": {
        "id": "cklsBT3sKfHc",
        "colab": {
          "base_uri": "https://localhost:8080/"
        },
        "outputId": "f8176206-1e94-48de-c394-6b3a96ed14ef"
      },
      "source": [
        "animals = {'cat', 'dog'}\n",
        "print('cat' in animals)   # Revisa si un elemento está en un conjunto; imprime \"True\"\n",
        "print('fish' in animals)  # imprime \"False\"\n"
      ],
      "execution_count": null,
      "outputs": [
        {
          "output_type": "stream",
          "text": [
            "True\n",
            "False\n"
          ],
          "name": "stdout"
        }
      ]
    },
    {
      "cell_type": "code",
      "metadata": {
        "id": "FoepHPl7KfHe"
      },
      "source": [
        "animals.add('fish')      # Agrega un elemento al conjunto\n",
        "print('fish' in animals)\n",
        "print(len(animals))     # Número de elementos en un conjunto;"
      ],
      "execution_count": null,
      "outputs": []
    },
    {
      "cell_type": "code",
      "metadata": {
        "id": "9RCOK5NuKfHh"
      },
      "source": [
        "animals.add('cat')       # Agregar un elemento que ya está en el conjunto no hace nada\n",
        "print(animals)\n",
        "print(len(animals))       \n",
        "animals.remove('cat')    # Remueve un elemento de un conjunto\n",
        "print(animals)\n",
        "print(len(animals))       "
      ],
      "execution_count": null,
      "outputs": []
    },
    {
      "cell_type": "markdown",
      "metadata": {
        "id": "21tS97yyKfHi"
      },
      "source": [
        "_Bucles_: La iteración sobre un conjunto tiene la misma sintaxis que la iteración sobre una lista; sin embargo, dado que los conjuntos no están ordenados, no puede hacer suposiciones sobre el orden en el que visita los elementos del conjunto:"
      ]
    },
    {
      "cell_type": "code",
      "metadata": {
        "id": "Z-VHwFIZKfHj"
      },
      "source": [
        "animals = {'cat', 'dog', 'fish'}\n",
        "for idx, animal in enumerate(animals):\n",
        "    print('{}: {}'.format(idx + 1, animal))\n",
        "# Imprime \"#1: fish\", \"#2: dog\", \"#3: cat\""
      ],
      "execution_count": null,
      "outputs": []
    },
    {
      "cell_type": "markdown",
      "metadata": {
        "id": "4m9UaPS8KfHk"
      },
      "source": [
        "Set comprehensions: Como con las listas y los diccionarios, podemos construir conjuntos fácilmente usando *set comprehension*s:"
      ]
    },
    {
      "cell_type": "code",
      "metadata": {
        "id": "kt6OqS5QKfHk"
      },
      "source": [
        "from math import sqrt\n",
        "print({int(sqrt(x)) for x in range(30)})"
      ],
      "execution_count": null,
      "outputs": []
    },
    {
      "cell_type": "markdown",
      "metadata": {
        "id": "nWViSKeZKfHm"
      },
      "source": [
        "####Tuplas"
      ]
    },
    {
      "cell_type": "markdown",
      "metadata": {
        "id": "NK6yh491KfHm"
      },
      "source": [
        "Una tupla es una lista ordenada (inmutable) de valores. Una tupla es en muchos aspectos similar a una lista; una de las diferencias más importantes es que las tuplas se pueden utilizar como claves en diccionarios y como elementos de conjuntos, mientras que las listas no. Aquí hay un ejemplo trivial:"
      ]
    },
    {
      "cell_type": "code",
      "metadata": {
        "id": "dJuXFYe8KfHn",
        "colab": {
          "base_uri": "https://localhost:8080/"
        },
        "outputId": "2209bcc7-e937-4042-db88-f2f0c0069006"
      },
      "source": [
        "d = {(x, x + 1): x for x in range(10)}  # Crea un diccionario con tuplas como keys\n",
        "t = (5, 6)       # Crea una tuple\n",
        "print(type(t))\n",
        "print(d[t])       \n",
        "print(d[(1, 2)])"
      ],
      "execution_count": null,
      "outputs": [
        {
          "output_type": "stream",
          "text": [
            "<class 'tuple'>\n",
            "5\n",
            "1\n"
          ],
          "name": "stdout"
        }
      ]
    },
    {
      "cell_type": "code",
      "metadata": {
        "id": "kc110KCRKfHq",
        "colab": {
          "base_uri": "https://localhost:8080/",
          "height": 164
        },
        "outputId": "3f821b07-5a56-440e-e52f-d65393c85828"
      },
      "source": [
        "t[0] = 1  #La tupla es inmutable. No permite asignación."
      ],
      "execution_count": null,
      "outputs": [
        {
          "output_type": "error",
          "ename": "TypeError",
          "evalue": "ignored",
          "traceback": [
            "\u001b[0;31m---------------------------------------------------------------------------\u001b[0m",
            "\u001b[0;31mTypeError\u001b[0m                                 Traceback (most recent call last)",
            "\u001b[0;32m<ipython-input-19-c72e14e4c430>\u001b[0m in \u001b[0;36m<module>\u001b[0;34m()\u001b[0m\n\u001b[0;32m----> 1\u001b[0;31m \u001b[0mt\u001b[0m\u001b[0;34m[\u001b[0m\u001b[0;36m0\u001b[0m\u001b[0;34m]\u001b[0m \u001b[0;34m=\u001b[0m \u001b[0;36m1\u001b[0m  \u001b[0;31m#La tupla es inmutable. No permite asignación.\u001b[0m\u001b[0;34m\u001b[0m\u001b[0;34m\u001b[0m\u001b[0m\n\u001b[0m",
            "\u001b[0;31mTypeError\u001b[0m: 'tuple' object does not support item assignment"
          ]
        }
      ]
    },
    {
      "cell_type": "markdown",
      "metadata": {
        "id": "LXExnRyfKfHr"
      },
      "source": [
        "###Funciones"
      ]
    },
    {
      "cell_type": "markdown",
      "metadata": {
        "id": "JybeN-KxKfHr"
      },
      "source": [
        "Las funciones de Python se definen usando la palabra clave `def`. Por ejemplo:"
      ]
    },
    {
      "cell_type": "code",
      "metadata": {
        "id": "I1cySYQ6KfHs",
        "colab": {
          "base_uri": "https://localhost:8080/"
        },
        "outputId": "c0e42004-51e0-41e3-8ca8-8e33271ba3fa"
      },
      "source": [
        "def sign(x):\n",
        "  if x > 0:\n",
        "      return 'positive'\n",
        "  elif x < 0:\n",
        "      return 'negative'\n",
        "  else:\n",
        "      return 'zero'\n",
        "\n",
        "for x in [-1, 0, 1]:\n",
        "    print(sign(x))"
      ],
      "execution_count": null,
      "outputs": [
        {
          "output_type": "stream",
          "text": [
            "negative\n",
            "zero\n",
            "positive\n"
          ],
          "name": "stdout"
        }
      ]
    },
    {
      "cell_type": "markdown",
      "metadata": {
        "id": "WH0bvaQ9KfHt"
      },
      "source": [
        "A menudo definiremos funciones para tomar argumentos de palabras clave opcionales, como loud en este ejemplo:"
      ]
    },
    {
      "cell_type": "code",
      "metadata": {
        "id": "dEvO5ZOZKfHt",
        "colab": {
          "base_uri": "https://localhost:8080/"
        },
        "outputId": "15a6b162-767b-4d0a-8f52-2fe5566de586"
      },
      "source": [
        "def hello(name, loud=False):\n",
        "    if loud:\n",
        "        print(f'HELLO, {name.upper()}')\n",
        "    else:\n",
        "        print(f'Hello, {name}!')\n",
        "\n",
        "hello('Bob')\n",
        "hello('Fred', loud=True)"
      ],
      "execution_count": null,
      "outputs": [
        {
          "output_type": "stream",
          "text": [
            "Hello, Bob!\n",
            "HELLO, FRED\n"
          ],
          "name": "stdout"
        }
      ]
    },
    {
      "cell_type": "markdown",
      "metadata": {
        "id": "ZzyN4uQiKfHu"
      },
      "source": [
        "###Clases"
      ]
    },
    {
      "cell_type": "markdown",
      "metadata": {
        "id": "BxixLp1_KfHv"
      },
      "source": [
        "La sintaxis para definir clases en Python es sencilla:"
      ]
    },
    {
      "cell_type": "code",
      "metadata": {
        "id": "fXqoDNRBKfHv"
      },
      "source": [
        "class Greeter:    # Saludador\n",
        "\n",
        "    # Constructor\n",
        "    def __init__(self, name):\n",
        "        self.name = name  # Crea un atributo (variable) de la instancia\n",
        "\n",
        "    # Método de la instancia\n",
        "    def greet(self, loud=False):\n",
        "        if loud:\n",
        "            print(f'HELLO, {self.name.upper()}!') #Para acceder a un atributo dentro de la misma clase, se usa la palabra self y luego el nombre del atributo\n",
        "        else:\n",
        "            print(f'Hello, {self.name}'.format())\n",
        "\n",
        "g = Greeter('Fred')  # Cosntruye una instancia de la clase Greeter\n",
        "g.greet()            # Llama el método de la instancia g; imprime \"Hello, Fred\"\n",
        "g.greet(loud=True)   # Llama el método de la instancia g; imprime \"HELLO, FRED!\""
      ],
      "execution_count": null,
      "outputs": []
    },
    {
      "cell_type": "code",
      "metadata": {
        "id": "3bxb6OLbiHdy"
      },
      "source": [
        ""
      ],
      "execution_count": null,
      "outputs": []
    },
    {
      "cell_type": "markdown",
      "metadata": {
        "id": "4crp8xKBKfHx"
      },
      "source": [
        "##Numpy"
      ]
    },
    {
      "cell_type": "markdown",
      "metadata": {
        "id": "Oc9h0W3lKfHx"
      },
      "source": [
        "Numpy es la biblioteca central para la computación científica en Python. Proporciona arreglos multidimensionales de alto rendimiento y herramientas para trabajar con estos arreglos."
      ]
    },
    {
      "cell_type": "markdown",
      "metadata": {
        "id": "HeAk8P37KfHz"
      },
      "source": [
        "Para usar Numpy, primero necesitamos importar el paquete `numpy`. Lo podemos importar con el alias `np`:"
      ]
    },
    {
      "cell_type": "code",
      "metadata": {
        "id": "sU_uPi5BKfH0"
      },
      "source": [
        "import numpy as np"
      ],
      "execution_count": null,
      "outputs": []
    },
    {
      "cell_type": "markdown",
      "metadata": {
        "id": "tdp1Ax4oKfH1"
      },
      "source": [
        "###Arreglos"
      ]
    },
    {
      "cell_type": "markdown",
      "metadata": {
        "id": "H-eaa3whKfH1"
      },
      "source": [
        "Un arreglo numérica es una cuadrícula de valores, todos del mismo tipo, y está indexado por una tupla de enteros no negativos. El número de dimensiones es el rango del arreglo; la forma (*shape*) de una matriz es una tupla de números enteros que dan el tamaño de la matriz a lo largo de cada dimensión."
      ]
    },
    {
      "cell_type": "markdown",
      "metadata": {
        "id": "vcTK1JGzKfH1"
      },
      "source": [
        "Podemos inicializar matrices numpy de listas de Python anidadas y acceder a elementos usando corchetes:"
      ]
    },
    {
      "cell_type": "code",
      "metadata": {
        "id": "lcyliXigKfH2",
        "colab": {
          "base_uri": "https://localhost:8080/"
        },
        "outputId": "6038f015-c4a8-42f3-f5c6-a83507e2d89c"
      },
      "source": [
        "a = np.array([1, 2, 3])  # Crea un arreglo de rango 1\n",
        "print(type(a), a.shape, a[0], a[1], a[2])\n",
        "a[0] = 5                 # Cambia un elemento del arreglo\n",
        "print(a)                  "
      ],
      "execution_count": null,
      "outputs": [
        {
          "output_type": "stream",
          "text": [
            "<class 'numpy.ndarray'> (3,) 1 2 3\n",
            "[5 2 3]\n"
          ],
          "name": "stdout"
        }
      ]
    },
    {
      "cell_type": "code",
      "metadata": {
        "id": "je7GKHnSKfH4",
        "colab": {
          "base_uri": "https://localhost:8080/"
        },
        "outputId": "30708743-6bd3-49e1-e9e1-554683b99dd8"
      },
      "source": [
        "b = np.array([[1,2,3],[4,5,6]])   # Crea un arreglo de rango 2\n",
        "print(b)"
      ],
      "execution_count": null,
      "outputs": [
        {
          "output_type": "stream",
          "text": [
            "[[1 2 3]\n",
            " [4 5 6]]\n"
          ],
          "name": "stdout"
        }
      ]
    },
    {
      "cell_type": "code",
      "metadata": {
        "id": "kRE70d-lKfH5",
        "colab": {
          "base_uri": "https://localhost:8080/"
        },
        "outputId": "8c14f195-1ecb-487f-da5d-96e5155a534c"
      },
      "source": [
        "print(b.shape)                   \n",
        "print(b[0, 0], b[0, 1], b[1, 0])"
      ],
      "execution_count": null,
      "outputs": [
        {
          "output_type": "stream",
          "text": [
            "(2, 3)\n",
            "1 2 4\n"
          ],
          "name": "stdout"
        }
      ]
    },
    {
      "cell_type": "markdown",
      "metadata": {
        "id": "A529RGqjKfH7"
      },
      "source": [
        "Numpy también proporciona muchas funciones para crear matrices:"
      ]
    },
    {
      "cell_type": "code",
      "metadata": {
        "id": "pu_qfrRfKfH8",
        "colab": {
          "base_uri": "https://localhost:8080/"
        },
        "outputId": "a4e45177-f9aa-49dc-bd42-9d59ee21bd8b"
      },
      "source": [
        "a = np.zeros((2,2))  # Crea un arreglo con ceros en todas las posiciones\n",
        "print(a, type(a))"
      ],
      "execution_count": null,
      "outputs": [
        {
          "output_type": "stream",
          "text": [
            "[[0. 0.]\n",
            " [0. 0.]] <class 'numpy.ndarray'>\n"
          ],
          "name": "stdout"
        }
      ]
    },
    {
      "cell_type": "code",
      "metadata": {
        "id": "jJHb1R1OKfH9",
        "colab": {
          "base_uri": "https://localhost:8080/"
        },
        "outputId": "cc9e2156-ff21-43ae-c673-de145a154726"
      },
      "source": [
        "b = np.ones((1,2))   # Crea un arreglo con unos en todas las posiciones\n",
        "print(b)"
      ],
      "execution_count": null,
      "outputs": [
        {
          "output_type": "stream",
          "text": [
            "[[1. 1.]]\n"
          ],
          "name": "stdout"
        }
      ]
    },
    {
      "cell_type": "code",
      "metadata": {
        "id": "1ovZqlOgKfH-",
        "colab": {
          "base_uri": "https://localhost:8080/"
        },
        "outputId": "68d9a817-5d2b-4ce7-b373-481521910f15"
      },
      "source": [
        "c = np.full((2,2), 7) # Crea un arreglo constante\n",
        "print(c) "
      ],
      "execution_count": null,
      "outputs": [
        {
          "output_type": "stream",
          "text": [
            "[[7 7]\n",
            " [7 7]]\n"
          ],
          "name": "stdout"
        }
      ]
    },
    {
      "cell_type": "code",
      "metadata": {
        "id": "GRxNDfqxKfH_",
        "colab": {
          "base_uri": "https://localhost:8080/"
        },
        "outputId": "cfea7d8c-e60e-40af-9f24-791b51ddd340"
      },
      "source": [
        "d = np.eye(2)        # Crea una matriz identidad 2x2\n",
        "print(d)"
      ],
      "execution_count": null,
      "outputs": [
        {
          "output_type": "stream",
          "text": [
            "[[1. 0.]\n",
            " [0. 1.]]\n"
          ],
          "name": "stdout"
        }
      ]
    },
    {
      "cell_type": "code",
      "metadata": {
        "id": "2aZVdrMaKfIB",
        "colab": {
          "base_uri": "https://localhost:8080/"
        },
        "outputId": "519de009-efd1-4ed0-d9f4-fe6fa55ebc33"
      },
      "source": [
        "e = np.random.random((2,2)) # Crea un arreglo con valores aleatorios entre 0 y 1\n",
        "print(e)"
      ],
      "execution_count": null,
      "outputs": [
        {
          "output_type": "stream",
          "text": [
            "[[0.02789302 0.22678913]\n",
            " [0.25764036 0.06350848]]\n"
          ],
          "name": "stdout"
        }
      ]
    },
    {
      "cell_type": "markdown",
      "metadata": {
        "id": "norJPSn-KfIC"
      },
      "source": [
        "###Array indexing"
      ]
    },
    {
      "cell_type": "markdown",
      "metadata": {
        "id": "nOJQoUSuKfIC"
      },
      "source": [
        "Numpy ofrece varias formas de indexar en arreglos.\n",
        "\n",
        "Slicing: similar a las listas de Python, los arreglos numpy se les pueden hacer slices. Dado que los arreglos pueden ser multidimensionales, se debe especificar un slice para cada dimensión del arreglo:"
      ]
    },
    {
      "cell_type": "code",
      "metadata": {
        "id": "CcNCmTVpKfIE",
        "colab": {
          "base_uri": "https://localhost:8080/"
        },
        "outputId": "39c3ee27-8b7a-45c1-ea16-ea68205133b5"
      },
      "source": [
        "import numpy as np\n",
        "\n",
        "# Crea el siguiente arreglo de rango 2 con forma (3, 4)\n",
        "# [[ 1  2  3  4]\n",
        "#  [ 5  6  7  8]\n",
        "#  [ 9 10 11 12]]\n",
        "a = np.array([[1,2,3,4], [5,6,7,8], [9,10,11,12]])\n",
        "\n",
        "# Usamos slicing para recuperar un subarreglo que consiste de las 2 primeras\n",
        "# filas y las columnas 1 y 2; b es el siguiente arreglo de forma (2, 2):\n",
        "# [[2 3]\n",
        "#  [6 7]]\n",
        "b = a[:2, 1:3]\n",
        "print(b)\n"
      ],
      "execution_count": null,
      "outputs": [
        {
          "output_type": "stream",
          "text": [
            "[[2 3]\n",
            " [6 7]]\n"
          ],
          "name": "stdout"
        }
      ]
    },
    {
      "cell_type": "markdown",
      "metadata": {
        "id": "wSkJUSXoKfIG"
      },
      "source": [
        "Un slice de un arreglo es una vista de los mismos datos, por lo que modificarla modificará la matriz original."
      ]
    },
    {
      "cell_type": "code",
      "metadata": {
        "id": "zD8J-hy9KfIG",
        "colab": {
          "base_uri": "https://localhost:8080/"
        },
        "outputId": "4c9b4bf0-8405-4c05-f7a1-2502b8943151"
      },
      "source": [
        "print(a[0, 1]) \n",
        "b[0, 0] = 77    # b[0, 0] es la misma pieza de datos que a[0, 1]\n",
        "print(a[0, 1]) "
      ],
      "execution_count": null,
      "outputs": [
        {
          "output_type": "stream",
          "text": [
            "2\n",
            "77\n"
          ],
          "name": "stdout"
        }
      ]
    },
    {
      "cell_type": "markdown",
      "metadata": {
        "id": "9O6lK1JwKfIH"
      },
      "source": [
        "También puede mezclar la indexación con enteros con la indexación con slices. Sin embargo, hacerlo producirá una matriz de rango más bajo que la matriz original."
      ]
    },
    {
      "cell_type": "code",
      "metadata": {
        "id": "Ms-9zQfSKfII",
        "colab": {
          "base_uri": "https://localhost:8080/"
        },
        "outputId": "61f5654b-352e-4965-b20f-8faa22463788"
      },
      "source": [
        "# Crea el siguiente arreglo de rango 2 con forma (3, 4)\n",
        "a = np.array([[1,2,3,4], [5,6,7,8], [9,10,11,12]])\n",
        "print(a)"
      ],
      "execution_count": null,
      "outputs": [
        {
          "output_type": "stream",
          "text": [
            "[[ 1  2  3  4]\n",
            " [ 5  6  7  8]\n",
            " [ 9 10 11 12]]\n"
          ],
          "name": "stdout"
        }
      ]
    },
    {
      "cell_type": "markdown",
      "metadata": {
        "id": "Ax8iNfkNKfIJ"
      },
      "source": [
        "Dos formas de acceder a los datos de la fila central de la matriz.\n",
        "Mezclar la indexación de enteros con *slices* produce una matriz de rango inferior, mientras que usar solo *slices* produce una matriz del mismo rango que la matriz original:"
      ]
    },
    {
      "cell_type": "code",
      "metadata": {
        "id": "ko0UALxfKfIK",
        "colab": {
          "base_uri": "https://localhost:8080/"
        },
        "outputId": "2df4b369-6cce-453f-fc2e-60de25084330"
      },
      "source": [
        "row_r1 = a[1, :]    # Vista de rango 1 de la segunda fila de a\n",
        "row_r2 = a[1:2, :]  # Vista de rango 2 de la segunda fila de a\n",
        "row_r3 = a[[1], :]  # Vista de rango 2 de la segunda fila de a\n",
        "print(row_r1, row_r1.shape) \n",
        "print(row_r2, row_r2.shape)\n",
        "print(row_r3, row_r3.shape)"
      ],
      "execution_count": null,
      "outputs": [
        {
          "output_type": "stream",
          "text": [
            "[5 6 7 8] (4,)\n",
            "[[5 6 7 8]] (1, 4)\n",
            "[[5 6 7 8]] (1, 4)\n"
          ],
          "name": "stdout"
        }
      ]
    },
    {
      "cell_type": "code",
      "metadata": {
        "id": "vKgimm5UKfIL",
        "colab": {
          "base_uri": "https://localhost:8080/"
        },
        "outputId": "bd2e5342-3f5c-4eef-adb4-fe0cc5b9eb1c"
      },
      "source": [
        "# Podemos hacer la misma distinción al acceder a las columnas de un arreglo:\n",
        "col_r1 = a[:, 1]\n",
        "col_r2 = a[:, 1:2]\n",
        "print (col_r1, col_r1.shape)\n",
        "print ()\n",
        "print (col_r2, col_r2.shape)"
      ],
      "execution_count": null,
      "outputs": [
        {
          "output_type": "stream",
          "text": [
            "[ 2  6 10] (3,)\n",
            "\n",
            "[[ 2]\n",
            " [ 6]\n",
            " [10]] (3, 1)\n"
          ],
          "name": "stdout"
        }
      ]
    },
    {
      "cell_type": "markdown",
      "metadata": {
        "id": "PFKMC2QCKfIM"
      },
      "source": [
        "Indexación entera de arreglos: cuando se indexa arreglos de números utilizando *slicing*, la vista de arreglo resultante siempre será una submatriz de la matriz original. Por el contrario, la indexación de matrices enteras le permite construir matrices arbitrarias utilizando los datos de otra matriz. Aquí hay un ejemplo:"
      ]
    },
    {
      "cell_type": "code",
      "metadata": {
        "id": "8uu66S-6KfIM",
        "colab": {
          "base_uri": "https://localhost:8080/"
        },
        "outputId": "ad1a6037-6c9d-4c61-8d80-0ff45cf75e9e"
      },
      "source": [
        "a = np.array([[1,2], [3, 4], [5, 6]])\n",
        "\n",
        "# Un ejemplo de indexación entera de arreglos.\n",
        "# El arreglo resultante tendrá forma (3,) y es el siguiente: \n",
        "print (a[[0, 1, 2], [0, 1, 0]])\n",
        "\n",
        "# El ejemplo anterior de indexación entera de arreglo es equivalente a esto:\n",
        "print (np.array([a[0, 0], a[1, 1], a[2, 0]]))"
      ],
      "execution_count": null,
      "outputs": [
        {
          "output_type": "stream",
          "text": [
            "[1 4 5]\n",
            "[1 4 5]\n"
          ],
          "name": "stdout"
        }
      ]
    },
    {
      "cell_type": "code",
      "metadata": {
        "id": "L-2SNhWoKfIN",
        "colab": {
          "base_uri": "https://localhost:8080/"
        },
        "outputId": "2e40218d-e19f-4f9b-bbd0-051aee93286d"
      },
      "source": [
        "# Al usar indexación entera de arreglos, se puede reutilizar el mismo elemento\n",
        "# del arreglo original:\n",
        "print (a[[0, 0], [1, 1]])\n",
        "\n",
        "# Equivalente al ejemplo previo de indexación entera de arreglos\n",
        "print (np.array([a[0, 1], a[0, 1]]))"
      ],
      "execution_count": null,
      "outputs": [
        {
          "output_type": "stream",
          "text": [
            "[2 2]\n",
            "[2 2]\n"
          ],
          "name": "stdout"
        }
      ]
    },
    {
      "cell_type": "markdown",
      "metadata": {
        "id": "3SY37v6nKfIO"
      },
      "source": [
        "Un truco útil con la indexación de matrices de enteros es seleccionar o mutar un elemento de cada fila de una matriz:"
      ]
    },
    {
      "cell_type": "code",
      "metadata": {
        "id": "XqA6zA1CKfIO",
        "colab": {
          "base_uri": "https://localhost:8080/"
        },
        "outputId": "361fb905-098e-4acc-92d5-12be9b684ae9"
      },
      "source": [
        "# Creamos un arreglo nuevo del que seleccionaremos elementos\n",
        "a = np.array([[1,2,3], [4,5,6], [7,8,9], [10, 11, 12]])\n",
        "print (a)"
      ],
      "execution_count": null,
      "outputs": [
        {
          "output_type": "stream",
          "text": [
            "[[ 1  2  3]\n",
            " [ 4  5  6]\n",
            " [ 7  8  9]\n",
            " [10 11 12]]\n"
          ],
          "name": "stdout"
        }
      ]
    },
    {
      "cell_type": "code",
      "metadata": {
        "id": "JAjZgwk2KfIP"
      },
      "source": [
        "# Creamos un arreglo de índices\n",
        "b = np.array([0, 2, 0, 1])\n",
        "\n",
        "# Seleccionamos un elemento de cada fila usando los índices en b\n",
        "print(a[np.arange(4), b])  # Imprime \"[ 1  6  7 11]\""
      ],
      "execution_count": null,
      "outputs": []
    },
    {
      "cell_type": "code",
      "metadata": {
        "id": "eiWll0YGKfIQ"
      },
      "source": [
        "# Mutamos un elemento de cada fila usando los índices en b\n",
        "a[np.arange(4), b] += 10\n",
        "print(a)"
      ],
      "execution_count": null,
      "outputs": []
    },
    {
      "cell_type": "markdown",
      "metadata": {
        "id": "BZDY9ur9KfIR"
      },
      "source": [
        "Indexación booleana de arreglos: la indexación booleana de arreglos permite seleccionar elementos arbitrarios de una matriz. Con frecuencia, este tipo de indexación se utiliza para seleccionar los elementos de una matriz que satisfacen alguna condición. Aquí hay un ejemplo:"
      ]
    },
    {
      "cell_type": "code",
      "metadata": {
        "id": "HhUuILi0KfIS",
        "colab": {
          "base_uri": "https://localhost:8080/"
        },
        "outputId": "78e1e03f-e187-4ad0-8be7-b09ec1491b57"
      },
      "source": [
        "import numpy as np\n",
        "\n",
        "a = np.array([[1,2], [3, 4], [5, 6]])\n",
        "\n",
        "bool_idx = (a > 2)  # Encuentra los elementos que son mayores que 2;\n",
        "                    # esto devuelve un arreglo numpy de booleanos de la misma\n",
        "                    # forma de a, donde cada componente de bool_idx informa\n",
        "                    # si el elemento de a es > 2.\n",
        "\n",
        "print(bool_idx)"
      ],
      "execution_count": null,
      "outputs": [
        {
          "output_type": "stream",
          "text": [
            "[[False False]\n",
            " [ True  True]\n",
            " [ True  True]]\n"
          ],
          "name": "stdout"
        }
      ]
    },
    {
      "cell_type": "code",
      "metadata": {
        "id": "eFc19fAaKfIT",
        "colab": {
          "base_uri": "https://localhost:8080/"
        },
        "outputId": "3f66bd5c-dea3-467a-b5d1-45c7f7d19bf8"
      },
      "source": [
        "# Usamos indexación booleana de arreglos para construir un arreglo de rango 1\n",
        "# que consiste de los elementos que corresponden alos valores con True del\n",
        "# arreglo bool_idx\n",
        "print(a[bool_idx])\n",
        "\n",
        "# Podemos hacer todo lo arrba con esta instrucción concisa:\n",
        "print(a[a > 2])\n"
      ],
      "execution_count": null,
      "outputs": [
        {
          "output_type": "stream",
          "text": [
            "[3 4 5 6]\n",
            "[3 4 5 6]\n"
          ],
          "name": "stdout"
        }
      ]
    },
    {
      "cell_type": "markdown",
      "metadata": {
        "id": "hG2hc9TeKfIW"
      },
      "source": [
        "Por brevedad, hemos omitido muchos detalles sobre la indexación de arreglos numpy; si quieres saber más debes leer la documentación."
      ]
    },
    {
      "cell_type": "markdown",
      "metadata": {
        "id": "yyGwfLC7KfIW"
      },
      "source": [
        "###Tipos de datos"
      ]
    },
    {
      "cell_type": "markdown",
      "metadata": {
        "id": "xzNgiJplKfIX"
      },
      "source": [
        "Cada arreglo numpy es una cuadrícula de elementos del mismo tipo. Numpy proporciona un gran conjunto de tipos de datos numéricos que puede utilizar para construir matrices. Numpy intenta adivinar un tipo de datos cuando crea una matriz, pero las funciones que construyen matrices generalmente también incluyen un argumento opcional para especificar explícitamente el tipo de datos. Aquí hay un ejemplo:"
      ]
    },
    {
      "cell_type": "code",
      "metadata": {
        "id": "WUIOXObYKfIX",
        "colab": {
          "base_uri": "https://localhost:8080/"
        },
        "outputId": "15c232a2-aec5-4a1d-f4c7-a547a5e58ae7"
      },
      "source": [
        "x = np.array([1, 2])  # Permite a numpy elegir el tipo de datos\n",
        "y = np.array([1.0, 2.0])  # Permite a numpy elegir el tipo de datos\n",
        "z = np.array([1, 2], dtype=np.int64)  # Fuerza a un tipo particular de datos\n",
        "\n",
        "print (x.dtype, y.dtype, z.dtype)"
      ],
      "execution_count": null,
      "outputs": [
        {
          "output_type": "stream",
          "text": [
            "int64 float64 int64\n"
          ],
          "name": "stdout"
        }
      ]
    },
    {
      "cell_type": "markdown",
      "metadata": {
        "id": "As4J0tOWKfIY"
      },
      "source": [
        "Puedes leer todo sobre tipos de datos numpy en la [documentación](http://docs.scipy.org/doc/numpy/reference/arrays.dtypes.html)."
      ]
    },
    {
      "cell_type": "markdown",
      "metadata": {
        "id": "kwHVAQ5gKfIY"
      },
      "source": [
        "###Matemática de arreglos"
      ]
    },
    {
      "cell_type": "markdown",
      "metadata": {
        "id": "xcoFZ-4OKfIY"
      },
      "source": [
        "Las funciones matemáticas básicas operan componente a componente y están disponibles usando operadores y como funciones en el módulo numpy:"
      ]
    },
    {
      "cell_type": "code",
      "metadata": {
        "id": "vtwT9xcyKfIZ",
        "colab": {
          "base_uri": "https://localhost:8080/"
        },
        "outputId": "958c0821-b1cb-4789-db14-16e1ffb7f8ce"
      },
      "source": [
        "x = np.array([[1,2],[3,4]], dtype=np.float64)\n",
        "y = np.array([[5,6],[7,8]], dtype=np.float64)\n",
        "\n",
        "# Suma componente a componente. Ambas producen el mismo arreglo.\n",
        "print(x + y)\n",
        "print(np.add(x, y))"
      ],
      "execution_count": null,
      "outputs": [
        {
          "output_type": "stream",
          "text": [
            "[[ 6.  8.]\n",
            " [10. 12.]]\n",
            "[[ 6.  8.]\n",
            " [10. 12.]]\n"
          ],
          "name": "stdout"
        }
      ]
    },
    {
      "cell_type": "code",
      "metadata": {
        "id": "Mx0TL7MGKfIa",
        "colab": {
          "base_uri": "https://localhost:8080/"
        },
        "outputId": "a9d3f757-3796-4edf-84ab-44e8e786e8f1"
      },
      "source": [
        "# Resta componente a componente. Ambas producen el mismo arreglo.\n",
        "print(x - y)\n",
        "print(np.subtract(x, y))"
      ],
      "execution_count": null,
      "outputs": [
        {
          "output_type": "stream",
          "text": [
            "[[-4. -4.]\n",
            " [-4. -4.]]\n",
            "[[-4. -4.]\n",
            " [-4. -4.]]\n"
          ],
          "name": "stdout"
        }
      ]
    },
    {
      "cell_type": "code",
      "metadata": {
        "id": "DN-L41CfKfIb",
        "colab": {
          "base_uri": "https://localhost:8080/"
        },
        "outputId": "df3456d0-cbdc-44c7-b30f-234b511b081f"
      },
      "source": [
        "# Multiplicación componente a componente. Ambas producen el mismo arreglo.\n",
        "print(x * y)\n",
        "print(np.multiply(x, y))"
      ],
      "execution_count": null,
      "outputs": [
        {
          "output_type": "stream",
          "text": [
            "[[ 5. 12.]\n",
            " [21. 32.]]\n",
            "[[ 5. 12.]\n",
            " [21. 32.]]\n"
          ],
          "name": "stdout"
        }
      ]
    },
    {
      "cell_type": "code",
      "metadata": {
        "id": "p5L7YLS7KfIc",
        "colab": {
          "base_uri": "https://localhost:8080/"
        },
        "outputId": "8cef6a40-128c-4ee2-ab6f-f069c6cb8a9b"
      },
      "source": [
        "# División componente a componente. Ambas producen el mismo arreglo.\n",
        "# [[ 0.2         0.33333333]\n",
        "#  [ 0.42857143  0.5       ]]\n",
        "print(x / y)\n",
        "print(np.divide(x, y))"
      ],
      "execution_count": null,
      "outputs": [
        {
          "output_type": "stream",
          "text": [
            "[[0.2        0.33333333]\n",
            " [0.42857143 0.5       ]]\n",
            "[[0.2        0.33333333]\n",
            " [0.42857143 0.5       ]]\n"
          ],
          "name": "stdout"
        }
      ]
    },
    {
      "cell_type": "code",
      "metadata": {
        "id": "wChMasjjKfId",
        "colab": {
          "base_uri": "https://localhost:8080/"
        },
        "outputId": "eb5cddd8-5325-4a7c-a888-b57ce7c39637"
      },
      "source": [
        "# Raíz cuadrada componente a componente. Ambas producen el mismo arreglo.\n",
        "# [[ 1.          1.41421356]\n",
        "#  [ 1.73205081  2.        ]]\n",
        "print(np.sqrt(x))"
      ],
      "execution_count": null,
      "outputs": [
        {
          "output_type": "stream",
          "text": [
            "[[1.         1.41421356]\n",
            " [1.73205081 2.        ]]\n"
          ],
          "name": "stdout"
        }
      ]
    },
    {
      "cell_type": "markdown",
      "metadata": {
        "id": "hd0eqO36KfIe"
      },
      "source": [
        "A diferencia de de otros lenguajes, `*` es una multiplicación componente a componente, no una multiplicación de matrices. En su lugar, usamos la función `dot` para calcular los productos internos de los vectores, para multiplicar un vector por una matriz y para multiplicar matrices. `dot` está disponible como función en el módulo numpy y como método de instancia de objetos de matriz:"
      ]
    },
    {
      "cell_type": "code",
      "metadata": {
        "id": "U7X84tjGKfIf",
        "colab": {
          "base_uri": "https://localhost:8080/"
        },
        "outputId": "55a0590b-ca89-4a68-e636-ef1c6200edf6"
      },
      "source": [
        "x = np.array([[1,2],[3,4]])\n",
        "y = np.array([[5,6],[7,8]])\n",
        "\n",
        "v = np.array([9,10])\n",
        "w = np.array([11, 12])\n",
        "\n",
        "# Producto interno de vectores. Ambos producen 219\n",
        "print(v.dot(w))\n",
        "print(np.dot(v, w))\n",
        "print(v @ w)"
      ],
      "execution_count": null,
      "outputs": [
        {
          "output_type": "stream",
          "text": [
            "219\n",
            "219\n",
            "219\n"
          ],
          "name": "stdout"
        }
      ]
    },
    {
      "cell_type": "code",
      "metadata": {
        "id": "KR8w3HeoKfIg",
        "colab": {
          "base_uri": "https://localhost:8080/"
        },
        "outputId": "d1a183f6-bf7a-46b6-d715-4e611bb81abb"
      },
      "source": [
        "# Producto matricial / vector product; ambos producen el arreglo de rango 1 [29 67]\n",
        "print(x.dot(v))\n",
        "print(np.dot(x, v))"
      ],
      "execution_count": null,
      "outputs": [
        {
          "output_type": "stream",
          "text": [
            "[29 67]\n",
            "[29 67]\n"
          ],
          "name": "stdout"
        }
      ]
    },
    {
      "cell_type": "code",
      "metadata": {
        "id": "cbPzcSQAKfIi",
        "colab": {
          "base_uri": "https://localhost:8080/"
        },
        "outputId": "9ee66b0b-f1c8-444d-87b8-48e4dc171133"
      },
      "source": [
        "# Producto matricial / matrix product; ambos producen el arreglo de rango 2\n",
        "# [[19 22]\n",
        "#  [43 50]]\n",
        "print(x.dot(y))\n",
        "print(np.dot(x, y))\n",
        "print(x @ y)"
      ],
      "execution_count": null,
      "outputs": [
        {
          "output_type": "stream",
          "text": [
            "[[19 22]\n",
            " [43 50]]\n",
            "[[19 22]\n",
            " [43 50]]\n",
            "[[19 22]\n",
            " [43 50]]\n"
          ],
          "name": "stdout"
        }
      ]
    },
    {
      "cell_type": "markdown",
      "metadata": {
        "id": "oNeve2F0WzBm"
      },
      "source": [
        "Para realizar otras operaciones de matrices típicas del álgebra lineal como el calculo de la matriz inversa, podemos utilizar el submódulo `linalg` de `numpy`:"
      ]
    },
    {
      "cell_type": "code",
      "metadata": {
        "id": "65AnRtaVjILT",
        "colab": {
          "base_uri": "https://localhost:8080/"
        },
        "outputId": "d1dd4797-151e-4f84-910c-a8016bc1ed4f"
      },
      "source": [
        "from numpy.linalg import inv\n",
        "\n",
        "x = np.array([[1,2],[3,4]])\n",
        "print(inv(x))"
      ],
      "execution_count": null,
      "outputs": [
        {
          "output_type": "stream",
          "text": [
            "[[-2.   1. ]\n",
            " [ 1.5 -0.5]]\n"
          ],
          "name": "stdout"
        }
      ]
    },
    {
      "cell_type": "markdown",
      "metadata": {
        "id": "7jyZkCDlKfIj"
      },
      "source": [
        "Numpy proporciona muchas funciones útiles para realizar cálculos en matrices; uno de los más útiles es `sum`:"
      ]
    },
    {
      "cell_type": "code",
      "metadata": {
        "id": "-pzu6vJJKfIk",
        "colab": {
          "base_uri": "https://localhost:8080/"
        },
        "outputId": "6f2de9c3-4ad1-4834-e554-d49caf5d8f03"
      },
      "source": [
        "x = np.array([[1,2],[3,4]])\n",
        "\n",
        "print(np.sum(x))  # Computa la suma de todos los elementos; imprime \"10\"\n",
        "print(np.sum(x, axis=0))  # Computa la suma de cada columna; imprime \"[4 6]\"\n",
        "print(np.sum(x, axis=1))  # Computa la suma de cada fila; imprime \"[3 7]\""
      ],
      "execution_count": null,
      "outputs": [
        {
          "output_type": "stream",
          "text": [
            "10\n",
            "[4 6]\n",
            "[3 7]\n"
          ],
          "name": "stdout"
        }
      ]
    },
    {
      "cell_type": "markdown",
      "metadata": {
        "id": "EUiTpBVdKfIn"
      },
      "source": [
        "Puedes encontrar la lista completa de funciones matemáticas proporcionadas por numpy en la [documentación](http://docs.scipy.org/doc/numpy/reference/routines.math.html).\n",
        "\n",
        "Además de calcular funciones matemáticas utilizando arreglos, con frecuencia necesitamos cambiar la forma o manipular datos en arreglos. El ejemplo más simple de este tipo de operación es la transposición de una matriz; para transponer una matriz, simplemente use el atributo T de un objeto de matriz:"
      ]
    },
    {
      "cell_type": "code",
      "metadata": {
        "id": "KctyxTmEKfIn",
        "colab": {
          "base_uri": "https://localhost:8080/"
        },
        "outputId": "68428f2e-8a79-4155-d488-7be052cc517f"
      },
      "source": [
        "print(x)\n",
        "print(x.T)"
      ],
      "execution_count": null,
      "outputs": [
        {
          "output_type": "stream",
          "text": [
            "[[1 2]\n",
            " [3 4]]\n",
            "[[1 3]\n",
            " [2 4]]\n"
          ],
          "name": "stdout"
        }
      ]
    },
    {
      "cell_type": "code",
      "metadata": {
        "id": "YfpvratDKfIp",
        "colab": {
          "base_uri": "https://localhost:8080/"
        },
        "outputId": "fcb483ff-efcc-4af4-ad1e-5071825761f4"
      },
      "source": [
        "v = np.array([[1,2,3]])\n",
        "print(v)\n",
        "print(v.T)"
      ],
      "execution_count": null,
      "outputs": [
        {
          "output_type": "stream",
          "text": [
            "[[1 2 3]]\n",
            "[[1]\n",
            " [2]\n",
            " [3]]\n"
          ],
          "name": "stdout"
        }
      ]
    },
    {
      "cell_type": "markdown",
      "metadata": {
        "id": "z0OMgZPqKfIp"
      },
      "source": [
        "###Broadcasting"
      ]
    },
    {
      "cell_type": "markdown",
      "metadata": {
        "id": "mR1EPvLeKfIq"
      },
      "source": [
        "Broadcasting es un mecanismo poderoso que permite a numpy trabajar con matrices de diferentes formas al realizar operaciones aritméticas. Con frecuencia tenemos una matriz más pequeña y una matriz más grande, y queremos usar la matriz más pequeña varias veces para realizar alguna operación en la matriz más grande.\n",
        "\n",
        "Por ejemplo, suponga que queremos agregar un vector constante a cada fila de una matriz. Podríamos hacerlo así:"
      ]
    },
    {
      "cell_type": "code",
      "metadata": {
        "id": "DvHCiDxKKfIq"
      },
      "source": [
        "# Sumaremos el vectov a cada fila de la matriz x,\n",
        "# guardando el resultado en la matriz y\n",
        "x = np.array([[1,2,3], [4,5,6], [7,8,9], [10, 11, 12]])\n",
        "v = np.array([1, 0, 1])\n",
        "y = np.empty_like(x)   # Creamos una matriz vacía con la misma forma de x\n",
        "\n",
        "# Suma el vector v a cada fila de la matriz x usando un bucle explícito\n",
        "for i in range(4):\n",
        "    y[i, :] = x[i, :] + v\n",
        "\n",
        "print (y)"
      ],
      "execution_count": null,
      "outputs": []
    },
    {
      "cell_type": "markdown",
      "metadata": {
        "id": "exGkfJ1oKfIr"
      },
      "source": [
        "Esto funciona; sin embargo, cuando la matriz `x` es muy grande, calcular un buble explícito en Python podría ser lento. Tenga en cuenta que agregar el vector `v` a cada fila de la matriz `x` es equivalente a formar una matriz `vv` apilando múltiples copias de `v` verticalmente y luego realizar la suma de elementos de` x` y `vv`. Podríamos implementar este enfoque de esta manera:"
      ]
    },
    {
      "cell_type": "code",
      "metadata": {
        "id": "1KiY6FTNKfIs"
      },
      "source": [
        "vv = np.tile(v, (4, 1))  # Apila 4 copias de v encima una de otra\n",
        "print (vv)               # imprime \"[[1 0 1]\n",
        "                         #          [1 0 1]\n",
        "                         #          [1 0 1]\n",
        "                         #          [1 0 1]]\""
      ],
      "execution_count": null,
      "outputs": []
    },
    {
      "cell_type": "code",
      "metadata": {
        "id": "O0zpCx8dKfIs"
      },
      "source": [
        "y = x + vv  # Suma x & vv componente a componente\n",
        "print (y)"
      ],
      "execution_count": null,
      "outputs": []
    },
    {
      "cell_type": "markdown",
      "metadata": {
        "id": "rPE_dkIbKfIt"
      },
      "source": [
        "El broadcasting de `numpy` nos permite realizar esta operación sin la necesidad de crear realmente multiples copias de `v`. Considere esta versión usando broadcasting:"
      ]
    },
    {
      "cell_type": "code",
      "metadata": {
        "id": "pMCcy0iIKfIt"
      },
      "source": [
        "import numpy as np\n",
        "\n",
        "# Sumaremos el vector v a cada fila de la matriz x,\n",
        "# guardando el resultado en la matriz y\n",
        "x = np.array([[1,2,3], [4,5,6], [7,8,9], [10, 11, 12]])\n",
        "v = np.array([1, 0, 1])\n",
        "y = x + v  # Sumamos v a cada fila de x usando broadcasting\n",
        "print (y)"
      ],
      "execution_count": null,
      "outputs": []
    },
    {
      "cell_type": "markdown",
      "metadata": {
        "id": "dq72lp8YKfIu"
      },
      "source": [
        "La línea `y = x + v` funciona aunque` x` tiene forma `(4, 3)` y `v` tiene forma` (3,) `debido al *broadcasting*; esta línea funciona como si `v` realmente tuviera la forma `(4, 3)`, donde cada fila sería una copia de `v`, y la suma se realizara por elementos.\n",
        "\n",
        "El *broadcasting* de dos matrices juntas sigue estas reglas:\n",
        "\n",
        "1. Si las matrices no tienen el mismo rango, antepon 1 a la forma de la matriz de rango inferior hasta que ambas formas tengan la misma longitud.\n",
        "2. Se dice que las dos matrices son compatibles en una dimensión si tienen el mismo tamaño en la dimensión, o si una de las matrices tiene el tamaño 1 en esa dimensión.\n",
        "3. Los arreglos pueden operarse usando *broadcasting* si son compatibles en todas las dimensiones.\n",
        "4. Después del *broadcasting*, cada matriz se comporta como si tuviese una forma igual al máximo de formas de los dos elementos de entrada.\n",
        "5. En cualquier dimensión donde una matriz tiene un tamaño 1 y la otra matriz tiene un tamaño mayor que 1, la primera matriz se comporta como si se hubiera copiado a lo largo de esa dimensión.\n",
        "\n",
        "Si esta explicación no tiene sentido, intenta leer la explicación de la [documentación](http://docs.scipy.org/doc/numpy/user/basics.broadcasting.html) o esta [explicación](http://wiki.scipy.org/EricsBroadcastingDoc).\n",
        "\n",
        "Las funciones que admiten *broadcasting* se conocen como funciones universales. Puede encontrar la lista de todas las funciones universales en la [documentación](http://docs.scipy.org/doc/numpy/reference/ufuncs.html#available-ufuncs).\n",
        "\n",
        "Estas son algunas aplicaciones de la *broadcasting*:"
      ]
    },
    {
      "cell_type": "code",
      "metadata": {
        "id": "WdO5Q2ApKfIu",
        "colab": {
          "base_uri": "https://localhost:8080/"
        },
        "outputId": "e3b1410b-0975-4caf-dff8-616dba966159"
      },
      "source": [
        "# Computar productos externos de vectores\n",
        "v = np.array([1,2,3])  # v tiene forma (3,)\n",
        "w = np.array([4,5])    # w tiene forma (2,)\n",
        "# Para computar el producto externo, primero cambimos la forma de v para que sea\n",
        "# un vector columna con forma; ahora podemos hacer broadcast contra w para \n",
        "# encontrar una salida de forma (3, 2), que es el producto externo de v & w:\n",
        "\n",
        "print(np.reshape(v, (3, 1)) * w)"
      ],
      "execution_count": null,
      "outputs": [
        {
          "output_type": "stream",
          "text": [
            "[[ 4  5]\n",
            " [ 8 10]\n",
            " [12 15]]\n"
          ],
          "name": "stdout"
        }
      ]
    },
    {
      "cell_type": "code",
      "metadata": {
        "id": "NkKdM1m6KfIv"
      },
      "source": [
        "# Sumar un vector a cada fila de una matriz\n",
        "x = np.array([[1,2,3], [4,5,6]])\n",
        "# x tiene forma (2, 3) & v tiene forma (3,) haciendo broadcast a (2, 3),\n",
        "# resultando en la siguiente matriz:\n",
        "\n",
        "print(x + v)"
      ],
      "execution_count": null,
      "outputs": []
    },
    {
      "cell_type": "code",
      "metadata": {
        "id": "ZH_FzyNtKfIw"
      },
      "source": [
        "# Sumar un vector a cada columna de una matriz\n",
        "# x tiene forma (2, 3) & w tiene forma (2,).\n",
        "# Si tranponemos x entonces tendrá forma (3, 2) y se puede hacer broadcast\n",
        "# contra w para lleegar a un resultado de forma (3, 2); transponiedo el \n",
        "# resultado se llega al resultado final de forma (2, 3) que es la matriz x con\n",
        "# el vector w sumado a cada columna. Obteniendo la siguiente matriz:\n",
        "\n",
        "print((x.T + w).T)"
      ],
      "execution_count": null,
      "outputs": []
    },
    {
      "cell_type": "code",
      "metadata": {
        "id": "84uglG8rKfIx"
      },
      "source": [
        "# Otra solución es cambiar la forma de w a un vector fila de forma (2, 1);\n",
        "# luego podemos hacer broadcast contra x para producir el mismo resultado. \n",
        "print(x + np.reshape(w, (2, 1)))"
      ],
      "execution_count": null,
      "outputs": []
    },
    {
      "cell_type": "code",
      "metadata": {
        "id": "OL5EzXUoKfIy"
      },
      "source": [
        "# Multiplicar una matriz por una constante:\n",
        "# x tiene forma (2, 3). Numpy trata los escalares como arreglos de forma ();\n",
        "# estos pueden operarse con broadcast a la forma (2, 3), produciendo el\n",
        "# siguiente arreglo:\n",
        "print(x * 2)"
      ],
      "execution_count": null,
      "outputs": []
    },
    {
      "cell_type": "markdown",
      "metadata": {
        "id": "lvl2xPbKKfIy"
      },
      "source": [
        "Broadcasting typically makes your code more concise and faster, so you should strive to use it where possible."
      ]
    },
    {
      "cell_type": "markdown",
      "metadata": {
        "id": "OtP8X3ljKfIz"
      },
      "source": [
        "Esta breve descripción general ha abordado muchas de las cosas importantes que necesita saber sobre numpy, pero está lejos de ser completa. Consulte la [referencia de numpy](http://docs.scipy.org/doc/numpy/reference/) para obtener más información sobre numpy."
      ]
    },
    {
      "cell_type": "markdown",
      "metadata": {
        "id": "0E9iOkzdKfIz"
      },
      "source": [
        "##Matplotlib"
      ]
    },
    {
      "cell_type": "markdown",
      "metadata": {
        "id": "JfyMygvWKfIz"
      },
      "source": [
        "Matplotlib es una biblioteca de graficado. En esta sección, haremos una breve introducción al módulo `matplotlib.pyplot`."
      ]
    },
    {
      "cell_type": "code",
      "metadata": {
        "id": "jS31_lsSKfI0"
      },
      "source": [
        "import matplotlib.pyplot as plt"
      ],
      "execution_count": null,
      "outputs": []
    },
    {
      "cell_type": "markdown",
      "metadata": {
        "id": "dV7Kp27GKfI1"
      },
      "source": [
        "Al ejecutar este comando especial de iPython, mostraremos gráficos en línea:"
      ]
    },
    {
      "cell_type": "code",
      "metadata": {
        "id": "zjSXLUW9KfI1"
      },
      "source": [
        "%matplotlib inline"
      ],
      "execution_count": null,
      "outputs": []
    },
    {
      "cell_type": "markdown",
      "metadata": {
        "id": "JhpD7Dk0KfI2"
      },
      "source": [
        "###Plotting"
      ]
    },
    {
      "cell_type": "markdown",
      "metadata": {
        "id": "EOhcM1yRKfI2"
      },
      "source": [
        "La función más importante en `matplotlib` es plot, que le permite graficar datos 2D. Aquí hay un ejemplo simple:"
      ]
    },
    {
      "cell_type": "code",
      "metadata": {
        "id": "XNiSzZ1GKfI2"
      },
      "source": [
        "# Computa las cordenadas x & y para puntos en las curvas seno\n",
        "x = np.arange(0, 3 * np.pi, 0.1)\n",
        "y = np.sin(x)\n",
        "\n",
        "# Hace un plot de los puntos usando matplotlib\n",
        "plt.plot(x, y)\n",
        "\n",
        "# Muestra la figura.\n",
        "plt.show()"
      ],
      "execution_count": null,
      "outputs": []
    },
    {
      "cell_type": "markdown",
      "metadata": {
        "id": "5y_Cj8eIKfI3"
      },
      "source": [
        "Con solo un poco de trabajo adicional, podemos hacer plot fácilmente de varias líneas a la vez, agregar un título, una leyenda y etiquetas de eje:"
      ]
    },
    {
      "cell_type": "code",
      "metadata": {
        "id": "LMkeggyZKfI3"
      },
      "source": [
        "y_sin = np.sin(x)\n",
        "y_cos = np.cos(x)\n",
        "\n",
        "# Hace un plot de los puntos usando matplotlib\n",
        "plt.plot(x, y_sin)\n",
        "plt.plot(x, y_cos)\n",
        "plt.xlabel('x axis label')\n",
        "plt.ylabel('y axis label')\n",
        "plt.title('Sine and Cosine')\n",
        "plt.legend(['Sine', 'Cosine'])\n",
        "\n",
        "# Muestra la figura.\n",
        "plt.show()"
      ],
      "execution_count": null,
      "outputs": []
    },
    {
      "cell_type": "markdown",
      "metadata": {
        "id": "5GsKDkrlKfI4"
      },
      "source": [
        "###Subplots "
      ]
    },
    {
      "cell_type": "markdown",
      "metadata": {
        "id": "DGjGTtSnKfI4"
      },
      "source": [
        "Puedes hacer plots de diferentes cosas en la misma figura usando la función de `subplot`. Aquí hay un ejemplo:"
      ]
    },
    {
      "cell_type": "code",
      "metadata": {
        "id": "RHKTwmSWKfI4"
      },
      "source": [
        "# Computa las cordenadas x & y para puntos en las curvas seno y coseno\n",
        "x = np.arange(0, 3 * np.pi, 0.1)\n",
        "y_sin = np.sin(x)\n",
        "y_cos = np.cos(x)\n",
        "\n",
        "# DEfine una cuadrícula subplot que tiene alto 2 y ancho 1,\n",
        "# y activa el primer subplot.\n",
        "plt.subplot(2, 1, 1)\n",
        "\n",
        "# Hace el primer plot\n",
        "plt.plot(x, y_sin)\n",
        "plt.title('Sine')\n",
        "\n",
        "# Activa el segundo subplot y realiza el segundo plot.\n",
        "plt.subplot(2, 1, 2)\n",
        "plt.plot(x, y_cos)\n",
        "plt.title('Cosine')\n",
        "\n",
        "# Muestra la figura.\n",
        "plt.show()"
      ],
      "execution_count": null,
      "outputs": []
    },
    {
      "cell_type": "markdown",
      "metadata": {
        "id": "bRN81umZKfI5"
      },
      "source": [
        "Puede leer mucho más sobre la función `subplot` en la [documentación](http://matplotlib.org/api/pyplot_api.html#matplotlib.pyplot.subplot)."
      ]
    },
    {
      "cell_type": "code",
      "metadata": {
        "id": "hPCqvPflKfI6"
      },
      "source": [
        ""
      ],
      "execution_count": null,
      "outputs": []
    }
  ]
}